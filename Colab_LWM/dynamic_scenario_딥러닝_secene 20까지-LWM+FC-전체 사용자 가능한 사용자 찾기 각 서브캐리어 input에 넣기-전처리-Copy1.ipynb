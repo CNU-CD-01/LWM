{
 "cells": [
  {
   "cell_type": "markdown",
   "id": "eeacb7fd",
   "metadata": {},
   "source": [
    "## import"
   ]
  },
  {
   "cell_type": "code",
   "execution_count": 1,
   "id": "0ec90d17",
   "metadata": {},
   "outputs": [],
   "source": [
    "import torch\n",
    "import torch.nn as nn\n",
    "import torch.optim as optim\n",
    "import torchvision\n",
    "import torchvision.transforms as transforms\n",
    "from torch.utils.data import TensorDataset, DataLoader, random_split\n",
    "#LWM을 하기위한 라이브러리 가져오기\n",
    "import DeepMIMOv3\n",
    "import numpy as np\n",
    "from pprint import pprint\n",
    "import matplotlib.pyplot as plt\n",
    "import time\n",
    "\n",
    "\n",
    "plt . rcParams [ 'figure.figsize' ]  =  [ 12 ,  8 ]  # 기본 플롯 크기 설정"
   ]
  },
  {
   "cell_type": "markdown",
   "id": "38e17e0b",
   "metadata": {},
   "source": [
    "## GPU설정"
   ]
  },
  {
   "cell_type": "code",
   "execution_count": 2,
   "id": "47baa533",
   "metadata": {},
   "outputs": [
    {
     "name": "stdout",
     "output_type": "stream",
     "text": [
      "cuda\n"
     ]
    }
   ],
   "source": [
    "# GPU 설정\n",
    "device = torch.device(\"cuda\" if torch.cuda.is_available() else \"cpu\")\n",
    "print(device)"
   ]
  },
  {
   "cell_type": "markdown",
   "id": "5c9e064d",
   "metadata": {},
   "source": [
    "# DeepMIMOv3 다운"
   ]
  },
  {
   "cell_type": "code",
   "execution_count": 3,
   "id": "23623e8a",
   "metadata": {},
   "outputs": [],
   "source": [
    "# pip install DeepMIMOv3 umap-learn"
   ]
  },
  {
   "cell_type": "markdown",
   "id": "19540670",
   "metadata": {},
   "source": [
    "## 파라미터 수정"
   ]
  },
  {
   "cell_type": "code",
   "execution_count": 4,
   "id": "ce5ac681",
   "metadata": {},
   "outputs": [
    {
     "name": "stdout",
     "output_type": "stream",
     "text": [
      "{'OFDM': {'RX_filter': 0,\n",
      "          'bandwidth': 0.05,\n",
      "          'selected_subcarriers': array([0]),\n",
      "          'subcarriers': 512},\n",
      " 'OFDM_channels': 1,\n",
      " 'active_BS': array([1]),\n",
      " 'bs_antenna': {'FoV': array([360, 180]),\n",
      "                'radiation_pattern': 'isotropic',\n",
      "                'rotation': array([0, 0, 0]),\n",
      "                'shape': array([8, 4]),\n",
      "                'spacing': 0.5},\n",
      " 'dataset_folder': './Raytracing_scenarios',\n",
      " 'dynamic_scenario_scenes': array([1]),\n",
      " 'enable_BS2BS': 1,\n",
      " 'enable_doppler': 0,\n",
      " 'enable_dual_polar': 0,\n",
      " 'num_paths': 5,\n",
      " 'scenario': 'O1_60',\n",
      " 'ue_antenna': {'FoV': array([360, 180]),\n",
      "                'radiation_pattern': 'isotropic',\n",
      "                'rotation': array([0, 0, 0]),\n",
      "                'shape': array([4, 2]),\n",
      "                'spacing': 0.5},\n",
      " 'user_rows': array([1]),\n",
      " 'user_subsampling': 1}\n"
     ]
    }
   ],
   "source": [
    "## Load and print the default parameters\n",
    "# bandwith: 0.05GHz(50MHz 대역폭 사용)\n",
    "parameters = DeepMIMOv3.default_params()\n",
    "pprint(parameters)"
   ]
  },
  {
   "cell_type": "code",
   "execution_count": 5,
   "id": "1f0642c1",
   "metadata": {},
   "outputs": [],
   "source": [
    "## Change parameters for the setup\n",
    "# Scenario O1_60 extracted at the dataset_folder\n",
    "#LWM 동적 시나리오 불러오기\n",
    "#자신의 LWM 파일 위치 경로 작성\n",
    "# parameters['dataset_folder'] = r'/content/drive/MyDrive/Colab Notebooks/LWM'\n",
    "scene = 10 # 장면 수\n",
    "parameters['dataset_folder'] = r'C:\\Users\\dlghd\\졸업프로젝트\\LWM'\n",
    "\n",
    "# scnario = 02_dyn_3p5 <- 다운받은 파일(동적시나리오)\n",
    "parameters['scenario'] = 'O2_dyn_3p5'\n",
    "parameters['dynamic_scenario_scenes'] = np.arange(scene) #scene 0~9\n",
    "\n",
    "# 각 사용자-기지국 채널에 대해 최대 10개 멀티패스 경로 사용\n",
    "parameters['num_paths'] = 10\n",
    "\n",
    "# User rows 1-100\n",
    "parameters['user_rows'] = np.arange(100)\n",
    "\n",
    "# Activate only the first basestation\n",
    "parameters['active_BS'] = np.array([1])\n",
    "\n",
    "parameters['activate_OFDM'] = 1\n",
    "\n",
    "parameters['OFDM']['bandwidth'] = 0.05 # 50 MHz\n",
    "parameters['OFDM']['subcarriers'] = 512 # OFDM with 512 subcarriers\n",
    "parameters['OFDM']['selected_subcarriers'] = np.arange(0, 64, 1)\n",
    "#parameters['OFDM']['subcarriers_limit'] = 64 # Keep only first 64 subcarriers\n",
    "\n",
    "parameters['ue_antenna']['shape'] = np.array([1, 1]) # Single antenna\n",
    "parameters['bs_antenna']['shape'] = np.array([1, 32]) # ULA of 32 elements\n",
    "#parameters['bs_antenna']['rotation'] = np.array([0, 30, 90]) # ULA of 32 elements\n",
    "#parameters['ue_antenna']['rotation'] = np.array([[0, 30], [30, 60], [60, 90]]) # ULA of 32 elements\n",
    "#parameters['ue_antenna']['radiation_pattern'] = 'isotropic'\n",
    "#parameters['bs_antenna']['radiation_pattern'] = 'halfwave-dipole'"
   ]
  },
  {
   "cell_type": "code",
   "execution_count": 6,
   "id": "30aa4ae2",
   "metadata": {
    "scrolled": true
   },
   "outputs": [
    {
     "name": "stdout",
     "output_type": "stream",
     "text": [
      "{'dataset_folder': 'C:\\\\Users\\\\dlghd\\\\졸업프로젝트\\\\LWM', 'scenario': 'O2_dyn_3p5', 'dynamic_scenario_scenes': array([0, 1, 2, 3, 4, 5, 6, 7, 8, 9]), 'num_paths': 10, 'active_BS': array([1]), 'user_rows': array([ 0,  1,  2,  3,  4,  5,  6,  7,  8,  9, 10, 11, 12, 13, 14, 15, 16,\n",
      "       17, 18, 19, 20, 21, 22, 23, 24, 25, 26, 27, 28, 29, 30, 31, 32, 33,\n",
      "       34, 35, 36, 37, 38, 39, 40, 41, 42, 43, 44, 45, 46, 47, 48, 49, 50,\n",
      "       51, 52, 53, 54, 55, 56, 57, 58, 59, 60, 61, 62, 63, 64, 65, 66, 67,\n",
      "       68, 69, 70, 71, 72, 73, 74, 75, 76, 77, 78, 79, 80, 81, 82, 83, 84,\n",
      "       85, 86, 87, 88, 89, 90, 91, 92, 93, 94, 95, 96, 97, 98, 99]), 'user_subsampling': 1, 'bs_antenna': {'shape': array([ 1, 32]), 'spacing': 0.5, 'rotation': array([0, 0, 0]), 'FoV': array([360, 180]), 'radiation_pattern': 'isotropic'}, 'ue_antenna': {'shape': array([1, 1]), 'spacing': 0.5, 'rotation': array([0, 0, 0]), 'FoV': array([360, 180]), 'radiation_pattern': 'isotropic'}, 'enable_doppler': 0, 'enable_dual_polar': 0, 'enable_BS2BS': 1, 'OFDM_channels': 1, 'OFDM': {'subcarriers': 512, 'selected_subcarriers': array([ 0,  1,  2,  3,  4,  5,  6,  7,  8,  9, 10, 11, 12, 13, 14, 15, 16,\n",
      "       17, 18, 19, 20, 21, 22, 23, 24, 25, 26, 27, 28, 29, 30, 31, 32, 33,\n",
      "       34, 35, 36, 37, 38, 39, 40, 41, 42, 43, 44, 45, 46, 47, 48, 49, 50,\n",
      "       51, 52, 53, 54, 55, 56, 57, 58, 59, 60, 61, 62, 63]), 'bandwidth': 0.05, 'RX_filter': 0}, 'activate_OFDM': 1}\n"
     ]
    }
   ],
   "source": [
    "print(parameters)"
   ]
  },
  {
   "cell_type": "markdown",
   "id": "3326b22d",
   "metadata": {},
   "source": [
    "## dataset 구축"
   ]
  },
  {
   "cell_type": "code",
   "execution_count": 7,
   "id": "b87a86e5",
   "metadata": {},
   "outputs": [
    {
     "name": "stderr",
     "output_type": "stream",
     "text": [
      "\r",
      "  0%|                                                                                            | 0/2 [00:00<?, ?it/s]"
     ]
    },
    {
     "name": "stdout",
     "output_type": "stream",
     "text": [
      "The following parameters seem unnecessary:\n",
      "{'activate_OFDM'}\n",
      "\n",
      "Scene 1/5\n",
      "\n",
      "Basestation 1\n",
      "\n",
      "UE-BS Channels\n"
     ]
    },
    {
     "name": "stderr",
     "output_type": "stream",
     "text": [
      "\n",
      "Reading ray-tracing:   0%|                                                                   | 0/69040 [00:00<?, ?it/s]\u001b[A\n",
      "Reading ray-tracing:   5%|██▍                                                  | 3111/69040 [00:00<00:02, 30957.76it/s]\u001b[A\n",
      "Reading ray-tracing:   9%|████▊                                                | 6215/69040 [00:00<00:02, 30912.21it/s]\u001b[A\n",
      "Reading ray-tracing:  13%|███████▏                                             | 9307/69040 [00:00<00:01, 30293.16it/s]\u001b[A\n",
      "Reading ray-tracing:  18%|█████████▎                                          | 12338/69040 [00:00<00:01, 29438.12it/s]\u001b[A\n",
      "Reading ray-tracing:  22%|███████████▌                                        | 15341/69040 [00:00<00:01, 29634.00it/s]\u001b[A\n",
      "Reading ray-tracing:  27%|█████████████▊                                      | 18308/69040 [00:00<00:01, 29344.56it/s]\u001b[A\n",
      "Reading ray-tracing:  31%|████████████████                                    | 21364/69040 [00:00<00:01, 29684.43it/s]\u001b[A\n",
      "Reading ray-tracing:  35%|██████████████████▎                                 | 24335/69040 [00:00<00:01, 29645.22it/s]\u001b[A\n",
      "Reading ray-tracing:  40%|████████████████████▋                               | 27404/69040 [00:00<00:01, 29924.79it/s]\u001b[A\n",
      "Reading ray-tracing:  44%|███████████████████████                             | 30555/69040 [00:01<00:01, 30362.11it/s]\u001b[A\n",
      "Reading ray-tracing:  49%|█████████████████████████▎                          | 33593/69040 [00:01<00:01, 29867.52it/s]\u001b[A\n",
      "Reading ray-tracing:  53%|███████████████████████████▌                        | 36596/69040 [00:01<00:01, 29869.73it/s]\u001b[A\n",
      "Reading ray-tracing:  57%|█████████████████████████████▊                      | 39585/69040 [00:01<00:00, 29564.93it/s]\u001b[A\n",
      "Reading ray-tracing:  62%|████████████████████████████████                    | 42543/69040 [00:01<00:00, 29436.62it/s]\u001b[A\n",
      "Reading ray-tracing:  66%|██████████████████████████████████▎                 | 45608/69040 [00:01<00:00, 29751.74it/s]\u001b[A\n",
      "Reading ray-tracing:  70%|████████████████████████████████████▌               | 48585/69040 [00:01<00:00, 29449.02it/s]\u001b[A\n",
      "Reading ray-tracing:  75%|██████████████████████████████████████▊             | 51546/69040 [00:01<00:00, 29449.50it/s]\u001b[A\n",
      "Reading ray-tracing:  79%|█████████████████████████████████████████           | 54492/69040 [00:01<00:00, 29032.56it/s]\u001b[A\n",
      "Reading ray-tracing:  83%|███████████████████████████████████████████▏        | 57397/69040 [00:01<00:00, 28245.29it/s]\u001b[A\n",
      "Reading ray-tracing: 100%|████████████████████████████████████████████████████| 69040/69040 [00:02<00:00, 32604.65it/s]\u001b[A\n",
      "\n",
      "Generating channels:   0%|                                                                   | 0/69040 [00:00<?, ?it/s]\u001b[A\n",
      "Generating channels:   1%|▍                                                      | 480/69040 [00:00<00:14, 4795.10it/s]\u001b[A\n",
      "Generating channels:   1%|▊                                                      | 960/69040 [00:00<00:18, 3616.49it/s]\u001b[A\n",
      "Generating channels:   2%|█                                                     | 1339/69040 [00:00<00:18, 3669.28it/s]\u001b[A\n",
      "Generating channels:   3%|█▋                                                    | 2141/69040 [00:00<00:12, 5215.22it/s]\u001b[A\n",
      "Generating channels:   4%|██                                                    | 2686/69040 [00:00<00:14, 4538.64it/s]\u001b[A\n",
      "Generating channels:   5%|██▍                                                   | 3166/69040 [00:00<00:15, 4191.17it/s]\u001b[A\n",
      "Generating channels:   6%|███                                                   | 3956/69040 [00:00<00:12, 5202.91it/s]\u001b[A\n",
      "Generating channels:   7%|███▌                                                  | 4508/69040 [00:00<00:13, 4726.05it/s]\u001b[A\n",
      "Generating channels:   7%|███▉                                                  | 5008/69040 [00:01<00:15, 4247.96it/s]\u001b[A\n",
      "Generating channels:   8%|████▍                                                 | 5714/69040 [00:01<00:12, 4946.03it/s]\u001b[A\n",
      "Generating channels:   9%|████▉                                                 | 6241/69040 [00:01<00:12, 4858.48it/s]\u001b[A\n",
      "Generating channels:  10%|█████▎                                                | 6749/69040 [00:01<00:14, 4288.79it/s]\u001b[A\n",
      "Generating channels:  11%|█████▋                                                | 7315/69040 [00:01<00:13, 4624.56it/s]\u001b[A\n",
      "Generating channels:  11%|██████▏                                               | 7916/69040 [00:01<00:12, 4981.26it/s]\u001b[A\n",
      "Generating channels:  12%|██████▌                                               | 8436/69040 [00:01<00:13, 4383.91it/s]\u001b[A\n",
      "Generating channels:  13%|██████▉                                               | 8901/69040 [00:01<00:14, 4246.96it/s]\u001b[A\n",
      "Generating channels:  14%|███████▌                                              | 9642/69040 [00:02<00:11, 5050.92it/s]\u001b[A\n",
      "Generating channels:  15%|███████▊                                             | 10173/69040 [00:02<00:12, 4733.59it/s]\u001b[A\n",
      "Generating channels:  15%|████████▏                                            | 10667/69040 [00:02<00:13, 4243.96it/s]\u001b[A\n",
      "Generating channels:  16%|████████▋                                            | 11327/69040 [00:02<00:11, 4821.27it/s]\u001b[A\n",
      "Generating channels:  17%|█████████                                            | 11836/69040 [00:02<00:11, 4809.58it/s]\u001b[A\n",
      "Generating channels:  18%|█████████▍                                           | 12336/69040 [00:02<00:13, 4200.12it/s]\u001b[A\n",
      "Generating channels:  19%|█████████▊                                           | 12780/69040 [00:02<00:13, 4116.07it/s]\u001b[A\n",
      "Generating channels:  20%|██████████▎                                          | 13508/69040 [00:02<00:11, 4925.39it/s]\u001b[A\n",
      "Generating channels:  20%|██████████▊                                          | 14026/69040 [00:03<00:12, 4504.94it/s]\u001b[A\n",
      "Generating channels:  21%|███████████▏                                         | 14499/69040 [00:03<00:12, 4244.97it/s]\u001b[A\n",
      "Generating channels:  22%|███████████▋                                         | 15145/69040 [00:03<00:11, 4801.88it/s]\u001b[A\n",
      "Generating channels:  23%|████████████                                         | 15657/69040 [00:03<00:10, 4882.94it/s]\u001b[A\n",
      "Generating channels:  23%|████████████▍                                        | 16162/69040 [00:03<00:12, 4224.56it/s]\u001b[A\n",
      "Generating channels:  24%|████████████▊                                        | 16610/69040 [00:03<00:12, 4188.46it/s]\u001b[A\n",
      "Generating channels:  25%|█████████████▎                                       | 17330/69040 [00:03<00:10, 4962.67it/s]\u001b[A\n",
      "Generating channels:  26%|█████████████▋                                       | 17850/69040 [00:03<00:11, 4426.02it/s]\u001b[A\n",
      "Generating channels:  27%|██████████████                                       | 18318/69040 [00:04<00:12, 4221.35it/s]\u001b[A\n",
      "Generating channels:  28%|██████████████▋                                      | 19054/69040 [00:04<00:09, 5012.24it/s]\u001b[A\n",
      "Generating channels:  28%|███████████████                                      | 19582/69040 [00:04<00:10, 4666.60it/s]\u001b[A\n",
      "Generating channels:  29%|███████████████▍                                     | 20070/69040 [00:04<00:11, 4232.60it/s]\u001b[A\n",
      "Generating channels:  30%|███████████████▊                                     | 20669/69040 [00:04<00:10, 4663.49it/s]\u001b[A\n",
      "Generating channels:  31%|████████████████▎                                    | 21234/69040 [00:04<00:09, 4914.76it/s]\u001b[A\n",
      "Generating channels:  31%|████████████████▋                                    | 21745/69040 [00:04<00:10, 4356.97it/s]\u001b[A\n",
      "Generating channels:  32%|█████████████████                                    | 22204/69040 [00:04<00:10, 4290.67it/s]\u001b[A\n",
      "Generating channels:  33%|█████████████████▌                                   | 22949/69040 [00:04<00:09, 5114.36it/s]\u001b[A\n",
      "Generating channels:  34%|██████████████████                                   | 23484/69040 [00:05<00:09, 4603.47it/s]\u001b[A\n",
      "Generating channels:  35%|██████████████████▍                                  | 23969/69040 [00:05<00:10, 4337.59it/s]\u001b[A\n",
      "Generating channels:  36%|██████████████████▉                                  | 24731/69040 [00:05<00:08, 5164.42it/s]\u001b[A\n"
     ]
    },
    {
     "name": "stderr",
     "output_type": "stream",
     "text": [
      "Generating channels:  37%|███████████████████▍                                 | 25275/69040 [00:05<00:09, 4771.00it/s]\u001b[A\n",
      "Generating channels:  37%|███████████████████▊                                 | 25775/69040 [00:05<00:09, 4398.66it/s]\u001b[A\n",
      "Generating channels:  38%|████████████████████▏                                | 26369/69040 [00:05<00:08, 4779.08it/s]\u001b[A\n",
      "Generating channels:  39%|████████████████████▋                                | 26940/69040 [00:05<00:08, 5017.48it/s]\u001b[A\n",
      "Generating channels:  40%|█████████████████████                                | 27460/69040 [00:06<00:09, 4436.82it/s]\u001b[A\n",
      "Generating channels:  40%|█████████████████████▍                               | 27926/69040 [00:06<00:09, 4291.30it/s]\u001b[A\n",
      "Generating channels:  42%|██████████████████████                               | 28676/69040 [00:06<00:07, 5111.20it/s]\u001b[A\n",
      "Generating channels:  42%|██████████████████████▍                              | 29211/69040 [00:06<00:08, 4551.56it/s]\u001b[A\n",
      "Generating channels:  43%|██████████████████████▊                              | 29692/69040 [00:06<00:09, 4310.88it/s]\u001b[A\n",
      "Generating channels:  44%|███████████████████████▎                             | 30449/69040 [00:06<00:07, 5129.26it/s]\u001b[A\n",
      "Generating channels:  45%|███████████████████████▊                             | 30990/69040 [00:06<00:08, 4699.58it/s]\u001b[A\n",
      "Generating channels:  46%|████████████████████████▏                            | 31485/69040 [00:06<00:08, 4317.49it/s]\u001b[A\n",
      "Generating channels:  47%|████████████████████████▋                            | 32119/69040 [00:06<00:07, 4818.45it/s]\u001b[A\n",
      "Generating channels:  47%|█████████████████████████                            | 32664/69040 [00:07<00:07, 4976.32it/s]\u001b[A\n",
      "Generating channels:  48%|█████████████████████████▍                           | 33181/69040 [00:07<00:08, 4364.41it/s]\u001b[A\n",
      "Generating channels:  49%|█████████████████████████▊                           | 33643/69040 [00:07<00:08, 4314.78it/s]\u001b[A\n",
      "Generating channels:  50%|██████████████████████████▍                          | 34359/69040 [00:07<00:06, 5051.86it/s]\u001b[A\n",
      "Generating channels:  51%|██████████████████████████▊                          | 34888/69040 [00:07<00:07, 4511.30it/s]\u001b[A\n",
      "Generating channels:  51%|███████████████████████████▏                         | 35364/69040 [00:07<00:07, 4275.24it/s]\u001b[A\n",
      "Generating channels:  52%|███████████████████████████▋                         | 36022/69040 [00:07<00:06, 4856.16it/s]\u001b[A\n",
      "Generating channels:  53%|████████████████████████████                         | 36531/69040 [00:07<00:07, 4592.60it/s]\u001b[A\n",
      "Generating channels:  54%|████████████████████████████▍                        | 37008/69040 [00:08<00:07, 4149.72it/s]\u001b[A\n",
      "Generating channels:  54%|████████████████████████████▋                        | 37441/69040 [00:08<00:07, 4189.42it/s]\u001b[A\n",
      "Generating channels:  55%|█████████████████████████████▎                       | 38138/69040 [00:08<00:06, 4920.11it/s]\u001b[A\n",
      "Generating channels:  56%|█████████████████████████████▋                       | 38650/69040 [00:08<00:07, 4184.00it/s]\u001b[A\n",
      "Generating channels:  57%|██████████████████████████████                       | 39099/69040 [00:08<00:08, 3607.42it/s]\u001b[A\n",
      "Generating channels:  57%|██████████████████████████████▍                      | 39634/69040 [00:08<00:07, 4008.21it/s]\u001b[A\n",
      "Generating channels:  58%|██████████████████████████████▊                      | 40107/69040 [00:08<00:06, 4181.47it/s]\u001b[A\n",
      "Generating channels:  59%|███████████████████████████████▏                     | 40553/69040 [00:08<00:07, 3891.54it/s]\u001b[A\n",
      "Generating channels:  59%|███████████████████████████████▍                     | 40964/69040 [00:09<00:07, 3769.62it/s]\u001b[A\n",
      "Generating channels:  60%|███████████████████████████████▉                     | 41533/69040 [00:09<00:06, 4258.61it/s]\u001b[A\n",
      "Generating channels:  61%|████████████████████████████████▎                    | 42091/69040 [00:09<00:05, 4613.04it/s]\u001b[A\n",
      "Generating channels:  62%|████████████████████████████████▋                    | 42569/69040 [00:09<00:06, 4136.89it/s]\u001b[A\n",
      "Generating channels:  62%|█████████████████████████████████                    | 43003/69040 [00:09<00:06, 4098.88it/s]\u001b[A\n",
      "Generating channels:  63%|█████████████████████████████████▌                   | 43694/69040 [00:09<00:05, 4842.03it/s]\u001b[A\n",
      "Generating channels:  64%|█████████████████████████████████▉                   | 44197/69040 [00:09<00:05, 4548.16it/s]\u001b[A\n",
      "Generating channels:  65%|██████████████████████████████████▎                  | 44667/69040 [00:09<00:05, 4139.57it/s]\u001b[A\n",
      "Generating channels:  65%|██████████████████████████████████▋                  | 45185/69040 [00:10<00:05, 4406.43it/s]\u001b[A\n",
      "Generating channels:  66%|███████████████████████████████████▏                 | 45791/69040 [00:10<00:04, 4843.44it/s]\u001b[A\n",
      "Generating channels:  67%|███████████████████████████████████▌                 | 46292/69040 [00:10<00:05, 4415.49it/s]\u001b[A\n",
      "Generating channels:  68%|███████████████████████████████████▉                 | 46751/69040 [00:10<00:05, 4254.52it/s]\u001b[A\n",
      "Generating channels:  68%|████████████████████████████████████▏                | 47189/69040 [00:10<00:05, 4264.74it/s]\u001b[A\n",
      "Generating channels:  69%|████████████████████████████████████▌                | 47624/69040 [00:10<00:05, 4157.32it/s]\u001b[A\n",
      "Generating channels:  70%|████████████████████████████████████▉                | 48046/69040 [00:10<00:05, 3592.97it/s]\u001b[A\n",
      "Generating channels:  70%|█████████████████████████████████████▏               | 48421/69040 [00:10<00:06, 3268.19it/s]\u001b[A\n",
      "Generating channels:  71%|█████████████████████████████████████▌               | 48881/69040 [00:10<00:05, 3588.09it/s]\u001b[A\n",
      "Generating channels:  72%|█████████████████████████████████████▉               | 49401/69040 [00:11<00:04, 3999.80it/s]\u001b[A\n",
      "Generating channels:  72%|██████████████████████████████████████▏              | 49819/69040 [00:11<00:04, 3895.75it/s]\u001b[A\n",
      "Generating channels:  73%|██████████████████████████████████████▌              | 50221/69040 [00:11<00:05, 3591.54it/s]\u001b[A\n",
      "Generating channels:  73%|██████████████████████████████████████▊              | 50602/69040 [00:11<00:05, 3648.25it/s]\u001b[A\n",
      "Generating channels:  74%|███████████████████████████████████████▏             | 51113/69040 [00:11<00:04, 4039.42it/s]\u001b[A\n",
      "Generating channels:  75%|███████████████████████████████████████▌             | 51528/69040 [00:11<00:04, 3954.14it/s]\u001b[A\n",
      "Generating channels:  75%|███████████████████████████████████████▊             | 51931/69040 [00:11<00:04, 3449.88it/s]\u001b[A\n",
      "Generating channels:  76%|████████████████████████████████████████▏            | 52292/69040 [00:11<00:05, 3266.76it/s]\u001b[A\n",
      "Generating channels:  76%|████████████████████████████████████████▍            | 52670/69040 [00:12<00:04, 3393.45it/s]\u001b[A\n",
      "Generating channels:  77%|████████████████████████████████████████▊            | 53166/69040 [00:12<00:04, 3806.94it/s]\u001b[A\n",
      "Generating channels:  78%|█████████████████████████████████████████            | 53559/69040 [00:12<00:04, 3778.01it/s]\u001b[A\n",
      "Generating channels:  78%|█████████████████████████████████████████▍           | 53945/69040 [00:12<00:04, 3502.15it/s]\u001b[A\n",
      "Generating channels:  79%|█████████████████████████████████████████▋           | 54320/69040 [00:12<00:04, 3568.51it/s]\u001b[A\n",
      "Generating channels:  79%|██████████████████████████████████████████           | 54792/69040 [00:12<00:03, 3887.37it/s]\u001b[A\n",
      "Generating channels:  80%|██████████████████████████████████████████▎          | 55189/69040 [00:12<00:03, 3898.84it/s]\u001b[A\n",
      "Generating channels:  81%|██████████████████████████████████████████▋          | 55585/69040 [00:12<00:03, 3688.00it/s]\u001b[A\n",
      "Generating channels:  81%|██████████████████████████████████████████▉          | 55960/69040 [00:12<00:03, 3503.11it/s]\u001b[A\n",
      "Generating channels:  82%|███████████████████████████████████████████▏         | 56319/69040 [00:13<00:03, 3521.50it/s]\u001b[A\n",
      "Generating channels:  82%|███████████████████████████████████████████▋         | 56847/69040 [00:13<00:03, 4015.00it/s]\u001b[A\n",
      "Generating channels:  83%|███████████████████████████████████████████▉         | 57255/69040 [00:13<00:02, 4027.51it/s]\u001b[A\n"
     ]
    },
    {
     "name": "stderr",
     "output_type": "stream",
     "text": [
      "Generating channels:  84%|████████████████████████████████████████████▎        | 57662/69040 [00:13<00:03, 3712.73it/s]\u001b[A\n",
      "Generating channels:  84%|████████████████████████████████████████████▌        | 58041/69040 [00:13<00:02, 3723.48it/s]\u001b[A\n",
      "Generating channels: 100%|█████████████████████████████████████████████████████| 69040/69040 [00:13<00:00, 5086.33it/s]\u001b[A\n"
     ]
    },
    {
     "name": "stdout",
     "output_type": "stream",
     "text": [
      "\n",
      "BS-BS Channels\n"
     ]
    },
    {
     "name": "stderr",
     "output_type": "stream",
     "text": [
      "\n",
      "Reading ray-tracing: 100%|███████████████████████████████████████████████████████████████████████| 1/1 [00:00<?, ?it/s]\u001b[A\n",
      "\n",
      "Generating channels: 100%|██████████████████████████████████████████████████████████████| 1/1 [00:00<00:00, 501.53it/s]\u001b[A\n"
     ]
    },
    {
     "name": "stdout",
     "output_type": "stream",
     "text": [
      "\n",
      "Scene 2/5\n",
      "\n",
      "Basestation 1\n",
      "\n",
      "UE-BS Channels\n"
     ]
    },
    {
     "name": "stderr",
     "output_type": "stream",
     "text": [
      "\n",
      "Reading ray-tracing:   0%|                                                                   | 0/69040 [00:00<?, ?it/s]\u001b[A\n",
      "Reading ray-tracing:   4%|██                                                   | 2735/69040 [00:00<00:02, 27209.12it/s]\u001b[A\n",
      "Reading ray-tracing:   8%|████▏                                                | 5456/69040 [00:00<00:02, 26580.18it/s]\u001b[A\n",
      "Reading ray-tracing:  12%|██████▏                                              | 8115/69040 [00:00<00:02, 24132.98it/s]\u001b[A\n",
      "Reading ray-tracing:  15%|███████▉                                            | 10551/69040 [00:00<00:02, 23602.42it/s]\u001b[A\n",
      "Reading ray-tracing:  19%|█████████▊                                          | 12967/69040 [00:00<00:02, 23789.01it/s]\u001b[A\n",
      "Reading ray-tracing:  23%|███████████▊                                        | 15641/69040 [00:00<00:02, 24748.87it/s]\u001b[A\n",
      "Reading ray-tracing:  26%|█████████████▋                                      | 18126/69040 [00:00<00:02, 24654.59it/s]\u001b[A\n",
      "Reading ray-tracing:  30%|███████████████▌                                    | 20656/69040 [00:00<00:01, 24853.49it/s]\u001b[A\n",
      "Reading ray-tracing:  34%|█████████████████▍                                  | 23193/69040 [00:00<00:01, 24972.08it/s]\u001b[A\n",
      "Reading ray-tracing:  37%|███████████████████▍                                | 25739/69040 [00:01<00:01, 25081.53it/s]\u001b[A\n",
      "Reading ray-tracing:  41%|█████████████████████▍                              | 28525/69040 [00:01<00:01, 25883.60it/s]\u001b[A\n",
      "Reading ray-tracing:  45%|███████████████████████▌                            | 31231/69040 [00:01<00:01, 26237.04it/s]\u001b[A\n",
      "Reading ray-tracing:  49%|█████████████████████████▋                          | 34048/69040 [00:01<00:01, 26777.92it/s]\u001b[A\n",
      "Reading ray-tracing:  53%|███████████████████████████▋                        | 36805/69040 [00:01<00:01, 26974.17it/s]\u001b[A\n",
      "Reading ray-tracing:  57%|█████████████████████████████▊                      | 39652/69040 [00:01<00:01, 27409.47it/s]\u001b[A\n",
      "Reading ray-tracing:  62%|████████████████████████████████                    | 42555/69040 [00:01<00:00, 27892.67it/s]\u001b[A\n",
      "Reading ray-tracing:  66%|██████████████████████████████████▍                 | 45680/69040 [00:01<00:00, 28897.10it/s]\u001b[A\n",
      "Reading ray-tracing:  70%|████████████████████████████████████▌               | 48626/69040 [00:01<00:00, 29021.31it/s]\u001b[A\n",
      "Reading ray-tracing:  75%|██████████████████████████████████████▉             | 51649/69040 [00:01<00:00, 29301.10it/s]\u001b[A\n",
      "Reading ray-tracing:  79%|█████████████████████████████████████████           | 54580/69040 [00:02<00:00, 28999.14it/s]\u001b[A\n",
      "Reading ray-tracing:  83%|███████████████████████████████████████████▎        | 57481/69040 [00:02<00:00, 28283.08it/s]\u001b[A\n",
      "Reading ray-tracing: 100%|████████████████████████████████████████████████████| 69040/69040 [00:02<00:00, 29657.93it/s]\u001b[A\n",
      "\n",
      "Generating channels:   0%|                                                                   | 0/69040 [00:00<?, ?it/s]\u001b[A\n",
      "Generating channels:   1%|▍                                                      | 517/69040 [00:00<00:13, 5142.54it/s]\u001b[A\n",
      "Generating channels:   1%|▊                                                     | 1032/69040 [00:00<00:17, 3847.26it/s]\u001b[A\n",
      "Generating channels:   2%|█▎                                                    | 1665/69040 [00:00<00:14, 4794.96it/s]\u001b[A\n",
      "Generating channels:   3%|█▊                                                    | 2289/69040 [00:00<00:12, 5299.40it/s]\u001b[A\n",
      "Generating channels:   4%|██▏                                                   | 2842/69040 [00:00<00:14, 4474.48it/s]\u001b[A\n",
      "Generating channels:   5%|██▌                                                   | 3320/69040 [00:00<00:14, 4453.38it/s]\u001b[A\n",
      "Generating channels:   6%|███▏                                                  | 4085/69040 [00:00<00:12, 5354.91it/s]\u001b[A\n",
      "Generating channels:   7%|███▋                                                  | 4647/69040 [00:00<00:13, 4750.08it/s]\u001b[A\n",
      "Generating channels:   7%|████                                                  | 5150/69040 [00:01<00:14, 4541.44it/s]\u001b[A\n",
      "Generating channels:   9%|████▋                                                 | 5947/69040 [00:01<00:11, 5434.00it/s]\u001b[A\n",
      "Generating channels:   9%|█████                                                 | 6519/69040 [00:01<00:12, 4843.98it/s]\u001b[A\n",
      "Generating channels:  10%|█████▌                                                | 7032/69040 [00:01<00:13, 4550.96it/s]\u001b[A\n",
      "Generating channels:  11%|██████                                                | 7794/69040 [00:01<00:11, 5318.00it/s]\u001b[A\n",
      "Generating channels:  12%|██████▌                                               | 8356/69040 [00:01<00:12, 4739.30it/s]\u001b[A\n",
      "Generating channels:  13%|██████▉                                               | 8859/69040 [00:01<00:13, 4425.09it/s]\u001b[A\n",
      "Generating channels:  14%|███████▌                                              | 9621/69040 [00:01<00:11, 5206.43it/s]\u001b[A\n",
      "Generating channels:  15%|███████▊                                             | 10174/69040 [00:02<00:12, 4793.20it/s]\u001b[A\n",
      "Generating channels:  15%|████████▏                                            | 10680/69040 [00:02<00:13, 4360.32it/s]\u001b[A\n",
      "Generating channels:  16%|████████▋                                            | 11314/69040 [00:02<00:11, 4837.50it/s]\u001b[A\n",
      "Generating channels:  17%|█████████                                            | 11851/69040 [00:02<00:11, 4974.78it/s]\u001b[A\n",
      "Generating channels:  18%|█████████▍                                           | 12369/69040 [00:02<00:12, 4400.98it/s]\u001b[A\n",
      "Generating channels:  19%|█████████▊                                           | 12834/69040 [00:02<00:12, 4337.89it/s]\u001b[A\n",
      "Generating channels:  20%|██████████▍                                          | 13565/69040 [00:02<00:10, 5101.41it/s]\u001b[A\n",
      "Generating channels:  20%|██████████▊                                          | 14099/69040 [00:02<00:11, 4594.78it/s]\u001b[A\n",
      "Generating channels:  21%|███████████▏                                         | 14582/69040 [00:03<00:12, 4396.16it/s]\u001b[A\n",
      "Generating channels:  22%|███████████▊                                         | 15310/69040 [00:03<00:10, 5127.85it/s]\u001b[A\n",
      "Generating channels:  23%|████████████▏                                        | 15847/69040 [00:03<00:11, 4823.97it/s]\u001b[A\n",
      "Generating channels:  24%|████████████▌                                        | 16348/69040 [00:03<00:12, 4367.17it/s]\u001b[A\n",
      "Generating channels:  25%|█████████████                                        | 16961/69040 [00:03<00:10, 4803.45it/s]\u001b[A\n",
      "Generating channels:  25%|█████████████▍                                       | 17528/69040 [00:03<00:10, 5024.46it/s]\u001b[A\n",
      "Generating channels:  26%|█████████████▊                                       | 18048/69040 [00:03<00:11, 4472.09it/s]\u001b[A\n",
      "Generating channels:  27%|██████████████▏                                      | 18517/69040 [00:03<00:11, 4458.16it/s]\u001b[A\n",
      "Generating channels:  28%|██████████████▊                                      | 19267/69040 [00:04<00:09, 5256.20it/s]\u001b[A\n",
      "Generating channels:  29%|███████████████▏                                     | 19814/69040 [00:04<00:10, 4640.02it/s]\u001b[A\n",
      "Generating channels:  29%|███████████████▌                                     | 20304/69040 [00:04<00:10, 4477.94it/s]\u001b[A\n",
      "Generating channels:  31%|████████████████▏                                    | 21062/69040 [00:04<00:09, 5274.49it/s]\u001b[A\n",
      "Generating channels:  31%|████████████████▌                                    | 21615/69040 [00:04<00:10, 4715.49it/s]\u001b[A\n",
      "Generating channels:  32%|████████████████▉                                    | 22113/69040 [00:04<00:10, 4449.35it/s]\u001b[A\n",
      "Generating channels:  33%|█████████████████▌                                   | 22872/69040 [00:04<00:08, 5230.34it/s]\u001b[A\n",
      "Generating channels:  34%|█████████████████▉                                   | 23423/69040 [00:04<00:09, 4805.76it/s]\u001b[A\n",
      "Generating channels:  35%|██████████████████▎                                  | 23928/69040 [00:05<00:10, 4391.85it/s]\u001b[A\n",
      "Generating channels:  36%|██████████████████▊                                  | 24583/69040 [00:05<00:09, 4919.00it/s]\u001b[A\n"
     ]
    },
    {
     "name": "stderr",
     "output_type": "stream",
     "text": [
      "Generating channels:  36%|███████████████████▎                                 | 25127/69040 [00:05<00:08, 5047.88it/s]\u001b[A\n",
      "Generating channels:  37%|███████████████████▋                                 | 25652/69040 [00:05<00:09, 4443.79it/s]\u001b[A\n",
      "Generating channels:  38%|████████████████████                                 | 26158/69040 [00:05<00:09, 4592.72it/s]\u001b[A\n",
      "Generating channels:  39%|████████████████████▌                                | 26847/69040 [00:05<00:08, 5192.88it/s]\u001b[A\n",
      "Generating channels:  40%|█████████████████████                                | 27388/69040 [00:05<00:08, 4635.80it/s]\u001b[A\n",
      "Generating channels:  40%|█████████████████████▍                               | 27876/69040 [00:05<00:09, 4558.30it/s]\u001b[A\n",
      "Generating channels:  41%|█████████████████████▉                               | 28647/69040 [00:05<00:07, 5384.71it/s]\u001b[A\n",
      "Generating channels:  42%|██████████████████████▍                              | 29209/69040 [00:06<00:08, 4726.72it/s]\u001b[A\n",
      "Generating channels:  43%|██████████████████████▊                              | 29711/69040 [00:06<00:08, 4463.14it/s]\u001b[A\n",
      "Generating channels:  44%|███████████████████████▍                             | 30461/69040 [00:06<00:07, 5219.24it/s]\u001b[A\n",
      "Generating channels:  45%|███████████████████████▊                             | 31012/69040 [00:06<00:07, 4864.46it/s]\u001b[A\n",
      "Generating channels:  46%|████████████████████████▏                            | 31522/69040 [00:06<00:08, 4460.50it/s]\u001b[A\n",
      "Generating channels:  47%|████████████████████████▋                            | 32165/69040 [00:06<00:07, 4945.84it/s]\u001b[A\n",
      "Generating channels:  47%|█████████████████████████                            | 32691/69040 [00:06<00:07, 5021.54it/s]\u001b[A\n",
      "Generating channels:  48%|█████████████████████████▍                           | 33211/69040 [00:06<00:08, 4393.11it/s]\u001b[A\n",
      "Generating channels:  49%|█████████████████████████▊                           | 33675/69040 [00:07<00:08, 4383.35it/s]\u001b[A\n",
      "Generating channels:  50%|██████████████████████████▍                          | 34410/69040 [00:07<00:06, 5152.36it/s]\u001b[A\n",
      "Generating channels:  51%|██████████████████████████▊                          | 34948/69040 [00:07<00:07, 4639.59it/s]\u001b[A\n",
      "Generating channels:  51%|███████████████████████████▏                         | 35436/69040 [00:07<00:07, 4500.43it/s]\u001b[A\n",
      "Generating channels:  52%|███████████████████████████▊                         | 36190/69040 [00:07<00:06, 5286.81it/s]\u001b[A\n",
      "Generating channels:  53%|████████████████████████████▏                        | 36742/69040 [00:07<00:06, 4711.33it/s]\u001b[A\n",
      "Generating channels:  54%|████████████████████████████▌                        | 37239/69040 [00:07<00:07, 4406.72it/s]\u001b[A\n",
      "Generating channels:  55%|█████████████████████████████▏                       | 37967/69040 [00:07<00:06, 5127.03it/s]\u001b[A\n",
      "Generating channels:  56%|█████████████████████████████▌                       | 38508/69040 [00:08<00:06, 4795.38it/s]\u001b[A\n",
      "Generating channels:  57%|█████████████████████████████▉                       | 39009/69040 [00:08<00:06, 4386.23it/s]\u001b[A\n",
      "Generating channels:  57%|██████████████████████████████▎                      | 39519/69040 [00:08<00:06, 4558.17it/s]\u001b[A\n",
      "Generating channels:  58%|██████████████████████████████▊                      | 40149/69040 [00:08<00:05, 5007.86it/s]\u001b[A\n",
      "Generating channels:  59%|███████████████████████████████▏                     | 40668/69040 [00:08<00:06, 4487.71it/s]\u001b[A\n",
      "Generating channels:  60%|███████████████████████████████▌                     | 41138/69040 [00:08<00:06, 4389.18it/s]\u001b[A\n",
      "Generating channels:  61%|████████████████████████████████▏                    | 41867/69040 [00:08<00:05, 5140.85it/s]\u001b[A\n",
      "Generating channels:  61%|████████████████████████████████▌                    | 42402/69040 [00:08<00:05, 4692.35it/s]\u001b[A\n",
      "Generating channels:  62%|████████████████████████████████▉                    | 42891/69040 [00:09<00:05, 4416.67it/s]\u001b[A\n",
      "Generating channels:  63%|█████████████████████████████████▍                   | 43522/69040 [00:09<00:05, 4896.17it/s]\u001b[A\n",
      "Generating channels:  64%|█████████████████████████████████▊                   | 44030/69040 [00:09<00:05, 4912.36it/s]\u001b[A\n",
      "Generating channels:  65%|██████████████████████████████████▏                  | 44535/69040 [00:09<00:05, 4370.67it/s]\u001b[A\n",
      "Generating channels:  65%|██████████████████████████████████▌                  | 44991/69040 [00:09<00:05, 4292.02it/s]\u001b[A\n",
      "Generating channels:  66%|███████████████████████████████████                  | 45698/69040 [00:09<00:04, 5013.26it/s]\u001b[A\n",
      "Generating channels:  67%|███████████████████████████████████▍                 | 46218/69040 [00:09<00:04, 4662.46it/s]\u001b[A\n",
      "Generating channels:  68%|███████████████████████████████████▊                 | 46701/69040 [00:09<00:05, 4435.78it/s]\u001b[A\n",
      "Generating channels:  69%|████████████████████████████████████▎                | 47336/69040 [00:09<00:04, 4930.60it/s]\u001b[A\n",
      "Generating channels:  69%|████████████████████████████████████▋                | 47853/69040 [00:10<00:04, 4988.80it/s]\u001b[A\n",
      "Generating channels:  70%|█████████████████████████████████████▏               | 48363/69040 [00:10<00:04, 4318.56it/s]\u001b[A\n",
      "Generating channels:  71%|█████████████████████████████████████▌               | 48852/69040 [00:10<00:04, 4458.00it/s]\u001b[A\n",
      "Generating channels:  72%|█████████████████████████████████████▉               | 49461/69040 [00:10<00:04, 4893.21it/s]\u001b[A\n",
      "Generating channels:  72%|██████████████████████████████████████▎              | 49968/69040 [00:10<00:04, 4471.74it/s]\u001b[A\n",
      "Generating channels:  73%|██████████████████████████████████████▋              | 50434/69040 [00:10<00:04, 4210.13it/s]\u001b[A\n",
      "Generating channels:  74%|███████████████████████████████████████▏             | 51054/69040 [00:10<00:03, 4719.63it/s]\u001b[A\n",
      "Generating channels:  75%|███████████████████████████████████████▌             | 51544/69040 [00:10<00:03, 4606.06it/s]\u001b[A\n",
      "Generating channels:  75%|███████████████████████████████████████▉             | 52017/69040 [00:11<00:04, 4210.69it/s]\u001b[A\n",
      "Generating channels:  76%|████████████████████████████████████████▎            | 52451/69040 [00:11<00:03, 4184.41it/s]\u001b[A\n",
      "Generating channels:  77%|████████████████████████████████████████▋            | 52989/69040 [00:11<00:03, 4503.70it/s]\u001b[A\n",
      "Generating channels:  77%|█████████████████████████████████████████            | 53488/69040 [00:11<00:03, 4631.53it/s]\u001b[A\n",
      "Generating channels:  78%|█████████████████████████████████████████▍           | 53960/69040 [00:11<00:03, 4246.85it/s]\u001b[A\n",
      "Generating channels:  79%|█████████████████████████████████████████▊           | 54413/69040 [00:11<00:03, 4310.88it/s]\u001b[A\n",
      "Generating channels:  80%|██████████████████████████████████████████▏          | 55032/69040 [00:11<00:02, 4832.10it/s]\u001b[A\n",
      "Generating channels:  80%|██████████████████████████████████████████▋          | 55526/69040 [00:11<00:02, 4577.07it/s]\u001b[A\n",
      "Generating channels:  81%|██████████████████████████████████████████▉          | 55993/69040 [00:11<00:03, 4241.32it/s]\u001b[A\n",
      "Generating channels:  82%|███████████████████████████████████████████▎         | 56464/69040 [00:12<00:02, 4360.30it/s]\u001b[A\n",
      "Generating channels:  83%|███████████████████████████████████████████▊         | 57048/69040 [00:12<00:02, 4761.29it/s]\u001b[A\n",
      "Generating channels:  83%|████████████████████████████████████████████▏        | 57534/69040 [00:12<00:02, 4479.31it/s]\u001b[A\n",
      "Generating channels:  84%|████████████████████████████████████████████▌        | 57991/69040 [00:12<00:02, 4326.00it/s]\u001b[A\n",
      "Generating channels: 100%|█████████████████████████████████████████████████████| 69040/69040 [00:12<00:00, 5520.79it/s]\u001b[A\n"
     ]
    },
    {
     "name": "stdout",
     "output_type": "stream",
     "text": [
      "\n",
      "BS-BS Channels\n"
     ]
    },
    {
     "name": "stderr",
     "output_type": "stream",
     "text": [
      "\n",
      "Reading ray-tracing: 100%|███████████████████████████████████████████████████████████████████████| 1/1 [00:00<?, ?it/s]\u001b[A\n",
      "\n",
      "Generating channels: 100%|██████████████████████████████████████████████████████████████| 1/1 [00:00<00:00, 500.27it/s]\u001b[A\n"
     ]
    },
    {
     "name": "stdout",
     "output_type": "stream",
     "text": [
      "\n",
      "Scene 3/5\n",
      "\n",
      "Basestation 1\n",
      "\n",
      "UE-BS Channels\n"
     ]
    },
    {
     "name": "stderr",
     "output_type": "stream",
     "text": [
      "\n",
      "Reading ray-tracing:   0%|                                                                   | 0/69040 [00:00<?, ?it/s]\u001b[A\n",
      "Reading ray-tracing:   4%|██▎                                                  | 2993/69040 [00:00<00:02, 29782.90it/s]\u001b[A\n",
      "Reading ray-tracing:   9%|████▋                                                | 6060/69040 [00:00<00:02, 30208.17it/s]\u001b[A\n",
      "Reading ray-tracing:  13%|██████▉                                              | 9081/69040 [00:00<00:02, 29790.34it/s]\u001b[A\n",
      "Reading ray-tracing:  18%|█████████                                           | 12087/69040 [00:00<00:01, 29837.66it/s]\u001b[A\n",
      "Reading ray-tracing:  22%|███████████▎                                        | 15072/69040 [00:00<00:01, 29367.72it/s]\u001b[A\n",
      "Reading ray-tracing:  26%|█████████████▌                                      | 18010/69040 [00:00<00:01, 29030.60it/s]\u001b[A\n",
      "Reading ray-tracing:  30%|███████████████▊                                    | 20938/69040 [00:00<00:01, 29062.48it/s]\u001b[A\n",
      "Reading ray-tracing:  35%|█████████████████▉                                  | 23857/69040 [00:00<00:01, 29096.25it/s]\u001b[A\n",
      "Reading ray-tracing:  39%|████████████████████▏                               | 26865/69040 [00:00<00:01, 29355.55it/s]\u001b[A\n",
      "Reading ray-tracing:  43%|██████████████████████▍                             | 29802/69040 [00:01<00:01, 28699.65it/s]\u001b[A\n",
      "Reading ray-tracing:  48%|████████████████████████▋                           | 32859/69040 [00:01<00:01, 29214.50it/s]\u001b[A\n",
      "Reading ray-tracing:  52%|██████████████████████████▉                         | 35784/69040 [00:01<00:01, 29221.19it/s]\u001b[A\n",
      "Reading ray-tracing:  56%|█████████████████████████████▏                      | 38796/69040 [00:01<00:01, 29486.71it/s]\u001b[A\n",
      "Reading ray-tracing:  61%|███████████████████████████████▌                    | 41913/69040 [00:01<00:00, 29943.07it/s]\u001b[A\n",
      "Reading ray-tracing:  65%|█████████████████████████████████▊                  | 44909/69040 [00:01<00:00, 29461.71it/s]\u001b[A\n",
      "Reading ray-tracing:  70%|████████████████████████████████████▏               | 47990/69040 [00:01<00:00, 29815.61it/s]\u001b[A\n",
      "Reading ray-tracing:  74%|██████████████████████████████████████▍             | 50974/69040 [00:01<00:00, 29341.74it/s]\u001b[A\n",
      "Reading ray-tracing:  78%|████████████████████████████████████████▌           | 53911/69040 [00:01<00:00, 28588.29it/s]\u001b[A\n",
      "Reading ray-tracing:  82%|██████████████████████████████████████████▊         | 56778/69040 [00:01<00:00, 28565.39it/s]\u001b[A\n",
      "Reading ray-tracing: 100%|████████████████████████████████████████████████████| 69040/69040 [00:02<00:00, 32282.71it/s]\u001b[A\n",
      "\n",
      "Generating channels:   0%|                                                                   | 0/69040 [00:00<?, ?it/s]\u001b[A\n",
      "Generating channels:   1%|▍                                                      | 510/69040 [00:00<00:13, 5099.76it/s]\u001b[A\n",
      "Generating channels:   1%|▊                                                     | 1020/69040 [00:00<00:17, 3828.78it/s]\u001b[A\n",
      "Generating channels:   2%|█▏                                                    | 1512/69040 [00:00<00:15, 4242.50it/s]\u001b[A\n",
      "Generating channels:   3%|█▊                                                    | 2268/69040 [00:00<00:12, 5411.82it/s]\u001b[A\n",
      "Generating channels:   4%|██▏                                                   | 2833/69040 [00:00<00:14, 4486.58it/s]\u001b[A\n",
      "Generating channels:   5%|██▌                                                   | 3317/69040 [00:00<00:14, 4527.73it/s]\u001b[A\n",
      "Generating channels:   6%|███▏                                                  | 4081/69040 [00:00<00:12, 5405.58it/s]\u001b[A\n",
      "Generating channels:   7%|███▋                                                  | 4651/69040 [00:00<00:13, 4696.85it/s]\u001b[A\n",
      "Generating channels:   7%|████                                                  | 5154/69040 [00:01<00:13, 4568.82it/s]\u001b[A\n",
      "Generating channels:   9%|████▋                                                 | 5962/69040 [00:01<00:11, 5482.25it/s]\u001b[A\n",
      "Generating channels:   9%|█████                                                 | 6541/69040 [00:01<00:12, 4898.63it/s]\u001b[A\n",
      "Generating channels:  10%|█████▌                                                | 7061/69040 [00:01<00:13, 4739.61it/s]\u001b[A\n",
      "Generating channels:  11%|██████▏                                               | 7856/69040 [00:01<00:11, 5557.79it/s]\u001b[A\n",
      "Generating channels:  12%|██████▌                                               | 8440/69040 [00:01<00:12, 4823.93it/s]\u001b[A\n",
      "Generating channels:  13%|███████                                               | 8956/69040 [00:01<00:12, 4648.11it/s]\u001b[A\n",
      "Generating channels:  14%|███████▌                                              | 9743/69040 [00:01<00:10, 5450.80it/s]\u001b[A\n",
      "Generating channels:  15%|███████▉                                             | 10320/69040 [00:02<00:12, 4849.13it/s]\u001b[A\n",
      "Generating channels:  16%|████████▎                                            | 10837/69040 [00:02<00:12, 4657.02it/s]\u001b[A\n",
      "Generating channels:  17%|████████▉                                            | 11601/69040 [00:02<00:10, 5404.44it/s]\u001b[A\n",
      "Generating channels:  18%|█████████▎                                           | 12171/69040 [00:02<00:11, 4759.32it/s]\u001b[A\n",
      "Generating channels:  18%|█████████▋                                           | 12679/69040 [00:02<00:12, 4438.28it/s]\u001b[A\n",
      "Generating channels:  19%|██████████▎                                          | 13427/69040 [00:02<00:10, 5170.09it/s]\u001b[A\n",
      "Generating channels:  20%|██████████▋                                          | 13977/69040 [00:02<00:11, 4768.96it/s]\u001b[A\n",
      "Generating channels:  21%|███████████                                          | 14480/69040 [00:03<00:12, 4353.70it/s]\u001b[A\n",
      "Generating channels:  22%|███████████▌                                         | 15086/69040 [00:03<00:11, 4769.14it/s]\u001b[A\n",
      "Generating channels:  23%|███████████▉                                         | 15612/69040 [00:03<00:10, 4888.73it/s]\u001b[A\n",
      "Generating channels:  23%|████████████▎                                        | 16120/69040 [00:03<00:12, 4338.36it/s]\u001b[A\n",
      "Generating channels:  24%|████████████▋                                        | 16577/69040 [00:03<00:12, 4272.62it/s]\u001b[A\n",
      "Generating channels:  25%|█████████████▎                                       | 17326/69040 [00:03<00:10, 5101.22it/s]\u001b[A\n",
      "Generating channels:  26%|█████████████▋                                       | 17860/69040 [00:03<00:11, 4544.83it/s]\u001b[A\n",
      "Generating channels:  27%|██████████████                                       | 18340/69040 [00:03<00:11, 4283.46it/s]\u001b[A\n",
      "Generating channels:  28%|██████████████▋                                      | 19066/69040 [00:03<00:09, 5026.21it/s]\u001b[A\n",
      "Generating channels:  28%|███████████████                                      | 19596/69040 [00:04<00:10, 4643.99it/s]\u001b[A\n",
      "Generating channels:  29%|███████████████▍                                     | 20083/69040 [00:04<00:11, 4245.22it/s]\u001b[A\n",
      "Generating channels:  30%|███████████████▉                                     | 20686/69040 [00:04<00:10, 4681.75it/s]\u001b[A\n",
      "Generating channels:  31%|████████████████▎                                    | 21270/69040 [00:04<00:09, 4977.37it/s]\u001b[A\n",
      "Generating channels:  32%|████████████████▋                                    | 21788/69040 [00:04<00:10, 4478.42it/s]\u001b[A\n",
      "Generating channels:  32%|█████████████████                                    | 22257/69040 [00:04<00:10, 4348.13it/s]\u001b[A\n",
      "Generating channels:  33%|█████████████████▌                                   | 22939/69040 [00:04<00:09, 4989.77it/s]\u001b[A\n",
      "Generating channels:  34%|██████████████████                                   | 23458/69040 [00:04<00:10, 4461.99it/s]\u001b[A\n",
      "Generating channels:  35%|██████████████████▎                                  | 23927/69040 [00:05<00:10, 4222.92it/s]\u001b[A\n",
      "Generating channels:  36%|██████████████████▊                                  | 24548/69040 [00:05<00:09, 4726.74it/s]\u001b[A\n",
      "Generating channels:  36%|███████████████████▏                                 | 25060/69040 [00:05<00:09, 4824.87it/s]\u001b[A\n",
      "Generating channels:  37%|███████████████████▌                                 | 25558/69040 [00:05<00:12, 3596.78it/s]\u001b[A\n"
     ]
    },
    {
     "name": "stderr",
     "output_type": "stream",
     "text": [
      "Generating channels:  38%|███████████████████▉                                 | 25972/69040 [00:05<00:12, 3554.72it/s]\u001b[A\n",
      "Generating channels:  39%|████████████████████▍                                | 26638/69040 [00:05<00:09, 4279.67it/s]\u001b[A\n",
      "Generating channels:  39%|████████████████████▊                                | 27112/69040 [00:05<00:10, 4150.16it/s]\u001b[A\n",
      "Generating channels:  40%|█████████████████████▏                               | 27559/69040 [00:05<00:10, 3814.54it/s]\u001b[A\n",
      "Generating channels:  41%|█████████████████████▌                               | 28049/69040 [00:06<00:10, 4074.34it/s]\u001b[A\n",
      "Generating channels:  42%|██████████████████████                               | 28742/69040 [00:06<00:08, 4809.19it/s]\u001b[A\n",
      "Generating channels:  42%|██████████████████████▍                              | 29251/69040 [00:06<00:09, 4285.70it/s]\u001b[A\n",
      "Generating channels:  43%|██████████████████████▊                              | 29708/69040 [00:06<00:09, 4142.43it/s]\u001b[A\n",
      "Generating channels:  44%|███████████████████████▎                             | 30431/69040 [00:06<00:07, 4925.50it/s]\u001b[A\n",
      "Generating channels:  45%|███████████████████████▊                             | 30951/69040 [00:06<00:08, 4547.89it/s]\u001b[A\n",
      "Generating channels:  46%|████████████████████████▏                            | 31429/69040 [00:06<00:09, 4109.46it/s]\u001b[A\n",
      "Generating channels:  46%|████████████████████████▌                            | 31978/69040 [00:06<00:08, 4445.18it/s]\u001b[A\n",
      "Generating channels:  47%|████████████████████████▉                            | 32525/69040 [00:07<00:07, 4711.09it/s]\u001b[A\n",
      "Generating channels:  48%|█████████████████████████▎                           | 33016/69040 [00:07<00:08, 4165.54it/s]\u001b[A\n",
      "Generating channels:  48%|█████████████████████████▋                           | 33456/69040 [00:07<00:09, 3700.05it/s]\u001b[A\n",
      "Generating channels:  49%|█████████████████████████▉                           | 33849/69040 [00:07<00:09, 3754.55it/s]\u001b[A\n",
      "Generating channels:  50%|██████████████████████████▎                          | 34334/69040 [00:07<00:08, 4034.32it/s]\u001b[A\n",
      "Generating channels:  50%|██████████████████████████▋                          | 34755/69040 [00:07<00:09, 3569.78it/s]\u001b[A\n",
      "Generating channels:  51%|██████████████████████████▉                          | 35132/69040 [00:07<00:10, 3316.49it/s]\u001b[A\n",
      "Generating channels:  51%|███████████████████████████▏                         | 35479/69040 [00:07<00:10, 3341.90it/s]\u001b[A\n",
      "Generating channels:  52%|███████████████████████████▋                         | 36130/69040 [00:08<00:07, 4160.18it/s]\u001b[A\n",
      "Generating channels:  53%|████████████████████████████                         | 36566/69040 [00:08<00:07, 4081.36it/s]\u001b[A\n",
      "Generating channels:  54%|████████████████████████████▍                        | 36988/69040 [00:08<00:08, 3685.07it/s]\u001b[A\n",
      "Generating channels:  54%|████████████████████████████▋                        | 37372/69040 [00:08<00:08, 3595.21it/s]\u001b[A\n",
      "Generating channels:  55%|█████████████████████████████                        | 37853/69040 [00:08<00:07, 3913.14it/s]\u001b[A\n",
      "Generating channels:  55%|█████████████████████████████▍                       | 38286/69040 [00:08<00:07, 4026.52it/s]\u001b[A\n",
      "Generating channels:  56%|█████████████████████████████▋                       | 38698/69040 [00:08<00:08, 3549.95it/s]\u001b[A\n",
      "Generating channels:  57%|█████████████████████████████▉                       | 39069/69040 [00:08<00:08, 3487.22it/s]\u001b[A\n",
      "Generating channels:  57%|██████████████████████████████▍                      | 39625/69040 [00:08<00:07, 4030.67it/s]\u001b[A\n",
      "Generating channels:  58%|██████████████████████████████▊                      | 40090/69040 [00:09<00:06, 4194.50it/s]\u001b[A\n",
      "Generating channels:  59%|███████████████████████████████                      | 40521/69040 [00:09<00:07, 3833.07it/s]\u001b[A\n",
      "Generating channels:  59%|███████████████████████████████▍                     | 40918/69040 [00:09<00:07, 3744.51it/s]\u001b[A\n",
      "Generating channels:  60%|███████████████████████████████▊                     | 41394/69040 [00:09<00:06, 4016.28it/s]\u001b[A\n",
      "Generating channels:  61%|████████████████████████████████▏                    | 41954/69040 [00:09<00:06, 4450.10it/s]\u001b[A\n",
      "Generating channels:  61%|████████████████████████████████▌                    | 42409/69040 [00:09<00:06, 4087.57it/s]\u001b[A\n",
      "Generating channels:  62%|████████████████████████████████▉                    | 42830/69040 [00:09<00:06, 3928.43it/s]\u001b[A\n",
      "Generating channels:  63%|█████████████████████████████████▎                   | 43391/69040 [00:09<00:05, 4379.07it/s]\u001b[A\n",
      "Generating channels:  64%|█████████████████████████████████▋                   | 43932/69040 [00:09<00:05, 4664.82it/s]\u001b[A\n",
      "Generating channels:  64%|██████████████████████████████████                   | 44409/69040 [00:10<00:05, 4253.43it/s]\u001b[A\n",
      "Generating channels:  65%|██████████████████████████████████▍                  | 44848/69040 [00:10<00:05, 4183.03it/s]\u001b[A\n",
      "Generating channels:  66%|██████████████████████████████████▉                  | 45527/69040 [00:10<00:04, 4892.14it/s]\u001b[A\n",
      "Generating channels:  67%|███████████████████████████████████▎                 | 46030/69040 [00:10<00:05, 4554.33it/s]\u001b[A\n",
      "Generating channels:  67%|███████████████████████████████████▋                 | 46499/69040 [00:10<00:05, 3937.13it/s]\u001b[A\n",
      "Generating channels:  68%|████████████████████████████████████                 | 46914/69040 [00:10<00:05, 3883.38it/s]\u001b[A\n",
      "Generating channels:  69%|████████████████████████████████████▍                | 47504/69040 [00:10<00:04, 4395.26it/s]\u001b[A\n",
      "Generating channels:  69%|████████████████████████████████████▊                | 47962/69040 [00:10<00:05, 3999.58it/s]\u001b[A\n",
      "Generating channels:  70%|█████████████████████████████████████▏               | 48380/69040 [00:11<00:05, 3639.59it/s]\u001b[A\n",
      "Generating channels:  71%|█████████████████████████████████████▍               | 48760/69040 [00:11<00:05, 3620.91it/s]\u001b[A\n",
      "Generating channels:  72%|█████████████████████████████████████▉               | 49376/69040 [00:11<00:04, 4275.93it/s]\u001b[A\n",
      "Generating channels:  72%|██████████████████████████████████████▏              | 49822/69040 [00:11<00:04, 4088.48it/s]\u001b[A\n",
      "Generating channels:  73%|██████████████████████████████████████▌              | 50245/69040 [00:11<00:05, 3692.31it/s]\u001b[A\n",
      "Generating channels:  73%|██████████████████████████████████████▊              | 50630/69040 [00:11<00:04, 3727.52it/s]\u001b[A\n",
      "Generating channels:  74%|███████████████████████████████████████▎             | 51184/69040 [00:11<00:04, 4209.50it/s]\u001b[A\n",
      "Generating channels:  75%|███████████████████████████████████████▋             | 51619/69040 [00:11<00:04, 4052.52it/s]\u001b[A\n",
      "Generating channels:  75%|███████████████████████████████████████▉             | 52035/69040 [00:12<00:04, 3561.02it/s]\u001b[A\n",
      "Generating channels:  76%|████████████████████████████████████████▏            | 52407/69040 [00:12<00:04, 3451.98it/s]\u001b[A\n",
      "Generating channels:  77%|████████████████████████████████████████▌            | 52850/69040 [00:12<00:04, 3699.33it/s]\u001b[A\n",
      "Generating channels:  77%|████████████████████████████████████████▉            | 53362/69040 [00:12<00:03, 4075.85it/s]\u001b[A\n",
      "Generating channels:  78%|█████████████████████████████████████████▎           | 53782/69040 [00:12<00:04, 3799.24it/s]\u001b[A\n",
      "Generating channels:  78%|█████████████████████████████████████████▌           | 54174/69040 [00:12<00:04, 3668.93it/s]\u001b[A\n",
      "Generating channels:  79%|█████████████████████████████████████████▉           | 54621/69040 [00:12<00:03, 3883.64it/s]\u001b[A\n",
      "Generating channels:  80%|██████████████████████████████████████████▎          | 55110/69040 [00:12<00:03, 4156.47it/s]\u001b[A\n",
      "Generating channels:  80%|██████████████████████████████████████████▋          | 55534/69040 [00:12<00:03, 4025.09it/s]\u001b[A\n",
      "Generating channels:  81%|██████████████████████████████████████████▉          | 55943/69040 [00:13<00:03, 3822.94it/s]\u001b[A\n",
      "Generating channels:  82%|███████████████████████████████████████████▎         | 56352/69040 [00:13<00:03, 3895.42it/s]\u001b[A\n",
      "Generating channels:  82%|███████████████████████████████████████████▋         | 56881/69040 [00:13<00:02, 4282.19it/s]\u001b[A\n"
     ]
    },
    {
     "name": "stderr",
     "output_type": "stream",
     "text": [
      "Generating channels:  83%|███████████████████████████████████████████▉         | 57315/69040 [00:13<00:02, 4184.19it/s]\u001b[A\n",
      "Generating channels:  84%|████████████████████████████████████████████▎        | 57738/69040 [00:13<00:02, 3791.93it/s]\u001b[A\n",
      "Generating channels:  84%|████████████████████████████████████████████▌        | 58126/69040 [00:13<00:02, 3782.80it/s]\u001b[A\n",
      "Generating channels: 100%|█████████████████████████████████████████████████████| 69040/69040 [00:13<00:00, 5007.79it/s]\u001b[A\n"
     ]
    },
    {
     "name": "stdout",
     "output_type": "stream",
     "text": [
      "\n",
      "BS-BS Channels\n"
     ]
    },
    {
     "name": "stderr",
     "output_type": "stream",
     "text": [
      "\n",
      "Reading ray-tracing: 100%|███████████████████████████████████████████████████████████████████████| 1/1 [00:00<?, ?it/s]\u001b[A\n",
      "\n",
      "Generating channels: 100%|██████████████████████████████████████████████████████████████| 1/1 [00:00<00:00, 498.08it/s]\u001b[A\n"
     ]
    },
    {
     "name": "stdout",
     "output_type": "stream",
     "text": [
      "\n",
      "Scene 4/5\n",
      "\n",
      "Basestation 1\n",
      "\n",
      "UE-BS Channels\n"
     ]
    },
    {
     "name": "stderr",
     "output_type": "stream",
     "text": [
      "\n",
      "Reading ray-tracing:   0%|                                                                   | 0/69040 [00:00<?, ?it/s]\u001b[A\n",
      "Reading ray-tracing:   3%|█▍                                                   | 1897/69040 [00:00<00:03, 18869.60it/s]\u001b[A\n",
      "Reading ray-tracing:   6%|███▎                                                 | 4291/69040 [00:00<00:02, 21841.43it/s]\u001b[A\n",
      "Reading ray-tracing:  10%|█████▎                                               | 6853/69040 [00:00<00:02, 23508.81it/s]\u001b[A\n",
      "Reading ray-tracing:  14%|███████▌                                             | 9856/69040 [00:00<00:02, 26023.25it/s]\u001b[A\n",
      "Reading ray-tracing:  18%|█████████▍                                          | 12466/69040 [00:00<00:02, 26003.02it/s]\u001b[A\n",
      "Reading ray-tracing:  22%|███████████▌                                        | 15396/69040 [00:00<00:01, 27072.95it/s]\u001b[A\n",
      "Reading ray-tracing:  26%|█████████████▋                                      | 18139/69040 [00:00<00:01, 27187.03it/s]\u001b[A\n",
      "Reading ray-tracing:  30%|███████████████▊                                    | 20983/69040 [00:00<00:01, 27581.37it/s]\u001b[A\n",
      "Reading ray-tracing:  34%|█████████████████▉                                  | 23742/69040 [00:00<00:01, 26488.72it/s]\u001b[A\n",
      "Reading ray-tracing:  38%|████████████████████                                | 26566/69040 [00:01<00:01, 27010.53it/s]\u001b[A\n",
      "Reading ray-tracing:  42%|██████████████████████                              | 29275/69040 [00:01<00:01, 26951.44it/s]\u001b[A\n",
      "Reading ray-tracing:  47%|████████████████████████▏                           | 32152/69040 [00:01<00:01, 27453.19it/s]\u001b[A\n",
      "Reading ray-tracing:  51%|██████████████████████████▎                         | 34902/69040 [00:01<00:01, 26862.76it/s]\u001b[A\n",
      "Reading ray-tracing:  54%|████████████████████████████▎                       | 37625/69040 [00:01<00:01, 26930.17it/s]\u001b[A\n",
      "Reading ray-tracing:  58%|██████████████████████████████▎                     | 40322/69040 [00:01<00:01, 26663.88it/s]\u001b[A\n",
      "Reading ray-tracing:  62%|████████████████████████████████▍                   | 43026/69040 [00:01<00:00, 26772.25it/s]\u001b[A\n",
      "Reading ray-tracing:  66%|██████████████████████████████████▍                 | 45766/69040 [00:01<00:00, 26955.28it/s]\u001b[A\n",
      "Reading ray-tracing:  70%|████████████████████████████████████▌               | 48464/69040 [00:01<00:00, 26830.55it/s]\u001b[A\n",
      "Reading ray-tracing:  74%|██████████████████████████████████████▌             | 51149/69040 [00:01<00:00, 26795.17it/s]\u001b[A\n",
      "Reading ray-tracing:  78%|████████████████████████████████████████▌           | 53921/69040 [00:02<00:00, 27067.90it/s]\u001b[A\n",
      "Reading ray-tracing:  82%|██████████████████████████████████████████▋         | 56629/69040 [00:02<00:00, 26808.91it/s]\u001b[A\n",
      "Reading ray-tracing:  87%|█████████████████████████████████████████████▍      | 60277/69040 [00:02<00:00, 29652.43it/s]\u001b[A\n",
      "Reading ray-tracing: 100%|████████████████████████████████████████████████████| 69040/69040 [00:02<00:00, 29359.34it/s]\u001b[A\n",
      "\n",
      "Generating channels:   0%|                                                                   | 0/69040 [00:00<?, ?it/s]\u001b[A\n",
      "Generating channels:   1%|▍                                                      | 478/69040 [00:00<00:14, 4777.24it/s]\u001b[A\n",
      "Generating channels:   1%|▊                                                      | 956/69040 [00:00<00:18, 3597.52it/s]\u001b[A\n",
      "Generating channels:   2%|█                                                     | 1334/69040 [00:00<00:18, 3618.96it/s]\u001b[A\n",
      "Generating channels:   3%|█▋                                                    | 2116/69040 [00:00<00:13, 5092.75it/s]\u001b[A\n",
      "Generating channels:   4%|██                                                    | 2648/69040 [00:00<00:15, 4414.74it/s]\u001b[A\n",
      "Generating channels:   5%|██▍                                                   | 3116/69040 [00:00<00:16, 3882.96it/s]\u001b[A\n",
      "Generating channels:   5%|██▉                                                   | 3779/69040 [00:00<00:14, 4601.34it/s]\u001b[A\n",
      "Generating channels:   6%|███▎                                                  | 4272/69040 [00:00<00:13, 4684.56it/s]\u001b[A\n",
      "Generating channels:   7%|███▋                                                  | 4764/69040 [00:01<00:15, 4017.61it/s]\u001b[A\n",
      "Generating channels:   8%|████                                                  | 5196/69040 [00:01<00:15, 3997.81it/s]\u001b[A\n",
      "Generating channels:   8%|████▌                                                 | 5864/69040 [00:01<00:13, 4697.57it/s]\u001b[A\n",
      "Generating channels:   9%|████▉                                                 | 6360/69040 [00:01<00:15, 4148.67it/s]\u001b[A\n",
      "Generating channels:  10%|█████▎                                                | 6803/69040 [00:01<00:16, 3668.65it/s]\u001b[A\n",
      "Generating channels:  11%|█████▊                                                | 7353/69040 [00:01<00:15, 4105.28it/s]\u001b[A\n",
      "Generating channels:  11%|██████                                                | 7793/69040 [00:01<00:15, 3838.17it/s]\u001b[A\n",
      "Generating channels:  12%|██████▍                                               | 8199/69040 [00:02<00:17, 3503.62it/s]\u001b[A\n",
      "Generating channels:  12%|██████▋                                               | 8568/69040 [00:02<00:18, 3219.72it/s]\u001b[A\n",
      "Generating channels:  13%|███████                                               | 8982/69040 [00:02<00:17, 3440.07it/s]\u001b[A\n",
      "Generating channels:  14%|███████▌                                              | 9734/69040 [00:02<00:13, 4469.80it/s]\u001b[A\n",
      "Generating channels:  15%|███████▊                                             | 10209/69040 [00:02<00:14, 3997.78it/s]\u001b[A\n",
      "Generating channels:  15%|████████▏                                            | 10636/69040 [00:02<00:15, 3711.00it/s]\u001b[A\n",
      "Generating channels:  16%|████████▌                                            | 11231/69040 [00:02<00:13, 4256.68it/s]\u001b[A\n",
      "Generating channels:  17%|█████████                                            | 11750/69040 [00:02<00:12, 4493.46it/s]\u001b[A\n",
      "Generating channels:  18%|█████████▍                                           | 12221/69040 [00:03<00:14, 3888.60it/s]\u001b[A\n",
      "Generating channels:  18%|█████████▋                                           | 12638/69040 [00:03<00:15, 3748.91it/s]\u001b[A\n",
      "Generating channels:  19%|██████████▏                                          | 13235/69040 [00:03<00:12, 4299.45it/s]\u001b[A\n",
      "Generating channels:  20%|██████████▌                                          | 13733/69040 [00:03<00:12, 4472.76it/s]\u001b[A\n",
      "Generating channels:  21%|██████████▉                                          | 14199/69040 [00:03<00:13, 3970.08it/s]\u001b[A\n",
      "Generating channels:  21%|███████████▏                                         | 14618/69040 [00:03<00:13, 3920.83it/s]\u001b[A\n",
      "Generating channels:  22%|███████████▊                                         | 15320/69040 [00:03<00:11, 4731.66it/s]\u001b[A\n",
      "Generating channels:  23%|████████████▏                                        | 15816/69040 [00:03<00:11, 4533.40it/s]\u001b[A\n",
      "Generating channels:  24%|████████████▌                                        | 16286/69040 [00:03<00:12, 4083.59it/s]\u001b[A\n",
      "Generating channels:  24%|████████████▉                                        | 16878/69040 [00:04<00:11, 4552.01it/s]\u001b[A\n",
      "Generating channels:  25%|█████████████▍                                       | 17430/69040 [00:04<00:10, 4804.04it/s]\u001b[A\n",
      "Generating channels:  26%|█████████████▊                                       | 17928/69040 [00:04<00:11, 4315.80it/s]\u001b[A\n",
      "Generating channels:  27%|██████████████                                       | 18380/69040 [00:04<00:12, 4148.15it/s]\u001b[A\n",
      "Generating channels:  28%|██████████████▋                                      | 19111/69040 [00:04<00:10, 4964.97it/s]\u001b[A\n",
      "Generating channels:  28%|███████████████                                      | 19630/69040 [00:04<00:10, 4623.75it/s]\u001b[A\n",
      "Generating channels:  29%|███████████████▍                                     | 20111/69040 [00:04<00:11, 4301.83it/s]\u001b[A\n",
      "Generating channels:  30%|███████████████▉                                     | 20750/69040 [00:04<00:09, 4831.68it/s]\u001b[A\n",
      "Generating channels:  31%|████████████████▎                                    | 21305/69040 [00:05<00:09, 5017.26it/s]\u001b[A\n"
     ]
    },
    {
     "name": "stderr",
     "output_type": "stream",
     "text": [
      "Generating channels:  32%|████████████████▊                                    | 21823/69040 [00:05<00:10, 4325.37it/s]\u001b[A\n",
      "Generating channels:  32%|█████████████████                                    | 22282/69040 [00:05<00:10, 4310.30it/s]\u001b[A\n",
      "Generating channels:  33%|█████████████████▋                                   | 23042/69040 [00:05<00:08, 5168.80it/s]\u001b[A\n",
      "Generating channels:  34%|██████████████████                                   | 23584/69040 [00:05<00:10, 4467.39it/s]\u001b[A\n",
      "Generating channels:  35%|██████████████████▍                                  | 24063/69040 [00:05<00:10, 4326.34it/s]\u001b[A\n",
      "Generating channels:  36%|███████████████████                                  | 24838/69040 [00:05<00:08, 5190.30it/s]\u001b[A\n",
      "Generating channels:  37%|███████████████████▍                                 | 25389/69040 [00:05<00:09, 4602.31it/s]\u001b[A\n",
      "Generating channels:  37%|███████████████████▊                                 | 25881/69040 [00:06<00:10, 4243.41it/s]\u001b[A\n",
      "Generating channels:  38%|████████████████████▎                                | 26506/69040 [00:06<00:09, 4725.92it/s]\u001b[A\n",
      "Generating channels:  39%|████████████████████▋                                | 27007/69040 [00:06<00:08, 4779.31it/s]\u001b[A\n",
      "Generating channels:  40%|█████████████████████                                | 27506/69040 [00:06<00:09, 4237.44it/s]\u001b[A\n",
      "Generating channels:  40%|█████████████████████▍                               | 27953/69040 [00:06<00:09, 4175.02it/s]\u001b[A\n",
      "Generating channels:  42%|█████████████████████▉                               | 28658/69040 [00:06<00:08, 4912.41it/s]\u001b[A\n",
      "Generating channels:  42%|██████████████████████▍                              | 29172/69040 [00:06<00:08, 4456.30it/s]\u001b[A\n",
      "Generating channels:  43%|██████████████████████▊                              | 29640/69040 [00:06<00:09, 4136.73it/s]\u001b[A\n",
      "Generating channels:  44%|███████████████████████▎                             | 30296/69040 [00:07<00:08, 4738.93it/s]\u001b[A\n",
      "Generating channels:  45%|███████████████████████▋                             | 30800/69040 [00:07<00:07, 4812.12it/s]\u001b[A\n",
      "Generating channels:  45%|████████████████████████                             | 31299/69040 [00:07<00:08, 4219.28it/s]\u001b[A\n",
      "Generating channels:  46%|████████████████████████▎                            | 31745/69040 [00:07<00:08, 4164.09it/s]\u001b[A\n",
      "Generating channels:  47%|████████████████████████▊                            | 32380/69040 [00:07<00:07, 4726.84it/s]\u001b[A\n",
      "Generating channels:  48%|█████████████████████████▏                           | 32872/69040 [00:07<00:08, 4234.18it/s]\u001b[A\n",
      "Generating channels:  48%|█████████████████████████▌                           | 33317/69040 [00:07<00:09, 3927.95it/s]\u001b[A\n",
      "Generating channels:  49%|█████████████████████████▉                           | 33830/69040 [00:07<00:08, 4227.55it/s]\u001b[A\n",
      "Generating channels:  50%|██████████████████████████▍                          | 34393/69040 [00:07<00:07, 4590.70it/s]\u001b[A\n",
      "Generating channels:  51%|██████████████████████████▊                          | 34870/69040 [00:08<00:08, 4245.15it/s]\u001b[A\n",
      "Generating channels:  51%|███████████████████████████                          | 35311/69040 [00:08<00:08, 4079.06it/s]\u001b[A\n",
      "Generating channels:  52%|███████████████████████████▌                         | 35940/69040 [00:08<00:07, 4650.98it/s]\u001b[A\n",
      "Generating channels:  53%|███████████████████████████▉                         | 36459/69040 [00:08<00:06, 4791.10it/s]\u001b[A\n",
      "Generating channels:  54%|████████████████████████████▎                        | 36951/69040 [00:08<00:07, 4197.90it/s]\u001b[A\n",
      "Generating channels:  54%|████████████████████████████▋                        | 37391/69040 [00:08<00:07, 4054.05it/s]\u001b[A\n",
      "Generating channels:  55%|█████████████████████████████▏                       | 38068/69040 [00:08<00:06, 4760.15it/s]\u001b[A\n",
      "Generating channels:  56%|█████████████████████████████▌                       | 38565/69040 [00:08<00:06, 4513.09it/s]\u001b[A\n",
      "Generating channels:  57%|█████████████████████████████▉                       | 39032/69040 [00:09<00:07, 4176.63it/s]\u001b[A\n",
      "Generating channels:  57%|██████████████████████████████▎                      | 39542/69040 [00:09<00:06, 4415.15it/s]\u001b[A\n",
      "Generating channels:  58%|██████████████████████████████▊                      | 40121/69040 [00:09<00:06, 4785.37it/s]\u001b[A\n",
      "Generating channels:  59%|███████████████████████████████▏                     | 40614/69040 [00:09<00:06, 4320.61it/s]\u001b[A\n",
      "Generating channels:  59%|███████████████████████████████▌                     | 41063/69040 [00:09<00:06, 4152.39it/s]\u001b[A\n",
      "Generating channels:  60%|███████████████████████████████▉                     | 41667/69040 [00:09<00:05, 4642.23it/s]\u001b[A\n",
      "Generating channels:  61%|████████████████████████████████▎                    | 42146/69040 [00:09<00:05, 4652.51it/s]\u001b[A\n",
      "Generating channels:  62%|████████████████████████████████▋                    | 42622/69040 [00:09<00:06, 4159.12it/s]\u001b[A\n",
      "Generating channels:  62%|█████████████████████████████████                    | 43054/69040 [00:09<00:06, 4047.44it/s]\u001b[A\n",
      "Generating channels:  63%|█████████████████████████████████▌                   | 43685/69040 [00:10<00:05, 4643.05it/s]\u001b[A\n",
      "Generating channels:  64%|█████████████████████████████████▉                   | 44165/69040 [00:10<00:05, 4500.96it/s]\u001b[A\n",
      "Generating channels:  65%|██████████████████████████████████▎                  | 44626/69040 [00:10<00:05, 4143.77it/s]\u001b[A\n",
      "Generating channels:  65%|██████████████████████████████████▋                  | 45116/69040 [00:10<00:05, 4337.14it/s]\u001b[A\n",
      "Generating channels:  66%|███████████████████████████████████                  | 45694/69040 [00:10<00:04, 4730.45it/s]\u001b[A\n",
      "Generating channels:  67%|███████████████████████████████████▍                 | 46179/69040 [00:10<00:05, 4293.80it/s]\u001b[A\n",
      "Generating channels:  68%|███████████████████████████████████▊                 | 46623/69040 [00:10<00:05, 4017.33it/s]\u001b[A\n",
      "Generating channels:  68%|████████████████████████████████████▏                | 47160/69040 [00:10<00:05, 4363.33it/s]\u001b[A\n",
      "Generating channels:  69%|████████████████████████████████████▌                | 47687/69040 [00:10<00:04, 4603.37it/s]\u001b[A\n",
      "Generating channels:  70%|████████████████████████████████████▉                | 48160/69040 [00:11<00:04, 4231.11it/s]\u001b[A\n",
      "Generating channels:  70%|█████████████████████████████████████▎               | 48596/69040 [00:11<00:04, 4127.40it/s]\u001b[A\n",
      "Generating channels:  71%|█████████████████████████████████████▋               | 49163/69040 [00:11<00:04, 4541.17it/s]\u001b[A\n",
      "Generating channels:  72%|██████████████████████████████████████               | 49663/69040 [00:11<00:04, 4661.59it/s]\u001b[A\n",
      "Generating channels:  73%|██████████████████████████████████████▍              | 50138/69040 [00:11<00:04, 4198.10it/s]\u001b[A\n",
      "Generating channels:  73%|██████████████████████████████████████▊              | 50572/69040 [00:11<00:04, 4205.99it/s]\u001b[A\n",
      "Generating channels:  74%|███████████████████████████████████████▎             | 51142/69040 [00:11<00:03, 4614.99it/s]\u001b[A\n",
      "Generating channels:  75%|███████████████████████████████████████▋             | 51627/69040 [00:11<00:03, 4673.49it/s]\u001b[A\n",
      "Generating channels:  75%|███████████████████████████████████████▉             | 52103/69040 [00:12<00:03, 4275.63it/s]\u001b[A\n",
      "Generating channels:  76%|████████████████████████████████████████▎            | 52542/69040 [00:12<00:03, 4266.24it/s]\u001b[A\n",
      "Generating channels:  77%|████████████████████████████████████████▊            | 53151/69040 [00:12<00:03, 4765.45it/s]\u001b[A\n",
      "Generating channels:  78%|█████████████████████████████████████████▏           | 53637/69040 [00:12<00:03, 4600.70it/s]\u001b[A\n",
      "Generating channels:  78%|█████████████████████████████████████████▌           | 54105/69040 [00:12<00:03, 4204.48it/s]\u001b[A\n",
      "Generating channels:  79%|█████████████████████████████████████████▉           | 54554/69040 [00:12<00:03, 4274.74it/s]\u001b[A\n",
      "Generating channels:  80%|██████████████████████████████████████████▎          | 55099/69040 [00:12<00:03, 4593.03it/s]\u001b[A\n",
      "Generating channels:  80%|██████████████████████████████████████████▋          | 55567/69040 [00:12<00:03, 4289.16it/s]\u001b[A\n"
     ]
    },
    {
     "name": "stderr",
     "output_type": "stream",
     "text": [
      "Generating channels:  81%|██████████████████████████████████████████▉          | 56005/69040 [00:12<00:03, 3983.77it/s]\u001b[A\n",
      "Generating channels:  82%|███████████████████████████████████████████▎         | 56413/69040 [00:13<00:03, 3889.16it/s]\u001b[A\n",
      "Generating channels:  82%|███████████████████████████████████████████▋         | 56932/69040 [00:13<00:02, 4232.15it/s]\u001b[A\n",
      "Generating channels:  83%|████████████████████████████████████████████         | 57364/69040 [00:13<00:02, 4075.60it/s]\u001b[A\n",
      "Generating channels:  84%|████████████████████████████████████████████▎        | 57778/69040 [00:13<00:02, 3884.96it/s]\u001b[A\n",
      "Generating channels: 100%|█████████████████████████████████████████████████████| 69040/69040 [00:13<00:00, 5090.17it/s]\u001b[A\n"
     ]
    },
    {
     "name": "stdout",
     "output_type": "stream",
     "text": [
      "\n",
      "BS-BS Channels\n"
     ]
    },
    {
     "name": "stderr",
     "output_type": "stream",
     "text": [
      "\n",
      "Reading ray-tracing: 100%|██████████████████████████████████████████████████████████████| 1/1 [00:00<00:00, 999.12it/s]\u001b[A\n",
      "\n",
      "Generating channels: 100%|██████████████████████████████████████████████████████████████| 1/1 [00:00<00:00, 499.56it/s]\u001b[A\n"
     ]
    },
    {
     "name": "stdout",
     "output_type": "stream",
     "text": [
      "\n",
      "Scene 5/5\n",
      "\n",
      "Basestation 1\n",
      "\n",
      "UE-BS Channels\n"
     ]
    },
    {
     "name": "stderr",
     "output_type": "stream",
     "text": [
      "\n",
      "Reading ray-tracing:   0%|                                                                   | 0/69040 [00:00<?, ?it/s]\u001b[A\n",
      "Reading ray-tracing:   4%|██▏                                                  | 2926/69040 [00:00<00:02, 29110.12it/s]\u001b[A\n",
      "Reading ray-tracing:   9%|████▌                                                | 5989/69040 [00:00<00:02, 29894.31it/s]\u001b[A\n",
      "Reading ray-tracing:  13%|██████▉                                              | 8979/69040 [00:00<00:02, 29295.03it/s]\u001b[A\n",
      "Reading ray-tracing:  17%|████████▉                                           | 11912/69040 [00:00<00:01, 29250.19it/s]\u001b[A\n",
      "Reading ray-tracing:  21%|███████████▏                                        | 14838/69040 [00:00<00:01, 28891.43it/s]\u001b[A\n",
      "Reading ray-tracing:  26%|█████████████▍                                      | 17788/69040 [00:00<00:01, 29037.35it/s]\u001b[A\n",
      "Reading ray-tracing:  30%|███████████████▋                                    | 20763/69040 [00:00<00:01, 29264.84it/s]\u001b[A\n",
      "Reading ray-tracing:  34%|█████████████████▊                                  | 23691/69040 [00:00<00:01, 29221.60it/s]\u001b[A\n",
      "Reading ray-tracing:  39%|████████████████████▏                               | 26756/69040 [00:00<00:01, 29616.61it/s]\u001b[A\n",
      "Reading ray-tracing:  43%|██████████████████████▍                             | 29719/69040 [00:01<00:01, 29432.15it/s]\u001b[A\n",
      "Reading ray-tracing:  47%|████████████████████████▋                           | 32708/69040 [00:01<00:01, 29519.63it/s]\u001b[A\n",
      "Reading ray-tracing:  52%|██████████████████████████▉                         | 35742/69040 [00:01<00:01, 29762.69it/s]\u001b[A\n",
      "Reading ray-tracing:  56%|█████████████████████████████▏                      | 38771/69040 [00:01<00:01, 29875.41it/s]\u001b[A\n",
      "Reading ray-tracing:  60%|███████████████████████████████▍                    | 41759/69040 [00:01<00:00, 29477.02it/s]\u001b[A\n",
      "Reading ray-tracing:  65%|█████████████████████████████████▋                  | 44708/69040 [00:01<00:00, 28460.34it/s]\u001b[A\n",
      "Reading ray-tracing:  69%|███████████████████████████████████▊                | 47562/69040 [00:01<00:00, 28440.94it/s]\u001b[A\n",
      "Reading ray-tracing:  73%|█████████████████████████████████████▉              | 50412/69040 [00:01<00:00, 28242.09it/s]\u001b[A\n",
      "Reading ray-tracing:  77%|████████████████████████████████████████            | 53272/69040 [00:01<00:00, 28304.43it/s]\u001b[A\n",
      "Reading ray-tracing:  81%|██████████████████████████████████████████▎         | 56105/69040 [00:01<00:00, 28268.76it/s]\u001b[A\n",
      "Reading ray-tracing:  86%|████████████████████████████████████████████▊       | 59538/69040 [00:02<00:00, 30019.18it/s]\u001b[A\n",
      "Reading ray-tracing: 100%|████████████████████████████████████████████████████| 69040/69040 [00:02<00:00, 32002.62it/s]\u001b[A\n",
      "\n",
      "Generating channels:   0%|                                                                   | 0/69040 [00:00<?, ?it/s]\u001b[A\n",
      "Generating channels:   1%|▍                                                      | 519/69040 [00:00<00:13, 5163.12it/s]\u001b[A\n",
      "Generating channels:   2%|▊                                                     | 1036/69040 [00:00<00:17, 3837.37it/s]\u001b[A\n",
      "Generating channels:   2%|█▏                                                    | 1500/69040 [00:00<00:16, 4133.80it/s]\u001b[A\n",
      "Generating channels:   3%|█▋                                                    | 2226/69040 [00:00<00:12, 5229.27it/s]\u001b[A\n",
      "Generating channels:   4%|██▏                                                   | 2772/69040 [00:00<00:15, 4309.94it/s]\u001b[A\n",
      "Generating channels:   5%|██▌                                                   | 3238/69040 [00:00<00:15, 4167.98it/s]\u001b[A\n",
      "Generating channels:   6%|███                                                   | 3994/69040 [00:00<00:12, 5091.45it/s]\u001b[A\n",
      "Generating channels:   7%|███▌                                                  | 4535/69040 [00:01<00:14, 4521.61it/s]\u001b[A\n",
      "Generating channels:   7%|███▉                                                  | 5018/69040 [00:01<00:15, 4207.94it/s]\u001b[A\n",
      "Generating channels:   8%|████▌                                                 | 5822/69040 [00:01<00:12, 5171.88it/s]\u001b[A\n",
      "Generating channels:   9%|████▉                                                 | 6375/69040 [00:01<00:13, 4762.98it/s]\u001b[A\n",
      "Generating channels:  10%|█████▍                                                | 6880/69040 [00:01<00:14, 4340.57it/s]\u001b[A\n",
      "Generating channels:  11%|█████▉                                                | 7566/69040 [00:01<00:12, 4955.67it/s]\u001b[A\n",
      "Generating channels:  12%|██████▎                                               | 8099/69040 [00:01<00:12, 5046.31it/s]\u001b[A\n",
      "Generating channels:  12%|██████▋                                               | 8626/69040 [00:01<00:13, 4392.85it/s]\u001b[A\n",
      "Generating channels:  13%|███████▏                                              | 9216/69040 [00:01<00:12, 4762.92it/s]\u001b[A\n",
      "Generating channels:  14%|███████▋                                              | 9819/69040 [00:02<00:11, 5095.37it/s]\u001b[A\n",
      "Generating channels:  15%|███████▉                                             | 10353/69040 [00:02<00:13, 4435.51it/s]\u001b[A\n",
      "Generating channels:  16%|████████▎                                            | 10827/69040 [00:02<00:13, 4311.62it/s]\u001b[A\n",
      "Generating channels:  17%|████████▊                                            | 11558/69040 [00:02<00:11, 5069.87it/s]\u001b[A\n",
      "Generating channels:  18%|█████████▎                                           | 12093/69040 [00:02<00:12, 4670.37it/s]\u001b[A\n",
      "Generating channels:  18%|█████████▋                                           | 12584/69040 [00:02<00:13, 4241.19it/s]\u001b[A\n",
      "Generating channels:  19%|██████████▏                                          | 13197/69040 [00:02<00:11, 4702.77it/s]\u001b[A\n",
      "Generating channels:  20%|██████████▌                                          | 13749/69040 [00:02<00:11, 4908.96it/s]\u001b[A\n",
      "Generating channels:  21%|██████████▉                                          | 14260/69040 [00:03<00:12, 4278.02it/s]\u001b[A\n",
      "Generating channels:  21%|███████████▎                                         | 14714/69040 [00:03<00:12, 4221.87it/s]\u001b[A\n",
      "Generating channels:  22%|███████████▊                                         | 15445/69040 [00:03<00:10, 5012.05it/s]\u001b[A\n",
      "Generating channels:  23%|████████████▎                                        | 15972/69040 [00:03<00:11, 4499.74it/s]\u001b[A\n",
      "Generating channels:  24%|████████████▋                                        | 16448/69040 [00:03<00:12, 4355.21it/s]\u001b[A\n",
      "Generating channels:  25%|█████████████▏                                       | 17207/69040 [00:03<00:10, 5179.38it/s]\u001b[A\n",
      "Generating channels:  26%|█████████████▋                                       | 17751/69040 [00:03<00:10, 4677.50it/s]\u001b[A\n",
      "Generating channels:  26%|██████████████                                       | 18244/69040 [00:03<00:12, 4190.30it/s]\u001b[A\n",
      "Generating channels:  27%|██████████████▍                                      | 18844/69040 [00:04<00:10, 4630.31it/s]\u001b[A\n",
      "Generating channels:  28%|██████████████▉                                      | 19417/69040 [00:04<00:10, 4906.83it/s]\u001b[A\n",
      "Generating channels:  29%|███████████████▎                                     | 19931/69040 [00:04<00:11, 4426.85it/s]\u001b[A\n",
      "Generating channels:  30%|███████████████▋                                     | 20397/69040 [00:04<00:11, 4309.99it/s]\u001b[A\n",
      "Generating channels:  31%|████████████████▏                                    | 21141/69040 [00:04<00:09, 5120.69it/s]\u001b[A\n",
      "Generating channels:  31%|████████████████▋                                    | 21677/69040 [00:04<00:10, 4446.27it/s]\u001b[A\n",
      "Generating channels:  32%|█████████████████                                    | 22152/69040 [00:04<00:10, 4322.32it/s]\u001b[A\n",
      "Generating channels:  33%|█████████████████▌                                   | 22871/69040 [00:04<00:09, 5042.47it/s]\u001b[A\n",
      "Generating channels:  34%|█████████████████▉                                   | 23403/69040 [00:05<00:09, 4662.57it/s]\u001b[A\n",
      "Generating channels:  35%|██████████████████▎                                  | 23892/69040 [00:05<00:10, 4246.42it/s]\u001b[A\n",
      "Generating channels:  35%|██████████████████▊                                  | 24474/69040 [00:05<00:09, 4631.07it/s]\u001b[A\n"
     ]
    },
    {
     "name": "stderr",
     "output_type": "stream",
     "text": [
      "Generating channels:  36%|███████████████████▏                                 | 25053/69040 [00:05<00:08, 4927.28it/s]\u001b[A\n",
      "Generating channels:  37%|███████████████████▋                                 | 25566/69040 [00:05<00:09, 4379.58it/s]\u001b[A\n",
      "Generating channels:  38%|███████████████████▉                                 | 26027/69040 [00:05<00:10, 4280.14it/s]\u001b[A\n",
      "Generating channels:  39%|████████████████████▌                                | 26754/69040 [00:05<00:08, 5048.74it/s]\u001b[A\n",
      "Generating channels:  40%|████████████████████▉                                | 27282/69040 [00:05<00:09, 4578.47it/s]\u001b[A\n",
      "Generating channels:  40%|█████████████████████▎                               | 27762/69040 [00:06<00:09, 4265.96it/s]\u001b[A\n",
      "Generating channels:  41%|█████████████████████▊                               | 28393/69040 [00:06<00:08, 4774.95it/s]\u001b[A\n",
      "Generating channels:  42%|██████████████████████▏                              | 28894/69040 [00:06<00:08, 4829.71it/s]\u001b[A\n",
      "Generating channels:  43%|██████████████████████▌                              | 29393/69040 [00:06<00:09, 4300.01it/s]\u001b[A\n",
      "Generating channels:  43%|██████████████████████▉                              | 29843/69040 [00:06<00:09, 4274.43it/s]\u001b[A\n",
      "Generating channels:  44%|███████████████████████▍                             | 30562/69040 [00:06<00:07, 5039.66it/s]\u001b[A\n",
      "Generating channels:  45%|███████████████████████▊                             | 31086/69040 [00:06<00:08, 4479.49it/s]\u001b[A\n",
      "Generating channels:  46%|████████████████████████▏                            | 31557/69040 [00:06<00:08, 4239.61it/s]\u001b[A\n",
      "Generating channels:  47%|████████████████████████▋                            | 32171/69040 [00:06<00:07, 4717.67it/s]\u001b[A\n",
      "Generating channels:  47%|█████████████████████████                            | 32673/69040 [00:07<00:07, 4797.17it/s]\u001b[A\n",
      "Generating channels:  48%|█████████████████████████▍                           | 33168/69040 [00:07<00:08, 4309.69it/s]\u001b[A\n",
      "Generating channels:  49%|█████████████████████████▊                           | 33617/69040 [00:07<00:08, 4223.64it/s]\u001b[A\n",
      "Generating channels:  50%|██████████████████████████▎                          | 34313/69040 [00:07<00:07, 4940.99it/s]\u001b[A\n",
      "Generating channels:  50%|██████████████████████████▋                          | 34825/69040 [00:07<00:07, 4558.30it/s]\u001b[A\n",
      "Generating channels:  51%|███████████████████████████                          | 35298/69040 [00:07<00:07, 4251.75it/s]\u001b[A\n",
      "Generating channels:  52%|███████████████████████████▌                         | 35924/69040 [00:07<00:06, 4763.34it/s]\u001b[A\n",
      "Generating channels:  53%|███████████████████████████▉                         | 36425/69040 [00:07<00:06, 4823.01it/s]\u001b[A\n",
      "Generating channels:  53%|████████████████████████████▎                        | 36921/69040 [00:08<00:07, 4253.15it/s]\u001b[A\n",
      "Generating channels:  54%|████████████████████████████▋                        | 37366/69040 [00:08<00:07, 4080.94it/s]\u001b[A\n",
      "Generating channels:  55%|█████████████████████████████▏                       | 38051/69040 [00:08<00:06, 4791.28it/s]\u001b[A\n",
      "Generating channels:  56%|█████████████████████████████▌                       | 38551/69040 [00:08<00:06, 4448.21it/s]\u001b[A\n",
      "Generating channels:  57%|█████████████████████████████▉                       | 39014/69040 [00:08<00:07, 4074.57it/s]\u001b[A\n",
      "Generating channels:  57%|██████████████████████████████▎                      | 39525/69040 [00:08<00:06, 4329.78it/s]\u001b[A\n",
      "Generating channels:  58%|██████████████████████████████▊                      | 40097/69040 [00:08<00:06, 4691.67it/s]\u001b[A\n",
      "Generating channels:  59%|███████████████████████████████▏                     | 40582/69040 [00:08<00:06, 4303.43it/s]\u001b[A\n",
      "Generating channels:  59%|███████████████████████████████▍                     | 41028/69040 [00:09<00:06, 4096.74it/s]\u001b[A\n",
      "Generating channels:  60%|███████████████████████████████▉                     | 41641/69040 [00:09<00:05, 4621.85it/s]\u001b[A\n",
      "Generating channels:  61%|████████████████████████████████▎                    | 42129/69040 [00:09<00:05, 4685.38it/s]\u001b[A\n",
      "Generating channels:  62%|████████████████████████████████▋                    | 42609/69040 [00:09<00:06, 4375.01it/s]\u001b[A\n",
      "Generating channels:  62%|█████████████████████████████████                    | 43058/69040 [00:09<00:06, 4239.87it/s]\u001b[A\n",
      "Generating channels:  63%|█████████████████████████████████▌                   | 43720/69040 [00:09<00:05, 4874.81it/s]\u001b[A\n",
      "Generating channels:  64%|█████████████████████████████████▉                   | 44220/69040 [00:09<00:05, 4572.28it/s]\u001b[A\n",
      "Generating channels:  65%|██████████████████████████████████▎                  | 44689/69040 [00:09<00:05, 4211.17it/s]\u001b[A\n",
      "Generating channels:  65%|██████████████████████████████████▋                  | 45152/69040 [00:09<00:05, 4314.65it/s]\u001b[A\n",
      "Generating channels:  66%|███████████████████████████████████                  | 45710/69040 [00:10<00:05, 4657.55it/s]\u001b[A\n",
      "Generating channels:  67%|███████████████████████████████████▍                 | 46186/69040 [00:10<00:05, 4368.24it/s]\u001b[A\n",
      "Generating channels:  68%|███████████████████████████████████▊                 | 46633/69040 [00:10<00:05, 4183.82it/s]\u001b[A\n",
      "Generating channels:  68%|████████████████████████████████████▏                | 47213/69040 [00:10<00:04, 4612.14it/s]\u001b[A\n",
      "Generating channels:  69%|████████████████████████████████████▋                | 47771/69040 [00:10<00:04, 4870.01it/s]\u001b[A\n",
      "Generating channels:  70%|█████████████████████████████████████                | 48267/69040 [00:10<00:04, 4407.30it/s]\u001b[A\n",
      "Generating channels:  71%|█████████████████████████████████████▍               | 48721/69040 [00:10<00:04, 4310.18it/s]\u001b[A\n",
      "Generating channels:  71%|█████████████████████████████████████▊               | 49327/69040 [00:10<00:04, 4776.06it/s]\u001b[A\n",
      "Generating channels:  72%|██████████████████████████████████████▏              | 49816/69040 [00:10<00:04, 4524.35it/s]\u001b[A\n",
      "Generating channels:  73%|██████████████████████████████████████▌              | 50278/69040 [00:11<00:04, 4118.31it/s]\u001b[A\n",
      "Generating channels:  73%|██████████████████████████████████████▉              | 50719/69040 [00:11<00:04, 4193.78it/s]\u001b[A\n",
      "Generating channels:  74%|███████████████████████████████████████▎             | 51266/69040 [00:11<00:03, 4537.99it/s]\u001b[A\n",
      "Generating channels:  75%|███████████████████████████████████████▋             | 51730/69040 [00:11<00:04, 4319.40it/s]\u001b[A\n",
      "Generating channels:  76%|████████████████████████████████████████             | 52171/69040 [00:11<00:04, 3865.49it/s]\u001b[A\n",
      "Generating channels:  76%|████████████████████████████████████████▍            | 52606/69040 [00:11<00:04, 3990.33it/s]\u001b[A\n",
      "Generating channels:  77%|████████████████████████████████████████▊            | 53145/69040 [00:11<00:03, 4360.97it/s]\u001b[A\n",
      "Generating channels:  78%|█████████████████████████████████████████▏           | 53593/69040 [00:11<00:03, 4269.76it/s]\u001b[A\n",
      "Generating channels:  78%|█████████████████████████████████████████▍           | 54029/69040 [00:11<00:03, 4010.22it/s]\u001b[A\n",
      "Generating channels:  79%|█████████████████████████████████████████▊           | 54450/69040 [00:12<00:03, 4057.29it/s]\u001b[A\n",
      "Generating channels:  80%|██████████████████████████████████████████▏          | 54995/69040 [00:12<00:03, 4438.06it/s]\u001b[A\n",
      "Generating channels:  80%|██████████████████████████████████████████▌          | 55446/69040 [00:12<00:03, 4401.21it/s]\u001b[A\n",
      "Generating channels:  81%|██████████████████████████████████████████▉          | 55891/69040 [00:12<00:03, 4039.12it/s]\u001b[A\n",
      "Generating channels:  82%|███████████████████████████████████████████▏         | 56311/69040 [00:12<00:03, 4081.21it/s]\u001b[A\n",
      "Generating channels:  82%|███████████████████████████████████████████▌         | 56807/69040 [00:12<00:02, 4326.93it/s]\u001b[A\n",
      "Generating channels:  83%|███████████████████████████████████████████▉         | 57251/69040 [00:12<00:02, 4352.85it/s]\u001b[A\n",
      "Generating channels:  84%|████████████████████████████████████████████▎        | 57691/69040 [00:12<00:02, 3975.19it/s]\u001b[A\n",
      "Generating channels:  84%|████████████████████████████████████████████▌        | 58098/69040 [00:12<00:02, 3963.01it/s]\u001b[A\n"
     ]
    },
    {
     "name": "stderr",
     "output_type": "stream",
     "text": [
      "Generating channels: 100%|█████████████████████████████████████████████████████| 69040/69040 [00:13<00:00, 5281.33it/s]\u001b[A\n"
     ]
    },
    {
     "name": "stdout",
     "output_type": "stream",
     "text": [
      "\n",
      "BS-BS Channels\n"
     ]
    },
    {
     "name": "stderr",
     "output_type": "stream",
     "text": [
      "\n",
      "Reading ray-tracing: 100%|██████████████████████████████████████████████████████████████| 1/1 [00:00<00:00, 999.12it/s]\u001b[A\n",
      "\n",
      "Generating channels: 100%|██████████████████████████████████████████████████████████████| 1/1 [00:00<00:00, 499.68it/s]\u001b[A\n",
      " 50%|██████████████████████████████████████████                                          | 1/2 [01:23<01:23, 83.37s/it]"
     ]
    },
    {
     "name": "stdout",
     "output_type": "stream",
     "text": [
      "Scenes 0–4 generation time: 83.24s\n",
      "The following parameters seem unnecessary:\n",
      "{'activate_OFDM'}\n",
      "\n",
      "Scene 1/5\n",
      "\n",
      "Basestation 1\n",
      "\n",
      "UE-BS Channels\n"
     ]
    },
    {
     "name": "stderr",
     "output_type": "stream",
     "text": [
      "\n",
      "Reading ray-tracing:   0%|                                                                   | 0/69040 [00:00<?, ?it/s]\u001b[A\n",
      "Reading ray-tracing:   4%|██▎                                                  | 2946/69040 [00:00<00:02, 29300.13it/s]\u001b[A\n",
      "Reading ray-tracing:   9%|████▋                                                | 6105/69040 [00:00<00:02, 30551.47it/s]\u001b[A\n",
      "Reading ray-tracing:  13%|███████                                              | 9161/69040 [00:00<00:01, 30136.94it/s]\u001b[A\n",
      "Reading ray-tracing:  18%|█████████▏                                          | 12176/69040 [00:00<00:01, 29975.06it/s]\u001b[A\n",
      "Reading ray-tracing:  22%|███████████▍                                        | 15201/69040 [00:00<00:01, 30018.34it/s]\u001b[A\n",
      "Reading ray-tracing:  26%|█████████████▋                                      | 18204/69040 [00:00<00:01, 29135.77it/s]\u001b[A\n",
      "Reading ray-tracing:  31%|███████████████▉                                    | 21122/69040 [00:00<00:01, 29009.48it/s]\u001b[A\n",
      "Reading ray-tracing:  35%|██████████████████                                  | 24026/69040 [00:00<00:01, 28389.76it/s]\u001b[A\n",
      "Reading ray-tracing:  39%|████████████████████▎                               | 26997/69040 [00:00<00:01, 28747.57it/s]\u001b[A\n",
      "Reading ray-tracing:  43%|██████████████████████▌                             | 29876/69040 [00:01<00:01, 28204.90it/s]\u001b[A\n",
      "Reading ray-tracing:  47%|████████████████████████▋                           | 32700/69040 [00:01<00:01, 28172.56it/s]\u001b[A\n",
      "Reading ray-tracing:  52%|██████████████████████████▊                         | 35600/69040 [00:01<00:01, 28373.91it/s]\u001b[A\n",
      "Reading ray-tracing:  56%|█████████████████████████████                       | 38525/69040 [00:01<00:01, 28589.12it/s]\u001b[A\n",
      "Reading ray-tracing:  60%|███████████████████████████████▎                    | 41542/69040 [00:01<00:00, 29016.53it/s]\u001b[A\n",
      "Reading ray-tracing:  64%|█████████████████████████████████▍                  | 44446/69040 [00:01<00:00, 28721.33it/s]\u001b[A\n",
      "Reading ray-tracing:  69%|███████████████████████████████████▋                | 47320/69040 [00:01<00:00, 28288.39it/s]\u001b[A\n",
      "Reading ray-tracing:  73%|█████████████████████████████████████▊              | 50183/69040 [00:01<00:00, 28330.01it/s]\u001b[A\n",
      "Reading ray-tracing:  77%|███████████████████████████████████████▉            | 53018/69040 [00:01<00:00, 28250.34it/s]\u001b[A\n",
      "Reading ray-tracing:  81%|██████████████████████████████████████████          | 55868/69040 [00:01<00:00, 28282.95it/s]\u001b[A\n",
      "Reading ray-tracing:  85%|████████████████████████████████████████████▏       | 58716/69040 [00:02<00:00, 28291.22it/s]\u001b[A\n",
      "Reading ray-tracing: 100%|████████████████████████████████████████████████████| 69040/69040 [00:02<00:00, 31714.71it/s]\u001b[A\n",
      "\n",
      "Generating channels:   0%|                                                                   | 0/69040 [00:00<?, ?it/s]\u001b[A\n",
      "Generating channels:   1%|▍                                                      | 523/69040 [00:00<00:13, 5189.78it/s]\u001b[A\n",
      "Generating channels:   2%|▊                                                     | 1042/69040 [00:00<00:16, 4031.01it/s]\u001b[A\n",
      "Generating channels:   2%|█▏                                                    | 1511/69040 [00:00<00:15, 4281.73it/s]\u001b[A\n",
      "Generating channels:   3%|█▊                                                    | 2254/69040 [00:00<00:12, 5403.08it/s]\u001b[A\n",
      "Generating channels:   4%|██▏                                                   | 2813/69040 [00:00<00:14, 4503.85it/s]\u001b[A\n",
      "Generating channels:   5%|██▌                                                   | 3294/69040 [00:00<00:14, 4409.50it/s]\u001b[A\n",
      "Generating channels:   6%|███▏                                                  | 4095/69040 [00:00<00:11, 5414.24it/s]\u001b[A\n",
      "Generating channels:   7%|███▋                                                  | 4666/69040 [00:00<00:13, 4738.85it/s]\u001b[A\n",
      "Generating channels:   7%|████                                                  | 5172/69040 [00:01<00:14, 4560.72it/s]\u001b[A\n",
      "Generating channels:   9%|████▋                                                 | 5969/69040 [00:01<00:11, 5441.26it/s]\u001b[A\n",
      "Generating channels:   9%|█████                                                 | 6544/69040 [00:01<00:13, 4686.17it/s]\u001b[A\n",
      "Generating channels:  10%|█████▌                                                | 7049/69040 [00:01<00:13, 4492.83it/s]\u001b[A\n",
      "Generating channels:  11%|██████▏                                               | 7833/69040 [00:01<00:11, 5326.06it/s]\u001b[A\n",
      "Generating channels:  12%|██████▌                                               | 8401/69040 [00:01<00:12, 4756.86it/s]\u001b[A\n",
      "Generating channels:  13%|██████▉                                               | 8910/69040 [00:01<00:13, 4514.02it/s]\u001b[A\n",
      "Generating channels:  14%|███████▌                                              | 9700/69040 [00:01<00:11, 5352.44it/s]\u001b[A\n",
      "Generating channels:  15%|███████▉                                             | 10269/69040 [00:02<00:12, 4685.96it/s]\u001b[A\n",
      "Generating channels:  16%|████████▎                                            | 10773/69040 [00:02<00:13, 4324.34it/s]\u001b[A\n",
      "Generating channels:  17%|████████▊                                            | 11551/69040 [00:02<00:11, 5145.97it/s]\u001b[A\n",
      "Generating channels:  18%|█████████▎                                           | 12105/69040 [00:02<00:12, 4642.79it/s]\u001b[A\n",
      "Generating channels:  18%|█████████▋                                           | 12603/69040 [00:02<00:13, 4290.35it/s]\u001b[A\n",
      "Generating channels:  19%|██████████▏                                          | 13256/69040 [00:02<00:11, 4827.49it/s]\u001b[A\n",
      "Generating channels:  20%|██████████▌                                          | 13770/69040 [00:02<00:11, 4881.01it/s]\u001b[A\n",
      "Generating channels:  21%|██████████▉                                          | 14281/69040 [00:03<00:12, 4366.27it/s]\u001b[A\n",
      "Generating channels:  21%|███████████▎                                         | 14741/69040 [00:03<00:12, 4342.71it/s]\u001b[A\n",
      "Generating channels:  22%|███████████▉                                         | 15470/69040 [00:03<00:10, 5104.07it/s]\u001b[A\n",
      "Generating channels:  23%|████████████▎                                        | 16003/69040 [00:03<00:11, 4458.07it/s]\u001b[A\n",
      "Generating channels:  24%|████████████▋                                        | 16477/69040 [00:03<00:12, 4228.41it/s]\u001b[A\n",
      "Generating channels:  25%|█████████████▏                                       | 17183/69040 [00:03<00:10, 4937.22it/s]\u001b[A\n",
      "Generating channels:  26%|█████████████▌                                       | 17705/69040 [00:03<00:11, 4559.19it/s]\u001b[A\n",
      "Generating channels:  26%|█████████████▉                                       | 18184/69040 [00:03<00:12, 4109.29it/s]\u001b[A\n",
      "Generating channels:  27%|██████████████▍                                      | 18782/69040 [00:04<00:11, 4561.86it/s]\u001b[A\n",
      "Generating channels:  28%|██████████████▊                                      | 19314/69040 [00:04<00:10, 4757.56it/s]\u001b[A\n",
      "Generating channels:  29%|███████████████▏                                     | 19811/69040 [00:04<00:11, 4344.92it/s]\u001b[A\n",
      "Generating channels:  29%|███████████████▌                                     | 20265/69040 [00:04<00:11, 4215.10it/s]\u001b[A\n",
      "Generating channels:  30%|████████████████                                     | 20968/69040 [00:04<00:09, 4944.04it/s]\u001b[A\n",
      "Generating channels:  31%|████████████████▍                                    | 21482/69040 [00:04<00:10, 4624.71it/s]\u001b[A\n",
      "Generating channels:  32%|████████████████▊                                    | 21961/69040 [00:04<00:10, 4288.77it/s]\u001b[A\n",
      "Generating channels:  33%|█████████████████▎                                   | 22570/69040 [00:04<00:09, 4752.11it/s]\u001b[A\n",
      "Generating channels:  34%|█████████████████▊                                   | 23139/69040 [00:04<00:09, 4992.27it/s]\u001b[A\n",
      "Generating channels:  34%|██████████████████▏                                  | 23653/69040 [00:05<00:10, 4458.39it/s]\u001b[A\n",
      "Generating channels:  35%|██████████████████▌                                  | 24119/69040 [00:05<00:10, 4319.65it/s]\u001b[A\n",
      "Generating channels:  36%|███████████████████                                  | 24849/69040 [00:05<00:08, 5092.70it/s]\u001b[A\n"
     ]
    },
    {
     "name": "stderr",
     "output_type": "stream",
     "text": [
      "Generating channels:  37%|███████████████████▍                                 | 25379/69040 [00:05<00:09, 4543.10it/s]\u001b[A\n",
      "Generating channels:  37%|███████████████████▊                                 | 25857/69040 [00:05<00:10, 4270.76it/s]\u001b[A\n",
      "Generating channels:  38%|████████████████████▎                                | 26499/69040 [00:05<00:08, 4806.87it/s]\u001b[A\n",
      "Generating channels:  39%|████████████████████▋                                | 27002/69040 [00:05<00:08, 4859.39it/s]\u001b[A\n",
      "Generating channels:  40%|█████████████████████                                | 27504/69040 [00:05<00:09, 4316.92it/s]\u001b[A\n",
      "Generating channels:  40%|█████████████████████▍                               | 27956/69040 [00:06<00:09, 4248.65it/s]\u001b[A\n",
      "Generating channels:  41%|█████████████████████▉                               | 28650/69040 [00:06<00:08, 4946.79it/s]\u001b[A\n",
      "Generating channels:  42%|██████████████████████▍                              | 29164/69040 [00:06<00:08, 4535.64it/s]\u001b[A\n",
      "Generating channels:  43%|██████████████████████▊                              | 29636/69040 [00:06<00:09, 4215.08it/s]\u001b[A\n",
      "Generating channels:  44%|███████████████████████▎                             | 30288/69040 [00:06<00:08, 4797.33it/s]\u001b[A\n",
      "Generating channels:  45%|███████████████████████▋                             | 30788/69040 [00:06<00:08, 4774.35it/s]\u001b[A\n",
      "Generating channels:  45%|████████████████████████                             | 31280/69040 [00:06<00:09, 4169.25it/s]\u001b[A\n",
      "Generating channels:  46%|████████████████████████▎                            | 31719/69040 [00:06<00:09, 4067.14it/s]\u001b[A\n",
      "Generating channels:  47%|████████████████████████▊                            | 32388/69040 [00:06<00:07, 4736.62it/s]\u001b[A\n",
      "Generating channels:  48%|█████████████████████████▏                           | 32883/69040 [00:07<00:08, 4349.10it/s]\u001b[A\n",
      "Generating channels:  48%|█████████████████████████▌                           | 33337/69040 [00:07<00:08, 4071.60it/s]\u001b[A\n",
      "Generating channels:  49%|██████████████████████████                           | 33894/69040 [00:07<00:07, 4447.34it/s]\u001b[A\n",
      "Generating channels:  50%|██████████████████████████▍                          | 34457/69040 [00:07<00:07, 4755.44it/s]\u001b[A\n",
      "Generating channels:  51%|██████████████████████████▊                          | 34948/69040 [00:07<00:07, 4331.57it/s]\u001b[A\n",
      "Generating channels:  51%|███████████████████████████▏                         | 35398/69040 [00:07<00:08, 4141.52it/s]\u001b[A\n",
      "Generating channels:  52%|███████████████████████████▋                         | 35997/69040 [00:07<00:07, 4618.72it/s]\u001b[A\n",
      "Generating channels:  53%|████████████████████████████                         | 36474/69040 [00:07<00:07, 4640.72it/s]\u001b[A\n",
      "Generating channels:  54%|████████████████████████████▎                        | 36949/69040 [00:08<00:07, 4170.99it/s]\u001b[A\n",
      "Generating channels:  54%|████████████████████████████▋                        | 37381/69040 [00:08<00:07, 4143.06it/s]\u001b[A\n",
      "Generating channels:  55%|█████████████████████████████▏                       | 38033/69040 [00:08<00:06, 4783.15it/s]\u001b[A\n",
      "Generating channels:  56%|█████████████████████████████▌                       | 38526/69040 [00:08<00:06, 4510.23it/s]\u001b[A\n",
      "Generating channels:  56%|█████████████████████████████▉                       | 38990/69040 [00:08<00:07, 4114.76it/s]\u001b[A\n",
      "Generating channels:  57%|██████████████████████████████▎                      | 39484/69040 [00:08<00:06, 4328.37it/s]\u001b[A\n",
      "Generating channels:  58%|██████████████████████████████▋                      | 40045/69040 [00:08<00:06, 4668.23it/s]\u001b[A\n",
      "Generating channels:  59%|███████████████████████████████                      | 40525/69040 [00:08<00:06, 4277.68it/s]\u001b[A\n",
      "Generating channels:  59%|███████████████████████████████▍                     | 40967/69040 [00:08<00:06, 4061.44it/s]\u001b[A\n",
      "Generating channels:  60%|███████████████████████████████▉                     | 41544/69040 [00:09<00:06, 4510.53it/s]\u001b[A\n",
      "Generating channels:  61%|████████████████████████████████▎                    | 42035/69040 [00:09<00:05, 4613.19it/s]\u001b[A\n",
      "Generating channels:  62%|████████████████████████████████▋                    | 42507/69040 [00:09<00:06, 4200.72it/s]\u001b[A\n",
      "Generating channels:  62%|████████████████████████████████▉                    | 42941/69040 [00:09<00:06, 4113.84it/s]\u001b[A\n",
      "Generating channels:  63%|█████████████████████████████████▍                   | 43527/69040 [00:09<00:05, 4578.05it/s]\u001b[A\n",
      "Generating channels:  64%|█████████████████████████████████▊                   | 44017/69040 [00:09<00:05, 4659.47it/s]\u001b[A\n",
      "Generating channels:  64%|██████████████████████████████████▏                  | 44492/69040 [00:09<00:05, 4209.34it/s]\u001b[A\n",
      "Generating channels:  65%|██████████████████████████████████▍                  | 44926/69040 [00:09<00:05, 4079.69it/s]\u001b[A\n",
      "Generating channels:  66%|██████████████████████████████████▉                  | 45517/69040 [00:10<00:05, 4564.28it/s]\u001b[A\n",
      "Generating channels:  67%|███████████████████████████████████▎                 | 45986/69040 [00:10<00:05, 4487.00it/s]\u001b[A\n",
      "Generating channels:  67%|███████████████████████████████████▋                 | 46443/69040 [00:10<00:05, 4037.70it/s]\u001b[A\n",
      "Generating channels:  68%|███████████████████████████████████▉                 | 46860/69040 [00:10<00:05, 3883.63it/s]\u001b[A\n",
      "Generating channels:  69%|████████████████████████████████████▍                | 47479/69040 [00:10<00:04, 4485.10it/s]\u001b[A\n",
      "Generating channels:  69%|████████████████████████████████████▊                | 47942/69040 [00:10<00:04, 4374.99it/s]\u001b[A\n",
      "Generating channels:  70%|█████████████████████████████████████▏               | 48390/69040 [00:10<00:05, 3998.06it/s]\u001b[A\n",
      "Generating channels:  71%|█████████████████████████████████████▍               | 48830/69040 [00:10<00:04, 4097.75it/s]\u001b[A\n",
      "Generating channels:  72%|█████████████████████████████████████▉               | 49367/69040 [00:10<00:04, 4437.71it/s]\u001b[A\n",
      "Generating channels:  72%|██████████████████████████████████████▏              | 49821/69040 [00:11<00:04, 4315.27it/s]\u001b[A\n",
      "Generating channels:  73%|██████████████████████████████████████▌              | 50260/69040 [00:11<00:04, 3965.26it/s]\u001b[A\n",
      "Generating channels:  73%|██████████████████████████████████████▉              | 50731/69040 [00:11<00:04, 4161.59it/s]\u001b[A\n",
      "Generating channels:  74%|███████████████████████████████████████▍             | 51295/69040 [00:11<00:03, 4563.16it/s]\u001b[A\n",
      "Generating channels:  75%|███████████████████████████████████████▋             | 51761/69040 [00:11<00:03, 4470.44it/s]\u001b[A\n",
      "Generating channels:  76%|████████████████████████████████████████             | 52215/69040 [00:11<00:04, 4193.49it/s]\u001b[A\n",
      "Generating channels:  76%|████████████████████████████████████████▍            | 52662/69040 [00:11<00:03, 4263.10it/s]\u001b[A\n",
      "Generating channels:  77%|████████████████████████████████████████▊            | 53216/69040 [00:11<00:03, 4614.75it/s]\u001b[A\n",
      "Generating channels:  78%|█████████████████████████████████████████▏           | 53684/69040 [00:11<00:03, 4412.42it/s]\u001b[A\n",
      "Generating channels:  78%|█████████████████████████████████████████▌           | 54131/69040 [00:12<00:03, 4084.56it/s]\u001b[A\n",
      "Generating channels:  79%|█████████████████████████████████████████▉           | 54593/69040 [00:12<00:03, 4228.75it/s]\u001b[A\n",
      "Generating channels:  80%|██████████████████████████████████████████▎          | 55189/69040 [00:12<00:02, 4703.13it/s]\u001b[A\n",
      "Generating channels:  81%|██████████████████████████████████████████▋          | 55668/69040 [00:12<00:03, 4373.76it/s]\u001b[A\n",
      "Generating channels:  81%|███████████████████████████████████████████          | 56115/69040 [00:12<00:03, 4156.30it/s]\u001b[A\n",
      "Generating channels:  82%|███████████████████████████████████████████▍         | 56626/69040 [00:12<00:02, 4405.79it/s]\u001b[A\n",
      "Generating channels:  83%|███████████████████████████████████████████▊         | 57138/69040 [00:12<00:02, 4597.35it/s]\u001b[A\n",
      "Generating channels:  83%|████████████████████████████████████████████▏        | 57605/69040 [00:12<00:02, 4249.76it/s]\u001b[A\n",
      "Generating channels:  84%|████████████████████████████████████████████▌        | 58040/69040 [00:12<00:02, 4076.59it/s]\u001b[A\n"
     ]
    },
    {
     "name": "stderr",
     "output_type": "stream",
     "text": [
      "Generating channels: 100%|█████████████████████████████████████████████████████| 69040/69040 [00:13<00:00, 5282.38it/s]\u001b[A\n"
     ]
    },
    {
     "name": "stdout",
     "output_type": "stream",
     "text": [
      "\n",
      "BS-BS Channels\n"
     ]
    },
    {
     "name": "stderr",
     "output_type": "stream",
     "text": [
      "\n",
      "Reading ray-tracing: 100%|███████████████████████████████████████████████████████████████████████| 1/1 [00:00<?, ?it/s]\u001b[A\n",
      "\n",
      "Generating channels: 100%|██████████████████████████████████████████████████████████████| 1/1 [00:00<00:00, 499.86it/s]\u001b[A\n"
     ]
    },
    {
     "name": "stdout",
     "output_type": "stream",
     "text": [
      "\n",
      "Scene 2/5\n",
      "\n",
      "Basestation 1\n",
      "\n",
      "UE-BS Channels\n"
     ]
    },
    {
     "name": "stderr",
     "output_type": "stream",
     "text": [
      "\n",
      "Reading ray-tracing:   0%|                                                                   | 0/69040 [00:00<?, ?it/s]\u001b[A\n",
      "Reading ray-tracing:   4%|██▎                                                  | 3004/69040 [00:00<00:02, 29867.42it/s]\u001b[A\n",
      "Reading ray-tracing:   9%|████▋                                                | 6123/69040 [00:00<00:02, 30555.34it/s]\u001b[A\n",
      "Reading ray-tracing:  13%|███████                                              | 9179/69040 [00:00<00:01, 30076.29it/s]\u001b[A\n",
      "Reading ray-tracing:  18%|█████████▏                                          | 12188/69040 [00:00<00:01, 29903.24it/s]\u001b[A\n",
      "Reading ray-tracing:  22%|███████████▍                                        | 15179/69040 [00:00<00:01, 29745.14it/s]\u001b[A\n",
      "Reading ray-tracing:  26%|█████████████▋                                      | 18154/69040 [00:00<00:01, 29302.16it/s]\u001b[A\n",
      "Reading ray-tracing:  31%|███████████████▉                                    | 21141/69040 [00:00<00:01, 29436.24it/s]\u001b[A\n",
      "Reading ray-tracing:  35%|██████████████████▏                                 | 24125/69040 [00:00<00:01, 29561.70it/s]\u001b[A\n",
      "Reading ray-tracing:  39%|████████████████████▌                               | 27231/69040 [00:00<00:01, 30017.51it/s]\u001b[A\n",
      "Reading ray-tracing:  44%|██████████████████████▊                             | 30234/69040 [00:01<00:01, 29972.14it/s]\u001b[A\n",
      "Reading ray-tracing:  48%|█████████████████████████                           | 33257/69040 [00:01<00:01, 30049.21it/s]\u001b[A\n",
      "Reading ray-tracing:  53%|███████████████████████████▎                        | 36336/69040 [00:01<00:01, 30245.28it/s]\u001b[A\n",
      "Reading ray-tracing:  57%|█████████████████████████████▋                      | 39361/69040 [00:01<00:00, 29930.69it/s]\u001b[A\n",
      "Reading ray-tracing:  61%|███████████████████████████████▉                    | 42355/69040 [00:01<00:00, 29663.29it/s]\u001b[A\n",
      "Reading ray-tracing:  66%|██████████████████████████████████▏                 | 45323/69040 [00:01<00:00, 29535.33it/s]\u001b[A\n",
      "Reading ray-tracing:  70%|████████████████████████████████████▎               | 48278/69040 [00:01<00:00, 29148.47it/s]\u001b[A\n",
      "Reading ray-tracing:  74%|██████████████████████████████████████▌             | 51201/69040 [00:01<00:00, 29130.12it/s]\u001b[A\n",
      "Reading ray-tracing:  78%|████████████████████████████████████████▊           | 54115/69040 [00:01<00:00, 28902.98it/s]\u001b[A\n",
      "Reading ray-tracing:  83%|██████████████████████████████████████████▉         | 57006/69040 [00:01<00:00, 28638.07it/s]\u001b[A\n",
      "Reading ray-tracing: 100%|████████████████████████████████████████████████████| 69040/69040 [00:02<00:00, 32601.62it/s]\u001b[A\n",
      "\n",
      "Generating channels:   0%|                                                                   | 0/69040 [00:00<?, ?it/s]\u001b[A\n",
      "Generating channels:   1%|▍                                                      | 522/69040 [00:00<00:13, 5199.71it/s]\u001b[A\n",
      "Generating channels:   2%|▊                                                     | 1042/69040 [00:00<00:16, 4073.88it/s]\u001b[A\n",
      "Generating channels:   2%|█▎                                                    | 1639/69040 [00:00<00:13, 4825.51it/s]\u001b[A\n",
      "Generating channels:   3%|█▊                                                    | 2258/69040 [00:00<00:12, 5308.77it/s]\u001b[A\n",
      "Generating channels:   4%|██▏                                                   | 2805/69040 [00:00<00:14, 4510.45it/s]\u001b[A\n",
      "Generating channels:   5%|██▌                                                   | 3282/69040 [00:00<00:15, 4325.06it/s]\u001b[A\n",
      "Generating channels:   6%|███▏                                                  | 4048/69040 [00:00<00:12, 5260.97it/s]\u001b[A\n",
      "Generating channels:   7%|███▌                                                  | 4601/69040 [00:00<00:13, 4742.63it/s]\u001b[A\n",
      "Generating channels:   7%|███▉                                                  | 5100/69040 [00:01<00:14, 4468.78it/s]\u001b[A\n",
      "Generating channels:   9%|████▌                                                 | 5890/69040 [00:01<00:11, 5358.61it/s]\u001b[A\n",
      "Generating channels:   9%|█████                                                 | 6454/69040 [00:01<00:13, 4747.16it/s]\u001b[A\n",
      "Generating channels:  10%|█████▍                                                | 6958/69040 [00:01<00:14, 4372.82it/s]\u001b[A\n",
      "Generating channels:  11%|██████                                                | 7746/69040 [00:01<00:11, 5232.42it/s]\u001b[A\n",
      "Generating channels:  12%|██████▍                                               | 8304/69040 [00:01<00:12, 4686.32it/s]\u001b[A\n",
      "Generating channels:  13%|██████▉                                               | 8805/69040 [00:01<00:13, 4391.45it/s]\u001b[A\n",
      "Generating channels:  14%|███████▌                                              | 9598/69040 [00:01<00:11, 5252.57it/s]\u001b[A\n",
      "Generating channels:  15%|███████▊                                             | 10159/69040 [00:02<00:12, 4796.93it/s]\u001b[A\n",
      "Generating channels:  15%|████████▏                                            | 10668/69040 [00:02<00:13, 4347.96it/s]\u001b[A\n",
      "Generating channels:  16%|████████▋                                            | 11352/69040 [00:02<00:11, 4949.18it/s]\u001b[A\n",
      "Generating channels:  17%|█████████                                            | 11879/69040 [00:02<00:11, 4961.23it/s]\u001b[A\n",
      "Generating channels:  18%|█████████▌                                           | 12398/69040 [00:02<00:12, 4443.13it/s]\u001b[A\n",
      "Generating channels:  19%|█████████▉                                           | 12866/69040 [00:02<00:12, 4441.15it/s]\u001b[A\n",
      "Generating channels:  20%|██████████▍                                          | 13570/69040 [00:02<00:10, 5111.27it/s]\u001b[A\n",
      "Generating channels:  20%|██████████▊                                          | 14102/69040 [00:02<00:12, 4501.15it/s]\u001b[A\n",
      "Generating channels:  21%|███████████▏                                         | 14578/69040 [00:03<00:12, 4310.25it/s]\u001b[A\n",
      "Generating channels:  22%|███████████▊                                         | 15331/69040 [00:03<00:10, 5121.65it/s]\u001b[A\n",
      "Generating channels:  23%|████████████▏                                        | 15870/69040 [00:03<00:11, 4718.53it/s]\u001b[A\n",
      "Generating channels:  24%|████████████▌                                        | 16365/69040 [00:03<00:12, 4358.04it/s]\u001b[A\n",
      "Generating channels:  25%|█████████████                                        | 17015/69040 [00:03<00:10, 4888.35it/s]\u001b[A\n",
      "Generating channels:  25%|█████████████▍                                       | 17543/69040 [00:03<00:10, 4980.81it/s]\u001b[A\n",
      "Generating channels:  26%|█████████████▊                                       | 18059/69040 [00:03<00:11, 4398.30it/s]\u001b[A\n",
      "Generating channels:  27%|██████████████▏                                      | 18522/69040 [00:03<00:11, 4384.34it/s]\u001b[A\n",
      "Generating channels:  28%|██████████████▋                                      | 19206/69040 [00:04<00:09, 5026.92it/s]\u001b[A\n",
      "Generating channels:  29%|███████████████▏                                     | 19729/69040 [00:04<00:10, 4533.10it/s]\u001b[A\n",
      "Generating channels:  29%|███████████████▌                                     | 20204/69040 [00:04<00:11, 4258.04it/s]\u001b[A\n",
      "Generating channels:  30%|███████████████▉                                     | 20827/69040 [00:04<00:10, 4754.03it/s]\u001b[A\n",
      "Generating channels:  31%|████████████████▍                                    | 21348/69040 [00:04<00:09, 4868.97it/s]\u001b[A\n",
      "Generating channels:  32%|████████████████▊                                    | 21850/69040 [00:04<00:10, 4328.99it/s]\u001b[A\n",
      "Generating channels:  32%|█████████████████                                    | 22303/69040 [00:04<00:10, 4323.75it/s]\u001b[A\n",
      "Generating channels:  33%|█████████████████▋                                   | 22984/69040 [00:04<00:09, 4979.21it/s]\u001b[A\n",
      "Generating channels:  34%|██████████████████                                   | 23500/69040 [00:05<00:10, 4512.67it/s]\u001b[A\n",
      "Generating channels:  35%|██████████████████▍                                  | 23971/69040 [00:05<00:10, 4241.91it/s]\u001b[A\n",
      "Generating channels:  36%|██████████████████▉                                  | 24593/69040 [00:05<00:09, 4744.87it/s]\u001b[A\n",
      "Generating channels:  36%|███████████████████▎                                 | 25094/69040 [00:05<00:09, 4815.13it/s]\u001b[A\n"
     ]
    },
    {
     "name": "stderr",
     "output_type": "stream",
     "text": [
      "Generating channels:  37%|███████████████████▋                                 | 25590/69040 [00:05<00:09, 4354.18it/s]\u001b[A\n",
      "Generating channels:  38%|███████████████████▉                                 | 26042/69040 [00:05<00:09, 4323.58it/s]\u001b[A\n",
      "Generating channels:  39%|████████████████████▌                                | 26749/69040 [00:05<00:08, 5055.73it/s]\u001b[A\n",
      "Generating channels:  40%|████████████████████▉                                | 27271/69040 [00:05<00:09, 4409.57it/s]\u001b[A\n",
      "Generating channels:  40%|█████████████████████▎                               | 27737/69040 [00:05<00:09, 4163.09it/s]\u001b[A\n",
      "Generating channels:  41%|█████████████████████▊                               | 28349/69040 [00:06<00:08, 4652.76it/s]\u001b[A\n",
      "Generating channels:  42%|██████████████████████▏                              | 28836/69040 [00:06<00:08, 4703.95it/s]\u001b[A\n",
      "Generating channels:  42%|██████████████████████▌                              | 29322/69040 [00:06<00:09, 4215.09it/s]\u001b[A\n",
      "Generating channels:  43%|██████████████████████▊                              | 29762/69040 [00:06<00:09, 4139.64it/s]\u001b[A\n",
      "Generating channels:  44%|███████████████████████▍                             | 30455/69040 [00:06<00:07, 4869.07it/s]\u001b[A\n",
      "Generating channels:  45%|███████████████████████▊                             | 30961/69040 [00:06<00:08, 4577.16it/s]\u001b[A\n",
      "Generating channels:  46%|████████████████████████▏                            | 31434/69040 [00:06<00:09, 4151.55it/s]\u001b[A\n",
      "Generating channels:  46%|████████████████████████▌                            | 31995/69040 [00:06<00:08, 4512.76it/s]\u001b[A\n",
      "Generating channels:  47%|████████████████████████▉                            | 32529/69040 [00:07<00:07, 4726.78it/s]\u001b[A\n",
      "Generating channels:  48%|█████████████████████████▎                           | 33017/69040 [00:07<00:08, 4226.97it/s]\u001b[A\n",
      "Generating channels:  48%|█████████████████████████▋                           | 33458/69040 [00:07<00:08, 4063.63it/s]\u001b[A\n",
      "Generating channels:  49%|██████████████████████████▏                          | 34061/69040 [00:07<00:07, 4568.93it/s]\u001b[A\n",
      "Generating channels:  50%|██████████████████████████▌                          | 34567/69040 [00:07<00:07, 4695.24it/s]\u001b[A\n",
      "Generating channels:  51%|██████████████████████████▉                          | 35050/69040 [00:07<00:08, 4189.21it/s]\u001b[A\n",
      "Generating channels:  51%|███████████████████████████▏                         | 35487/69040 [00:07<00:08, 4132.69it/s]\u001b[A\n",
      "Generating channels:  52%|███████████████████████████▋                         | 36136/69040 [00:07<00:06, 4759.01it/s]\u001b[A\n",
      "Generating channels:  53%|████████████████████████████                         | 36629/69040 [00:07<00:07, 4513.21it/s]\u001b[A\n",
      "Generating channels:  54%|████████████████████████████▍                        | 37094/69040 [00:08<00:07, 4141.69it/s]\u001b[A\n",
      "Generating channels:  54%|████████████████████████████▊                        | 37613/69040 [00:08<00:07, 4408.14it/s]\u001b[A\n",
      "Generating channels:  55%|█████████████████████████████▎                       | 38145/69040 [00:08<00:06, 4643.46it/s]\u001b[A\n",
      "Generating channels:  56%|█████████████████████████████▋                       | 38621/69040 [00:08<00:07, 4206.64it/s]\u001b[A\n",
      "Generating channels:  57%|█████████████████████████████▉                       | 39057/69040 [00:08<00:07, 3989.05it/s]\u001b[A\n",
      "Generating channels:  57%|██████████████████████████████▎                      | 39549/69040 [00:08<00:06, 4225.72it/s]\u001b[A\n",
      "Generating channels:  58%|██████████████████████████████▊                      | 40083/69040 [00:08<00:06, 4527.94it/s]\u001b[A\n",
      "Generating channels:  59%|███████████████████████████████▏                     | 40547/69040 [00:08<00:06, 4179.57it/s]\u001b[A\n",
      "Generating channels:  59%|███████████████████████████████▍                     | 40977/69040 [00:09<00:07, 4002.60it/s]\u001b[A\n",
      "Generating channels:  60%|███████████████████████████████▊                     | 41468/69040 [00:09<00:06, 4238.70it/s]\u001b[A\n",
      "Generating channels:  61%|████████████████████████████████▏                    | 41964/69040 [00:09<00:06, 4435.87it/s]\u001b[A\n",
      "Generating channels:  61%|████████████████████████████████▌                    | 42416/69040 [00:09<00:06, 4225.37it/s]\u001b[A\n",
      "Generating channels:  62%|████████████████████████████████▉                    | 42846/69040 [00:09<00:06, 4050.09it/s]\u001b[A\n",
      "Generating channels:  63%|█████████████████████████████████▏                   | 43304/69040 [00:09<00:06, 4189.24it/s]\u001b[A\n",
      "Generating channels:  63%|█████████████████████████████████▋                   | 43815/69040 [00:09<00:05, 4440.90it/s]\u001b[A\n",
      "Generating channels:  64%|█████████████████████████████████▉                   | 44265/69040 [00:09<00:05, 4176.61it/s]\u001b[A\n",
      "Generating channels:  65%|██████████████████████████████████▎                  | 44689/69040 [00:09<00:06, 3983.62it/s]\u001b[A\n",
      "Generating channels:  65%|██████████████████████████████████▋                  | 45155/69040 [00:09<00:05, 4167.59it/s]\u001b[A\n",
      "Generating channels:  66%|███████████████████████████████████                  | 45656/69040 [00:10<00:05, 4397.62it/s]\u001b[A\n",
      "Generating channels:  67%|███████████████████████████████████▍                 | 46102/69040 [00:10<00:05, 4239.14it/s]\u001b[A\n",
      "Generating channels:  67%|███████████████████████████████████▋                 | 46531/69040 [00:10<00:05, 3921.11it/s]\u001b[A\n",
      "Generating channels:  68%|████████████████████████████████████                 | 46998/69040 [00:10<00:05, 4117.79it/s]\u001b[A\n",
      "Generating channels:  69%|████████████████████████████████████▍                | 47532/69040 [00:10<00:04, 4451.00it/s]\u001b[A\n",
      "Generating channels:  70%|████████████████████████████████████▊                | 47985/69040 [00:10<00:04, 4319.01it/s]\u001b[A\n",
      "Generating channels:  70%|█████████████████████████████████████▏               | 48423/69040 [00:10<00:05, 3996.90it/s]\u001b[A\n",
      "Generating channels:  71%|█████████████████████████████████████▌               | 48927/69040 [00:10<00:04, 4272.89it/s]\u001b[A\n",
      "Generating channels:  72%|█████████████████████████████████████▉               | 49470/69040 [00:10<00:04, 4587.70it/s]\u001b[A\n",
      "Generating channels:  72%|██████████████████████████████████████▎              | 49937/69040 [00:11<00:04, 4357.29it/s]\u001b[A\n",
      "Generating channels:  73%|██████████████████████████████████████▋              | 50380/69040 [00:11<00:04, 4098.31it/s]\u001b[A\n",
      "Generating channels:  74%|███████████████████████████████████████              | 50855/69040 [00:11<00:04, 4273.46it/s]\u001b[A\n",
      "Generating channels:  74%|███████████████████████████████████████▍             | 51432/69040 [00:11<00:03, 4684.10it/s]\u001b[A\n",
      "Generating channels:  75%|███████████████████████████████████████▊             | 51909/69040 [00:11<00:03, 4297.28it/s]\u001b[A\n",
      "Generating channels:  76%|████████████████████████████████████████▏            | 52350/69040 [00:11<00:04, 4100.20it/s]\u001b[A\n",
      "Generating channels:  77%|████████████████████████████████████████▌            | 52866/69040 [00:11<00:03, 4383.96it/s]\u001b[A\n",
      "Generating channels:  77%|████████████████████████████████████████▉            | 53390/69040 [00:11<00:03, 4608.56it/s]\u001b[A\n",
      "Generating channels:  78%|█████████████████████████████████████████▎           | 53859/69040 [00:12<00:03, 4197.07it/s]\u001b[A\n",
      "Generating channels:  79%|█████████████████████████████████████████▋           | 54291/69040 [00:12<00:03, 4156.90it/s]\u001b[A\n",
      "Generating channels:  79%|██████████████████████████████████████████           | 54836/69040 [00:12<00:03, 4503.85it/s]\u001b[A\n",
      "Generating channels:  80%|██████████████████████████████████████████▍          | 55341/69040 [00:12<00:02, 4656.53it/s]\u001b[A\n",
      "Generating channels:  81%|██████████████████████████████████████████▊          | 55814/69040 [00:12<00:03, 4283.85it/s]\u001b[A\n",
      "Generating channels:  81%|███████████████████████████████████████████▏         | 56256/69040 [00:12<00:02, 4314.39it/s]\u001b[A\n",
      "Generating channels:  82%|███████████████████████████████████████████▌         | 56798/69040 [00:12<00:02, 4616.30it/s]\u001b[A\n",
      "Generating channels:  83%|███████████████████████████████████████████▉         | 57287/69040 [00:12<00:02, 4693.62it/s]\u001b[A\n",
      "Generating channels:  84%|████████████████████████████████████████████▎        | 57762/69040 [00:12<00:02, 4248.34it/s]\u001b[A\n"
     ]
    },
    {
     "name": "stderr",
     "output_type": "stream",
     "text": [
      "Generating channels: 100%|█████████████████████████████████████████████████████| 69040/69040 [00:13<00:00, 5276.24it/s]\u001b[A\n"
     ]
    },
    {
     "name": "stdout",
     "output_type": "stream",
     "text": [
      "\n",
      "BS-BS Channels\n"
     ]
    },
    {
     "name": "stderr",
     "output_type": "stream",
     "text": [
      "\n",
      "Reading ray-tracing: 100%|███████████████████████████████████████████████████████████████████████| 1/1 [00:00<?, ?it/s]\u001b[A\n",
      "\n",
      "Generating channels: 100%|██████████████████████████████████████████████████████████████| 1/1 [00:00<00:00, 499.92it/s]\u001b[A\n"
     ]
    },
    {
     "name": "stdout",
     "output_type": "stream",
     "text": [
      "\n",
      "Scene 3/5\n",
      "\n",
      "Basestation 1\n",
      "\n",
      "UE-BS Channels\n"
     ]
    },
    {
     "name": "stderr",
     "output_type": "stream",
     "text": [
      "\n",
      "Reading ray-tracing:   0%|                                                                   | 0/69040 [00:00<?, ?it/s]\u001b[A\n",
      "Reading ray-tracing:   4%|██▏                                                  | 2866/69040 [00:00<00:02, 28513.05it/s]\u001b[A\n",
      "Reading ray-tracing:   9%|████▌                                                | 6001/69040 [00:00<00:02, 30165.62it/s]\u001b[A\n",
      "Reading ray-tracing:  13%|██████▉                                              | 9018/69040 [00:00<00:02, 29691.57it/s]\u001b[A\n",
      "Reading ray-tracing:  17%|█████████                                           | 12066/69040 [00:00<00:01, 29991.55it/s]\u001b[A\n",
      "Reading ray-tracing:  22%|███████████▎                                        | 15067/69040 [00:00<00:01, 29149.83it/s]\u001b[A\n",
      "Reading ray-tracing:  26%|█████████████▌                                      | 17989/69040 [00:00<00:01, 29123.46it/s]\u001b[A\n",
      "Reading ray-tracing:  30%|███████████████▊                                    | 20945/69040 [00:00<00:01, 29261.38it/s]\u001b[A\n",
      "Reading ray-tracing:  35%|█████████████████▉                                  | 23874/69040 [00:00<00:01, 28860.72it/s]\u001b[A\n",
      "Reading ray-tracing:  39%|████████████████████▏                               | 26763/69040 [00:00<00:01, 28824.18it/s]\u001b[A\n",
      "Reading ray-tracing:  43%|██████████████████████▎                             | 29647/69040 [00:01<00:01, 28267.63it/s]\u001b[A\n",
      "Reading ray-tracing:  47%|████████████████████████▍                           | 32477/69040 [00:01<00:01, 28168.10it/s]\u001b[A\n",
      "Reading ray-tracing:  51%|██████████████████████████▌                         | 35296/69040 [00:01<00:01, 27758.07it/s]\u001b[A\n",
      "Reading ray-tracing:  55%|████████████████████████████▋                       | 38126/69040 [00:01<00:01, 27875.80it/s]\u001b[A\n",
      "Reading ray-tracing:  59%|██████████████████████████████▊                     | 40916/69040 [00:01<00:01, 27631.02it/s]\u001b[A\n",
      "Reading ray-tracing:  63%|████████████████████████████████▉                   | 43681/69040 [00:01<00:00, 27594.72it/s]\u001b[A\n",
      "Reading ray-tracing:  67%|██████████████████████████████████▉                 | 46442/69040 [00:01<00:00, 26918.02it/s]\u001b[A\n",
      "Reading ray-tracing:  71%|█████████████████████████████████████               | 49138/69040 [00:01<00:00, 26923.64it/s]\u001b[A\n",
      "Reading ray-tracing:  75%|███████████████████████████████████████             | 51833/69040 [00:01<00:00, 26811.63it/s]\u001b[A\n",
      "Reading ray-tracing:  79%|█████████████████████████████████████████           | 54516/69040 [00:01<00:00, 26776.47it/s]\u001b[A\n",
      "Reading ray-tracing:  83%|███████████████████████████████████████████         | 57251/69040 [00:02<00:00, 26901.97it/s]\u001b[A\n",
      "Reading ray-tracing: 100%|████████████████████████████████████████████████████| 69040/69040 [00:02<00:00, 30959.24it/s]\u001b[A\n",
      "\n",
      "Generating channels:   0%|                                                                   | 0/69040 [00:00<?, ?it/s]\u001b[A\n",
      "Generating channels:   1%|▍                                                      | 513/69040 [00:00<00:13, 5102.86it/s]\u001b[A\n",
      "Generating channels:   1%|▊                                                     | 1024/69040 [00:00<00:18, 3704.29it/s]\u001b[A\n",
      "Generating channels:   2%|█▏                                                    | 1495/69040 [00:00<00:16, 4076.72it/s]\u001b[A\n",
      "Generating channels:   3%|█▋                                                    | 2159/69040 [00:00<00:13, 4960.52it/s]\u001b[A\n",
      "Generating channels:   4%|██                                                    | 2678/69040 [00:00<00:15, 4293.10it/s]\u001b[A\n",
      "Generating channels:   5%|██▍                                                   | 3133/69040 [00:00<00:16, 3982.28it/s]\u001b[A\n",
      "Generating channels:   5%|██▉                                                   | 3785/69040 [00:00<00:13, 4670.57it/s]\u001b[A\n",
      "Generating channels:   6%|███▎                                                  | 4278/69040 [00:00<00:13, 4677.19it/s]\u001b[A\n",
      "Generating channels:   7%|███▋                                                  | 4764/69040 [00:01<00:15, 4177.75it/s]\u001b[A\n",
      "Generating channels:   8%|████                                                  | 5202/69040 [00:01<00:15, 4185.51it/s]\u001b[A\n",
      "Generating channels:   9%|████▌                                                 | 5899/69040 [00:01<00:12, 4933.73it/s]\u001b[A\n",
      "Generating channels:   9%|█████                                                 | 6411/69040 [00:01<00:14, 4456.19it/s]\u001b[A\n",
      "Generating channels:  10%|█████▍                                                | 6877/69040 [00:01<00:15, 4051.59it/s]\u001b[A\n",
      "Generating channels:  11%|█████▉                                                | 7515/69040 [00:01<00:13, 4637.98it/s]\u001b[A\n",
      "Generating channels:  12%|██████▎                                               | 8045/69040 [00:01<00:12, 4812.51it/s]\u001b[A\n",
      "Generating channels:  12%|██████▋                                               | 8546/69040 [00:02<00:16, 3569.04it/s]\u001b[A\n",
      "Generating channels:  13%|███████                                               | 8961/69040 [00:02<00:16, 3576.91it/s]\u001b[A\n",
      "Generating channels:  14%|███████▌                                              | 9683/69040 [00:02<00:13, 4430.40it/s]\u001b[A\n",
      "Generating channels:  15%|███████▊                                             | 10178/69040 [00:02<00:13, 4235.45it/s]\u001b[A\n",
      "Generating channels:  15%|████████▏                                            | 10638/69040 [00:02<00:14, 3972.33it/s]\u001b[A\n",
      "Generating channels:  16%|████████▋                                            | 11283/69040 [00:02<00:12, 4578.43it/s]\u001b[A\n",
      "Generating channels:  17%|█████████                                            | 11809/69040 [00:02<00:12, 4749.82it/s]\u001b[A\n",
      "Generating channels:  18%|█████████▍                                           | 12309/69040 [00:02<00:13, 4257.71it/s]\u001b[A\n",
      "Generating channels:  18%|█████████▊                                           | 12760/69040 [00:02<00:13, 4288.73it/s]\u001b[A\n",
      "Generating channels:  19%|██████████▎                                          | 13453/69040 [00:03<00:11, 4983.18it/s]\u001b[A\n",
      "Generating channels:  20%|██████████▋                                          | 13973/69040 [00:03<00:11, 4629.42it/s]\u001b[A\n",
      "Generating channels:  21%|███████████                                          | 14455/69040 [00:03<00:12, 4230.81it/s]\u001b[A\n",
      "Generating channels:  22%|███████████▌                                         | 15120/69040 [00:03<00:11, 4839.51it/s]\u001b[A\n",
      "Generating channels:  23%|███████████▉                                         | 15627/69040 [00:03<00:11, 4804.48it/s]\u001b[A\n",
      "Generating channels:  23%|████████████▍                                        | 16123/69040 [00:03<00:12, 4342.19it/s]\u001b[A\n",
      "Generating channels:  24%|████████████▋                                        | 16587/69040 [00:03<00:11, 4412.70it/s]\u001b[A\n",
      "Generating channels:  25%|█████████████▎                                       | 17291/69040 [00:03<00:10, 5112.41it/s]\u001b[A\n",
      "Generating channels:  26%|█████████████▋                                       | 17820/69040 [00:04<00:11, 4551.32it/s]\u001b[A\n",
      "Generating channels:  27%|██████████████                                       | 18297/69040 [00:04<00:11, 4301.64it/s]\u001b[A\n",
      "Generating channels:  27%|██████████████▌                                      | 18932/69040 [00:04<00:10, 4821.09it/s]\u001b[A\n",
      "Generating channels:  28%|██████████████▉                                      | 19434/69040 [00:04<00:10, 4803.35it/s]\u001b[A\n",
      "Generating channels:  29%|███████████████▎                                     | 19928/69040 [00:04<00:11, 4231.59it/s]\u001b[A\n",
      "Generating channels:  30%|███████████████▋                                     | 20371/69040 [00:04<00:11, 4211.58it/s]\u001b[A\n",
      "Generating channels:  30%|████████████████▏                                    | 21034/69040 [00:04<00:09, 4848.43it/s]\u001b[A\n",
      "Generating channels:  31%|████████████████▌                                    | 21538/69040 [00:04<00:10, 4459.63it/s]\u001b[A\n",
      "Generating channels:  32%|████████████████▉                                    | 22002/69040 [00:05<00:11, 4111.50it/s]\u001b[A\n",
      "Generating channels:  33%|█████████████████▍                                   | 22688/69040 [00:05<00:09, 4805.49it/s]\u001b[A\n",
      "Generating channels:  34%|█████████████████▊                                   | 23195/69040 [00:05<00:09, 4875.35it/s]\u001b[A\n"
     ]
    },
    {
     "name": "stderr",
     "output_type": "stream",
     "text": [
      "Generating channels:  34%|██████████████████▏                                  | 23700/69040 [00:05<00:10, 4286.92it/s]\u001b[A\n",
      "Generating channels:  35%|██████████████████▌                                  | 24152/69040 [00:05<00:10, 4236.58it/s]\u001b[A\n",
      "Generating channels:  36%|███████████████████                                  | 24846/69040 [00:05<00:08, 4938.66it/s]\u001b[A\n",
      "Generating channels:  37%|███████████████████▍                                 | 25361/69040 [00:05<00:09, 4493.14it/s]\u001b[A\n",
      "Generating channels:  37%|███████████████████▊                                 | 25831/69040 [00:05<00:10, 4213.24it/s]\u001b[A\n",
      "Generating channels:  38%|████████████████████▎                                | 26492/69040 [00:05<00:08, 4823.83it/s]\u001b[A\n",
      "Generating channels:  39%|████████████████████▋                                | 26996/69040 [00:06<00:08, 4784.89it/s]\u001b[A\n",
      "Generating channels:  40%|█████████████████████                                | 27490/69040 [00:06<00:09, 4263.52it/s]\u001b[A\n",
      "Generating channels:  40%|█████████████████████▍                               | 27935/69040 [00:06<00:09, 4272.36it/s]\u001b[A\n",
      "Generating channels:  42%|█████████████████████▉                               | 28658/69040 [00:06<00:07, 5051.66it/s]\u001b[A\n",
      "Generating channels:  42%|██████████████████████▍                              | 29183/69040 [00:06<00:08, 4616.05it/s]\u001b[A\n",
      "Generating channels:  43%|██████████████████████▊                              | 29664/69040 [00:06<00:09, 4331.36it/s]\u001b[A\n",
      "Generating channels:  44%|███████████████████████▎                             | 30322/69040 [00:06<00:07, 4903.86it/s]\u001b[A\n",
      "Generating channels:  45%|███████████████████████▋                             | 30832/69040 [00:06<00:07, 4782.53it/s]\u001b[A\n",
      "Generating channels:  45%|████████████████████████                             | 31324/69040 [00:07<00:08, 4259.82it/s]\u001b[A\n",
      "Generating channels:  46%|████████████████████████▍                            | 31768/69040 [00:07<00:08, 4278.05it/s]\u001b[A\n",
      "Generating channels:  47%|████████████████████████▉                            | 32408/69040 [00:07<00:07, 4834.35it/s]\u001b[A\n",
      "Generating channels:  48%|█████████████████████████▎                           | 32908/69040 [00:07<00:07, 4589.23it/s]\u001b[A\n",
      "Generating channels:  48%|█████████████████████████▌                           | 33380/69040 [00:07<00:08, 4299.02it/s]\u001b[A\n",
      "Generating channels:  49%|██████████████████████████                           | 34011/69040 [00:07<00:07, 4817.84it/s]\u001b[A\n",
      "Generating channels:  50%|██████████████████████████▍                          | 34507/69040 [00:07<00:07, 4770.87it/s]\u001b[A\n",
      "Generating channels:  51%|██████████████████████████▊                          | 34994/69040 [00:07<00:07, 4318.89it/s]\u001b[A\n",
      "Generating channels:  51%|███████████████████████████▏                         | 35440/69040 [00:07<00:07, 4286.95it/s]\u001b[A\n",
      "Generating channels:  52%|███████████████████████████▋                         | 36069/69040 [00:08<00:06, 4820.76it/s]\u001b[A\n",
      "Generating channels:  53%|████████████████████████████                         | 36564/69040 [00:08<00:06, 4668.38it/s]\u001b[A\n",
      "Generating channels:  54%|████████████████████████████▍                        | 37040/69040 [00:08<00:07, 4179.37it/s]\u001b[A\n",
      "Generating channels:  54%|████████████████████████████▊                        | 37488/69040 [00:08<00:07, 4251.54it/s]\u001b[A\n",
      "Generating channels:  55%|█████████████████████████████▏                       | 38069/69040 [00:08<00:06, 4671.47it/s]\u001b[A\n",
      "Generating channels:  56%|█████████████████████████████▌                       | 38549/69040 [00:08<00:06, 4445.97it/s]\u001b[A\n",
      "Generating channels:  56%|█████████████████████████████▉                       | 39004/69040 [00:08<00:07, 4075.08it/s]\u001b[A\n",
      "Generating channels:  57%|██████████████████████████████▎                      | 39505/69040 [00:08<00:06, 4314.19it/s]\u001b[A\n",
      "Generating channels:  58%|██████████████████████████████▋                      | 40038/69040 [00:08<00:06, 4589.97it/s]\u001b[A\n",
      "Generating channels:  59%|███████████████████████████████                      | 40508/69040 [00:09<00:06, 4278.41it/s]\u001b[A\n",
      "Generating channels:  59%|███████████████████████████████▍                     | 40947/69040 [00:09<00:06, 4035.41it/s]\u001b[A\n",
      "Generating channels:  60%|███████████████████████████████▊                     | 41433/69040 [00:09<00:06, 4247.88it/s]\u001b[A\n",
      "Generating channels:  61%|████████████████████████████████▏                    | 41962/69040 [00:09<00:05, 4527.00it/s]\u001b[A\n",
      "Generating channels:  61%|████████████████████████████████▌                    | 42424/69040 [00:09<00:06, 4220.23it/s]\u001b[A\n",
      "Generating channels:  62%|████████████████████████████████▉                    | 42856/69040 [00:09<00:06, 4092.06it/s]\u001b[A\n",
      "Generating channels:  63%|█████████████████████████████████▎                   | 43372/69040 [00:09<00:05, 4372.27it/s]\u001b[A\n",
      "Generating channels:  63%|█████████████████████████████████▋                   | 43835/69040 [00:09<00:05, 4440.74it/s]\u001b[A\n",
      "Generating channels:  64%|█████████████████████████████████▉                   | 44285/69040 [00:10<00:06, 3881.82it/s]\u001b[A\n",
      "Generating channels:  65%|██████████████████████████████████▎                  | 44689/69040 [00:10<00:06, 3736.59it/s]\u001b[A\n",
      "Generating channels:  65%|██████████████████████████████████▋                  | 45159/69040 [00:10<00:05, 3984.48it/s]\u001b[A\n",
      "Generating channels:  66%|███████████████████████████████████                  | 45656/69040 [00:10<00:05, 4250.49it/s]\u001b[A\n",
      "Generating channels:  67%|███████████████████████████████████▍                 | 46092/69040 [00:10<00:05, 4244.41it/s]\u001b[A\n",
      "Generating channels:  67%|███████████████████████████████████▋                 | 46524/69040 [00:10<00:05, 4024.02it/s]\u001b[A\n",
      "Generating channels:  68%|████████████████████████████████████                 | 47025/69040 [00:10<00:05, 4290.66it/s]\u001b[A\n",
      "Generating channels:  69%|████████████████████████████████████▌                | 47596/69040 [00:10<00:04, 4685.41it/s]\u001b[A\n",
      "Generating channels:  70%|████████████████████████████████████▉                | 48072/69040 [00:10<00:04, 4349.82it/s]\u001b[A\n",
      "Generating channels:  70%|█████████████████████████████████████▏               | 48516/69040 [00:11<00:04, 4118.97it/s]\u001b[A\n",
      "Generating channels:  71%|█████████████████████████████████████▋               | 49076/69040 [00:11<00:04, 4507.33it/s]\u001b[A\n",
      "Generating channels:  72%|██████████████████████████████████████               | 49575/69040 [00:11<00:04, 4630.76it/s]\u001b[A\n",
      "Generating channels:  72%|██████████████████████████████████████▍              | 50046/69040 [00:11<00:04, 4324.49it/s]\u001b[A\n",
      "Generating channels:  73%|██████████████████████████████████████▊              | 50487/69040 [00:11<00:04, 4153.17it/s]\u001b[A\n",
      "Generating channels:  74%|███████████████████████████████████████▏             | 51046/69040 [00:11<00:03, 4536.95it/s]\u001b[A\n",
      "Generating channels:  75%|███████████████████████████████████████▌             | 51514/69040 [00:11<00:03, 4569.80it/s]\u001b[A\n",
      "Generating channels:  75%|███████████████████████████████████████▉             | 51977/69040 [00:11<00:04, 4197.47it/s]\u001b[A\n",
      "Generating channels:  76%|████████████████████████████████████████▏            | 52406/69040 [00:11<00:03, 4205.32it/s]\u001b[A\n",
      "Generating channels:  77%|████████████████████████████████████████▋            | 52956/69040 [00:11<00:03, 4565.12it/s]\u001b[A\n",
      "Generating channels:  77%|█████████████████████████████████████████            | 53427/69040 [00:12<00:03, 4599.60it/s]\u001b[A\n",
      "Generating channels:  78%|█████████████████████████████████████████▎           | 53893/69040 [00:12<00:03, 4170.79it/s]\u001b[A\n",
      "Generating channels:  79%|█████████████████████████████████████████▋           | 54329/69040 [00:12<00:03, 4216.54it/s]\u001b[A\n",
      "Generating channels:  79%|██████████████████████████████████████████▏          | 54876/69040 [00:12<00:03, 4559.95it/s]\u001b[A\n",
      "Generating channels:  80%|██████████████████████████████████████████▍          | 55347/69040 [00:12<00:02, 4601.23it/s]\u001b[A\n",
      "Generating channels:  81%|██████████████████████████████████████████▊          | 55813/69040 [00:12<00:03, 4254.64it/s]\u001b[A\n",
      "Generating channels:  81%|███████████████████████████████████████████▏         | 56248/69040 [00:12<00:03, 4262.36it/s]\u001b[A\n"
     ]
    },
    {
     "name": "stderr",
     "output_type": "stream",
     "text": [
      "Generating channels:  82%|███████████████████████████████████████████▌         | 56753/69040 [00:12<00:02, 4477.19it/s]\u001b[A\n",
      "Generating channels:  83%|███████████████████████████████████████████▉         | 57247/69040 [00:12<00:02, 4608.15it/s]\u001b[A\n",
      "Generating channels:  84%|████████████████████████████████████████████▎        | 57713/69040 [00:13<00:02, 4223.79it/s]\u001b[A\n",
      "Generating channels: 100%|█████████████████████████████████████████████████████| 69040/69040 [00:13<00:00, 5198.67it/s]\u001b[A\n"
     ]
    },
    {
     "name": "stdout",
     "output_type": "stream",
     "text": [
      "\n",
      "BS-BS Channels\n"
     ]
    },
    {
     "name": "stderr",
     "output_type": "stream",
     "text": [
      "\n",
      "Reading ray-tracing: 100%|███████████████████████████████████████████████████████████████████████| 1/1 [00:00<?, ?it/s]\u001b[A\n",
      "\n",
      "Generating channels: 100%|██████████████████████████████████████████████████████████████| 1/1 [00:00<00:00, 499.86it/s]\u001b[A\n"
     ]
    },
    {
     "name": "stdout",
     "output_type": "stream",
     "text": [
      "\n",
      "Scene 4/5\n",
      "\n",
      "Basestation 1\n",
      "\n",
      "UE-BS Channels\n"
     ]
    },
    {
     "name": "stderr",
     "output_type": "stream",
     "text": [
      "\n",
      "Reading ray-tracing:   0%|                                                                   | 0/69040 [00:00<?, ?it/s]\u001b[A\n",
      "Reading ray-tracing:   4%|██▏                                                  | 2904/69040 [00:00<00:02, 28880.49it/s]\u001b[A\n",
      "Reading ray-tracing:   9%|████▌                                                | 6001/69040 [00:00<00:02, 30019.97it/s]\u001b[A\n",
      "Reading ray-tracing:  13%|██████▉                                              | 9004/69040 [00:00<00:02, 29417.16it/s]\u001b[A\n",
      "Reading ray-tracing:  17%|█████████                                           | 12002/69040 [00:00<00:01, 29569.71it/s]\u001b[A\n",
      "Reading ray-tracing:  22%|███████████▎                                        | 14960/69040 [00:00<00:01, 29257.86it/s]\u001b[A\n",
      "Reading ray-tracing:  26%|█████████████▍                                      | 17887/69040 [00:00<00:01, 29017.53it/s]\u001b[A\n",
      "Reading ray-tracing:  30%|███████████████▋                                    | 20790/69040 [00:00<00:01, 28975.19it/s]\u001b[A\n",
      "Reading ray-tracing:  34%|█████████████████▊                                  | 23707/69040 [00:00<00:01, 28988.09it/s]\u001b[A\n",
      "Reading ray-tracing:  39%|████████████████████                                | 26607/69040 [00:00<00:01, 28945.84it/s]\u001b[A\n",
      "Reading ray-tracing:  43%|██████████████████████▏                             | 29502/69040 [00:01<00:01, 28363.20it/s]\u001b[A\n",
      "Reading ray-tracing:  47%|████████████████████████▍                           | 32371/69040 [00:01<00:01, 28417.56it/s]\u001b[A\n",
      "Reading ray-tracing:  51%|██████████████████████████▌                         | 35215/69040 [00:01<00:01, 27962.09it/s]\u001b[A\n",
      "Reading ray-tracing:  55%|████████████████████████████▋                       | 38102/69040 [00:01<00:01, 28187.58it/s]\u001b[A\n",
      "Reading ray-tracing:  59%|██████████████████████████████▊                     | 40988/69040 [00:01<00:00, 28368.20it/s]\u001b[A\n",
      "Reading ray-tracing:  64%|█████████████████████████████████▏                  | 44038/69040 [00:01<00:00, 28976.51it/s]\u001b[A\n",
      "Reading ray-tracing:  68%|███████████████████████████████████▎                | 46938/69040 [00:01<00:00, 28762.42it/s]\u001b[A\n",
      "Reading ray-tracing:  72%|█████████████████████████████████████▌              | 49818/69040 [00:01<00:00, 28728.00it/s]\u001b[A\n",
      "Reading ray-tracing:  76%|███████████████████████████████████████▋            | 52692/69040 [00:01<00:00, 28361.99it/s]\u001b[A\n",
      "Reading ray-tracing:  80%|█████████████████████████████████████████▊          | 55530/69040 [00:01<00:00, 28282.18it/s]\u001b[A\n",
      "Reading ray-tracing:  85%|███████████████████████████████████████████▉        | 58360/69040 [00:02<00:00, 28074.36it/s]\u001b[A\n",
      "Reading ray-tracing: 100%|████████████████████████████████████████████████████| 69040/69040 [00:02<00:00, 31652.47it/s]\u001b[A\n",
      "\n",
      "Generating channels:   0%|                                                                   | 0/69040 [00:00<?, ?it/s]\u001b[A\n",
      "Generating channels:   1%|▍                                                      | 507/69040 [00:00<00:13, 5042.87it/s]\u001b[A\n",
      "Generating channels:   1%|▊                                                     | 1012/69040 [00:00<00:17, 3816.96it/s]\u001b[A\n",
      "Generating channels:   2%|█▏                                                    | 1500/69040 [00:00<00:16, 4220.71it/s]\u001b[A\n",
      "Generating channels:   3%|█▋                                                    | 2155/69040 [00:00<00:13, 5039.93it/s]\u001b[A\n",
      "Generating channels:   4%|██                                                    | 2678/69040 [00:00<00:14, 4433.32it/s]\u001b[A\n",
      "Generating channels:   5%|██▍                                                   | 3143/69040 [00:00<00:15, 4126.00it/s]\u001b[A\n",
      "Generating channels:   5%|██▉                                                   | 3795/69040 [00:00<00:13, 4788.05it/s]\u001b[A\n",
      "Generating channels:   6%|███▎                                                  | 4297/69040 [00:00<00:13, 4847.96it/s]\u001b[A\n",
      "Generating channels:   7%|███▊                                                  | 4798/69040 [00:01<00:15, 4265.24it/s]\u001b[A\n",
      "Generating channels:   8%|████▏                                                 | 5296/69040 [00:01<00:14, 4447.72it/s]\u001b[A\n",
      "Generating channels:   9%|████▋                                                 | 5985/69040 [00:01<00:12, 5114.88it/s]\u001b[A\n",
      "Generating channels:   9%|█████                                                 | 6517/69040 [00:01<00:13, 4574.06it/s]\u001b[A\n",
      "Generating channels:  10%|█████▍                                                | 6998/69040 [00:01<00:14, 4328.82it/s]\u001b[A\n",
      "Generating channels:  11%|██████                                                | 7756/69040 [00:01<00:11, 5169.65it/s]\u001b[A\n",
      "Generating channels:  12%|██████▍                                               | 8299/69040 [00:01<00:12, 4728.42it/s]\u001b[A\n",
      "Generating channels:  13%|██████▉                                               | 8795/69040 [00:01<00:13, 4406.57it/s]\u001b[A\n",
      "Generating channels:  14%|███████▍                                              | 9479/69040 [00:02<00:11, 5016.55it/s]\u001b[A\n",
      "Generating channels:  14%|███████▋                                             | 10005/69040 [00:02<00:11, 5007.83it/s]\u001b[A\n",
      "Generating channels:  15%|████████                                             | 10523/69040 [00:02<00:13, 4227.90it/s]\u001b[A\n",
      "Generating channels:  16%|████████▍                                            | 10976/69040 [00:02<00:14, 4002.30it/s]\u001b[A\n",
      "Generating channels:  17%|████████▉                                            | 11635/69040 [00:02<00:12, 4632.33it/s]\u001b[A\n",
      "Generating channels:  18%|█████████▎                                           | 12127/69040 [00:02<00:13, 4355.81it/s]\u001b[A\n",
      "Generating channels:  18%|█████████▋                                           | 12584/69040 [00:02<00:13, 4105.97it/s]\u001b[A\n",
      "Generating channels:  19%|██████████▏                                          | 13234/69040 [00:02<00:11, 4706.60it/s]\u001b[A\n",
      "Generating channels:  20%|██████████▌                                          | 13749/69040 [00:03<00:11, 4817.57it/s]\u001b[A\n",
      "Generating channels:  21%|██████████▉                                          | 14248/69040 [00:03<00:12, 4334.53it/s]\u001b[A\n",
      "Generating channels:  21%|███████████▎                                         | 14701/69040 [00:03<00:12, 4372.71it/s]\u001b[A\n",
      "Generating channels:  22%|███████████▊                                         | 15397/69040 [00:03<00:10, 5063.01it/s]\u001b[A\n",
      "Generating channels:  23%|████████████▏                                        | 15921/69040 [00:03<00:11, 4588.63it/s]\u001b[A\n",
      "Generating channels:  24%|████████████▌                                        | 16399/69040 [00:03<00:12, 4363.23it/s]\u001b[A\n",
      "Generating channels:  25%|█████████████                                        | 17047/69040 [00:03<00:10, 4908.81it/s]\u001b[A\n",
      "Generating channels:  25%|█████████████▍                                       | 17556/69040 [00:03<00:10, 4890.79it/s]\u001b[A\n",
      "Generating channels:  26%|█████████████▊                                       | 18058/69040 [00:03<00:11, 4435.59it/s]\u001b[A\n",
      "Generating channels:  27%|██████████████▏                                      | 18517/69040 [00:04<00:11, 4423.70it/s]\u001b[A\n",
      "Generating channels:  28%|██████████████▋                                      | 19142/69040 [00:04<00:10, 4914.44it/s]\u001b[A\n",
      "Generating channels:  28%|███████████████                                      | 19646/69040 [00:04<00:10, 4589.71it/s]\u001b[A\n",
      "Generating channels:  29%|███████████████▍                                     | 20117/69040 [00:04<00:11, 4291.86it/s]\u001b[A\n",
      "Generating channels:  30%|███████████████▉                                     | 20767/69040 [00:04<00:09, 4866.71it/s]\u001b[A\n",
      "Generating channels:  31%|████████████████▎                                    | 21269/69040 [00:04<00:09, 4887.87it/s]\u001b[A\n",
      "Generating channels:  32%|████████████████▋                                    | 21769/69040 [00:04<00:10, 4433.73it/s]\u001b[A\n",
      "Generating channels:  32%|█████████████████                                    | 22227/69040 [00:04<00:10, 4362.01it/s]\u001b[A\n",
      "Generating channels:  33%|█████████████████▌                                   | 22925/69040 [00:04<00:09, 5060.38it/s]\u001b[A\n",
      "Generating channels:  34%|█████████████████▉                                   | 23446/69040 [00:05<00:09, 4739.23it/s]\u001b[A\n"
     ]
    },
    {
     "name": "stderr",
     "output_type": "stream",
     "text": [
      "Generating channels:  35%|██████████████████▎                                  | 23933/69040 [00:05<00:10, 4346.46it/s]\u001b[A\n",
      "Generating channels:  36%|██████████████████▉                                  | 24590/69040 [00:05<00:09, 4922.71it/s]\u001b[A\n",
      "Generating channels:  36%|███████████████████▎                                 | 25101/69040 [00:05<00:09, 4845.05it/s]\u001b[A\n",
      "Generating channels:  37%|███████████████████▋                                 | 25598/69040 [00:05<00:10, 4316.25it/s]\u001b[A\n",
      "Generating channels:  38%|███████████████████▉                                 | 26047/69040 [00:05<00:10, 4278.35it/s]\u001b[A\n",
      "Generating channels:  39%|████████████████████▌                                | 26724/69040 [00:05<00:08, 4933.94it/s]\u001b[A\n",
      "Generating channels:  39%|████████████████████▉                                | 27235/69040 [00:05<00:09, 4597.03it/s]\u001b[A\n",
      "Generating channels:  40%|█████████████████████▎                               | 27710/69040 [00:06<00:09, 4262.62it/s]\u001b[A\n",
      "Generating channels:  41%|█████████████████████▊                               | 28368/69040 [00:06<00:08, 4854.65it/s]\u001b[A\n",
      "Generating channels:  42%|██████████████████████▏                              | 28872/69040 [00:06<00:08, 4811.77it/s]\u001b[A\n",
      "Generating channels:  43%|██████████████████████▌                              | 29366/69040 [00:06<00:08, 4438.67it/s]\u001b[A\n",
      "Generating channels:  43%|██████████████████████▉                              | 29823/69040 [00:06<00:09, 4340.66it/s]\u001b[A\n",
      "Generating channels:  44%|███████████████████████▍                             | 30492/69040 [00:06<00:07, 4963.40it/s]\u001b[A\n",
      "Generating channels:  45%|███████████████████████▊                             | 31002/69040 [00:06<00:08, 4581.46it/s]\u001b[A\n",
      "Generating channels:  46%|████████████████████████▏                            | 31474/69040 [00:06<00:08, 4224.21it/s]\u001b[A\n",
      "Generating channels:  47%|████████████████████████▋                            | 32123/69040 [00:06<00:07, 4801.93it/s]\u001b[A\n",
      "Generating channels:  47%|█████████████████████████                            | 32622/69040 [00:07<00:07, 4755.59it/s]\u001b[A\n",
      "Generating channels:  48%|█████████████████████████▍                           | 33110/69040 [00:07<00:08, 4233.11it/s]\u001b[A\n",
      "Generating channels:  49%|█████████████████████████▊                           | 33551/69040 [00:07<00:08, 4175.48it/s]\u001b[A\n",
      "Generating channels:  50%|██████████████████████████▏                          | 34184/69040 [00:07<00:07, 4736.26it/s]\u001b[A\n",
      "Generating channels:  50%|██████████████████████████▌                          | 34674/69040 [00:07<00:07, 4628.41it/s]\u001b[A\n",
      "Generating channels:  51%|██████████████████████████▉                          | 35148/69040 [00:07<00:08, 4203.06it/s]\u001b[A\n",
      "Generating channels:  52%|███████████████████████████▎                         | 35601/69040 [00:07<00:07, 4287.36it/s]\u001b[A\n",
      "Generating channels:  52%|███████████████████████████▊                         | 36165/69040 [00:07<00:07, 4647.13it/s]\u001b[A\n",
      "Generating channels:  53%|████████████████████████████▏                        | 36641/69040 [00:08<00:07, 4436.88it/s]\u001b[A\n",
      "Generating channels:  54%|████████████████████████████▍                        | 37094/69040 [00:08<00:07, 4055.68it/s]\u001b[A\n",
      "Generating channels:  55%|████████████████████████████▉                        | 37628/69040 [00:08<00:07, 4391.54it/s]\u001b[A\n",
      "Generating channels:  55%|█████████████████████████████▎                       | 38122/69040 [00:08<00:06, 4540.10it/s]\u001b[A\n",
      "Generating channels:  56%|█████████████████████████████▌                       | 38586/69040 [00:08<00:07, 4284.82it/s]\u001b[A\n",
      "Generating channels:  57%|█████████████████████████████▉                       | 39024/69040 [00:08<00:07, 4060.39it/s]\u001b[A\n",
      "Generating channels:  57%|██████████████████████████████▎                      | 39532/69040 [00:08<00:06, 4332.40it/s]\u001b[A\n",
      "Generating channels:  58%|██████████████████████████████▋                      | 40026/69040 [00:08<00:06, 4498.05it/s]\u001b[A\n",
      "Generating channels:  59%|███████████████████████████████                      | 40483/69040 [00:08<00:06, 4292.57it/s]\u001b[A\n",
      "Generating channels:  59%|███████████████████████████████▍                     | 40919/69040 [00:09<00:06, 4056.64it/s]\u001b[A\n",
      "Generating channels:  60%|███████████████████████████████▊                     | 41418/69040 [00:09<00:06, 4303.70it/s]\u001b[A\n",
      "Generating channels:  61%|████████████████████████████████▏                    | 41945/69040 [00:09<00:05, 4572.06it/s]\u001b[A\n",
      "Generating channels:  61%|████████████████████████████████▌                    | 42409/69040 [00:09<00:06, 4273.12it/s]\u001b[A\n",
      "Generating channels:  62%|████████████████████████████████▉                    | 42844/69040 [00:09<00:06, 4085.96it/s]\u001b[A\n",
      "Generating channels:  63%|█████████████████████████████████▎                   | 43328/69040 [00:09<00:05, 4285.36it/s]\u001b[A\n",
      "Generating channels:  63%|█████████████████████████████████▋                   | 43822/69040 [00:09<00:05, 4465.67it/s]\u001b[A\n",
      "Generating channels:  64%|█████████████████████████████████▉                   | 44275/69040 [00:09<00:05, 4207.63it/s]\u001b[A\n",
      "Generating channels:  65%|██████████████████████████████████▎                  | 44702/69040 [00:09<00:06, 3987.47it/s]\u001b[A\n",
      "Generating channels:  65%|██████████████████████████████████▋                  | 45143/69040 [00:10<00:05, 4096.55it/s]\u001b[A\n",
      "Generating channels:  66%|███████████████████████████████████                  | 45657/69040 [00:10<00:05, 4381.37it/s]\u001b[A\n",
      "Generating channels:  67%|███████████████████████████████████▍                 | 46101/69040 [00:10<00:05, 4264.23it/s]\u001b[A\n",
      "Generating channels:  67%|███████████████████████████████████▋                 | 46532/69040 [00:10<00:05, 3973.12it/s]\u001b[A\n",
      "Generating channels:  68%|████████████████████████████████████                 | 47025/69040 [00:10<00:05, 4230.55it/s]\u001b[A\n",
      "Generating channels:  69%|████████████████████████████████████▍                | 47544/69040 [00:10<00:04, 4492.56it/s]\u001b[A\n",
      "Generating channels:  70%|████████████████████████████████████▊                | 48000/69040 [00:10<00:04, 4404.69it/s]\u001b[A\n",
      "Generating channels:  70%|█████████████████████████████████████▏               | 48445/69040 [00:10<00:04, 4145.47it/s]\u001b[A\n",
      "Generating channels:  71%|█████████████████████████████████████▌               | 48953/69040 [00:10<00:04, 4397.82it/s]\u001b[A\n",
      "Generating channels:  72%|█████████████████████████████████████▉               | 49463/69040 [00:11<00:04, 4589.72it/s]\u001b[A\n",
      "Generating channels:  72%|██████████████████████████████████████▎              | 49928/69040 [00:11<00:04, 4240.83it/s]\u001b[A\n",
      "Generating channels:  73%|██████████████████████████████████████▋              | 50361/69040 [00:11<00:04, 3955.62it/s]\u001b[A\n",
      "Generating channels:  74%|███████████████████████████████████████              | 50826/69040 [00:11<00:04, 4135.01it/s]\u001b[A\n",
      "Generating channels:  74%|███████████████████████████████████████▍             | 51334/69040 [00:11<00:04, 4388.85it/s]\u001b[A\n",
      "Generating channels:  75%|███████████████████████████████████████▊             | 51781/69040 [00:11<00:04, 4159.22it/s]\u001b[A\n",
      "Generating channels:  76%|████████████████████████████████████████             | 52204/69040 [00:11<00:04, 3889.15it/s]\u001b[A\n",
      "Generating channels:  76%|████████████████████████████████████████▍            | 52623/69040 [00:11<00:04, 3969.46it/s]\u001b[A\n",
      "Generating channels:  77%|████████████████████████████████████████▊            | 53174/69040 [00:11<00:03, 4389.69it/s]\u001b[A\n",
      "Generating channels:  78%|█████████████████████████████████████████▏           | 53621/69040 [00:12<00:03, 4219.18it/s]\u001b[A\n",
      "Generating channels:  78%|█████████████████████████████████████████▍           | 54049/69040 [00:12<00:03, 3908.19it/s]\u001b[A\n",
      "Generating channels:  79%|█████████████████████████████████████████▊           | 54494/69040 [00:12<00:03, 4052.75it/s]\u001b[A\n",
      "Generating channels:  80%|██████████████████████████████████████████▎          | 55092/69040 [00:12<00:03, 4580.00it/s]\u001b[A\n",
      "Generating channels:  80%|██████████████████████████████████████████▋          | 55559/69040 [00:12<00:03, 4402.27it/s]\u001b[A\n",
      "Generating channels:  81%|██████████████████████████████████████████▉          | 56007/69040 [00:12<00:03, 4076.76it/s]\u001b[A\n"
     ]
    },
    {
     "name": "stderr",
     "output_type": "stream",
     "text": [
      "Generating channels:  82%|███████████████████████████████████████████▎         | 56447/69040 [00:12<00:03, 4157.84it/s]\u001b[A\n",
      "Generating channels:  83%|███████████████████████████████████████████▊         | 56998/69040 [00:12<00:02, 4525.01it/s]\u001b[A\n",
      "Generating channels:  83%|████████████████████████████████████████████         | 57459/69040 [00:12<00:02, 4369.05it/s]\u001b[A\n",
      "Generating channels:  84%|████████████████████████████████████████████▍        | 57902/69040 [00:13<00:02, 4082.84it/s]\u001b[A\n",
      "Generating channels: 100%|█████████████████████████████████████████████████████| 69040/69040 [00:13<00:00, 5231.48it/s]\u001b[A\n"
     ]
    },
    {
     "name": "stdout",
     "output_type": "stream",
     "text": [
      "\n",
      "BS-BS Channels\n"
     ]
    },
    {
     "name": "stderr",
     "output_type": "stream",
     "text": [
      "\n",
      "Reading ray-tracing: 100%|███████████████████████████████████████████████████████████████████████| 1/1 [00:00<?, ?it/s]\u001b[A\n",
      "\n",
      "Generating channels: 100%|██████████████████████████████████████████████████████████████| 1/1 [00:00<00:00, 500.93it/s]\u001b[A\n"
     ]
    },
    {
     "name": "stdout",
     "output_type": "stream",
     "text": [
      "\n",
      "Scene 5/5\n",
      "\n",
      "Basestation 1\n",
      "\n",
      "UE-BS Channels\n"
     ]
    },
    {
     "name": "stderr",
     "output_type": "stream",
     "text": [
      "\n",
      "Reading ray-tracing:   0%|                                                                   | 0/69040 [00:00<?, ?it/s]\u001b[A\n",
      "Reading ray-tracing:   4%|██▏                                                  | 2797/69040 [00:00<00:02, 27823.89it/s]\u001b[A\n",
      "Reading ray-tracing:   8%|████▎                                                | 5650/69040 [00:00<00:02, 28214.32it/s]\u001b[A\n",
      "Reading ray-tracing:  12%|██████▌                                              | 8472/69040 [00:00<00:02, 28077.28it/s]\u001b[A\n",
      "Reading ray-tracing:  16%|████████▌                                           | 11322/69040 [00:00<00:02, 28155.37it/s]\u001b[A\n",
      "Reading ray-tracing:  20%|██████████▋                                         | 14138/69040 [00:00<00:01, 27649.58it/s]\u001b[A\n",
      "Reading ray-tracing:  25%|████████████▊                                       | 16997/69040 [00:00<00:01, 27914.62it/s]\u001b[A\n",
      "Reading ray-tracing:  29%|██████████████▉                                     | 19790/69040 [00:00<00:01, 27607.70it/s]\u001b[A\n",
      "Reading ray-tracing:  33%|████████████████▉                                   | 22552/69040 [00:00<00:01, 27599.85it/s]\u001b[A\n",
      "Reading ray-tracing:  37%|███████████████████                                 | 25313/69040 [00:00<00:01, 27139.97it/s]\u001b[A\n",
      "Reading ray-tracing:  41%|█████████████████████▏                              | 28211/69040 [00:01<00:01, 27636.81it/s]\u001b[A\n",
      "Reading ray-tracing:  45%|███████████████████████▎                            | 30977/69040 [00:01<00:01, 27354.02it/s]\u001b[A\n",
      "Reading ray-tracing:  49%|█████████████████████████▌                          | 33897/69040 [00:01<00:01, 27861.23it/s]\u001b[A\n",
      "Reading ray-tracing:  53%|███████████████████████████▋                        | 36685/69040 [00:01<00:01, 27546.99it/s]\u001b[A\n",
      "Reading ray-tracing:  57%|█████████████████████████████▋                      | 39442/69040 [00:01<00:01, 26873.36it/s]\u001b[A\n",
      "Reading ray-tracing:  61%|███████████████████████████████▋                    | 42134/69040 [00:01<00:01, 26497.69it/s]\u001b[A\n",
      "Reading ray-tracing:  65%|█████████████████████████████████▊                  | 44847/69040 [00:01<00:00, 26641.00it/s]\u001b[A\n",
      "Reading ray-tracing:  69%|███████████████████████████████████▊                | 47517/69040 [00:01<00:00, 26619.03it/s]\u001b[A\n",
      "Reading ray-tracing:  73%|█████████████████████████████████████▊              | 50182/69040 [00:01<00:00, 26586.10it/s]\u001b[A\n",
      "Reading ray-tracing:  77%|███████████████████████████████████████▊            | 52842/69040 [00:01<00:00, 26550.11it/s]\u001b[A\n",
      "Reading ray-tracing:  80%|█████████████████████████████████████████▊          | 55498/69040 [00:02<00:00, 26238.99it/s]\u001b[A\n",
      "Reading ray-tracing:  84%|███████████████████████████████████████████▊        | 58123/69040 [00:02<00:00, 26235.89it/s]\u001b[A\n",
      "Reading ray-tracing: 100%|████████████████████████████████████████████████████| 69040/69040 [00:02<00:00, 30033.54it/s]\u001b[A\n",
      "\n",
      "Generating channels:   0%|                                                                   | 0/69040 [00:00<?, ?it/s]\u001b[A\n",
      "Generating channels:   1%|▎                                                      | 439/69040 [00:00<00:15, 4367.47it/s]\u001b[A\n",
      "Generating channels:   1%|▋                                                      | 876/69040 [00:00<00:19, 3537.68it/s]\u001b[A\n",
      "Generating channels:   2%|▉                                                     | 1240/69040 [00:00<00:19, 3433.03it/s]\u001b[A\n",
      "Generating channels:   3%|█▍                                                    | 1839/69040 [00:00<00:15, 4341.60it/s]\u001b[A\n",
      "Generating channels:   3%|█▊                                                    | 2303/69040 [00:00<00:15, 4438.06it/s]\u001b[A\n",
      "Generating channels:   4%|██▏                                                   | 2756/69040 [00:00<00:16, 4010.41it/s]\u001b[A\n",
      "Generating channels:   5%|██▍                                                   | 3169/69040 [00:00<00:16, 3879.95it/s]\u001b[A\n",
      "Generating channels:   5%|██▉                                                   | 3742/69040 [00:00<00:14, 4404.82it/s]\u001b[A\n",
      "Generating channels:   6%|███▎                                                  | 4222/69040 [00:01<00:14, 4512.95it/s]\u001b[A\n",
      "Generating channels:   7%|███▋                                                  | 4682/69040 [00:01<00:15, 4143.36it/s]\u001b[A\n",
      "Generating channels:   7%|███▉                                                  | 5107/69040 [00:01<00:15, 4072.26it/s]\u001b[A\n",
      "Generating channels:   8%|████▌                                                 | 5764/69040 [00:01<00:13, 4760.17it/s]\u001b[A\n",
      "Generating channels:   9%|████▉                                                 | 6251/69040 [00:01<00:13, 4666.73it/s]\u001b[A\n",
      "Generating channels:  10%|█████▎                                                | 6726/69040 [00:01<00:14, 4201.48it/s]\u001b[A\n",
      "Generating channels:  10%|█████▌                                                | 7185/69040 [00:01<00:14, 4304.56it/s]\u001b[A\n",
      "Generating channels:  11%|██████                                                | 7818/69040 [00:01<00:12, 4855.54it/s]\u001b[A\n",
      "Generating channels:  12%|██████▌                                               | 8316/69040 [00:01<00:13, 4421.59it/s]\u001b[A\n",
      "Generating channels:  13%|██████▊                                               | 8773/69040 [00:02<00:14, 4119.75it/s]\u001b[A\n",
      "Generating channels:  14%|███████▎                                              | 9419/69040 [00:02<00:12, 4727.42it/s]\u001b[A\n",
      "Generating channels:  14%|███████▊                                              | 9910/69040 [00:02<00:12, 4770.51it/s]\u001b[A\n",
      "Generating channels:  15%|███████▉                                             | 10400/69040 [00:02<00:13, 4275.32it/s]\u001b[A\n",
      "Generating channels:  16%|████████▎                                            | 10845/69040 [00:02<00:13, 4259.37it/s]\u001b[A\n",
      "Generating channels:  17%|████████▊                                            | 11487/69040 [00:02<00:11, 4834.49it/s]\u001b[A\n",
      "Generating channels:  17%|█████████▏                                           | 11986/69040 [00:02<00:12, 4561.07it/s]\u001b[A\n",
      "Generating channels:  18%|█████████▌                                           | 12455/69040 [00:02<00:13, 4129.40it/s]\u001b[A\n",
      "Generating channels:  19%|█████████▉                                           | 13010/69040 [00:02<00:12, 4489.56it/s]\u001b[A\n",
      "Generating channels:  20%|██████████▍                                          | 13557/69040 [00:03<00:11, 4746.82it/s]\u001b[A\n",
      "Generating channels:  20%|██████████▊                                          | 14046/69040 [00:03<00:12, 4381.38it/s]\u001b[A\n",
      "Generating channels:  21%|███████████▏                                         | 14498/69040 [00:03<00:13, 4147.73it/s]\u001b[A\n",
      "Generating channels:  22%|███████████▌                                         | 15111/69040 [00:03<00:11, 4662.43it/s]\u001b[A\n",
      "Generating channels:  23%|███████████▉                                         | 15592/69040 [00:03<00:11, 4670.59it/s]\u001b[A\n",
      "Generating channels:  23%|████████████▎                                        | 16070/69040 [00:03<00:12, 4275.58it/s]\u001b[A\n",
      "Generating channels:  24%|████████████▋                                        | 16510/69040 [00:03<00:12, 4245.65it/s]\u001b[A\n",
      "Generating channels:  25%|█████████████▏                                       | 17146/69040 [00:03<00:10, 4820.78it/s]\u001b[A\n",
      "Generating channels:  26%|█████████████▌                                       | 17640/69040 [00:04<00:11, 4547.58it/s]\u001b[A\n",
      "Generating channels:  26%|█████████████▉                                       | 18105/69040 [00:04<00:12, 4185.89it/s]\u001b[A\n",
      "Generating channels:  27%|██████████████▎                                      | 18666/69040 [00:04<00:11, 4553.40it/s]\u001b[A\n",
      "Generating channels:  28%|██████████████▋                                      | 19156/69040 [00:04<00:10, 4641.07it/s]\u001b[A\n",
      "Generating channels:  28%|███████████████                                      | 19630/69040 [00:04<00:11, 4381.75it/s]\u001b[A\n",
      "Generating channels:  29%|███████████████▍                                     | 20077/69040 [00:04<00:12, 3919.87it/s]\u001b[A\n",
      "Generating channels:  30%|███████████████▊                                     | 20573/69040 [00:04<00:11, 4187.50it/s]\u001b[A\n",
      "Generating channels:  30%|████████████████▏                                    | 21023/69040 [00:04<00:11, 4265.69it/s]\u001b[A\n"
     ]
    },
    {
     "name": "stderr",
     "output_type": "stream",
     "text": [
      "Generating channels:  31%|████████████████▍                                    | 21460/69040 [00:04<00:11, 4106.33it/s]\u001b[A\n",
      "Generating channels:  32%|████████████████▊                                    | 21879/69040 [00:05<00:12, 3909.03it/s]\u001b[A\n",
      "Generating channels:  33%|█████████████████▏                                   | 22439/69040 [00:05<00:10, 4359.52it/s]\u001b[A\n",
      "Generating channels:  33%|█████████████████▋                                   | 22972/69040 [00:05<00:09, 4622.80it/s]\u001b[A\n",
      "Generating channels:  34%|█████████████████▉                                   | 23443/69040 [00:05<00:10, 4326.57it/s]\u001b[A\n",
      "Generating channels:  35%|██████████████████▎                                  | 23885/69040 [00:05<00:11, 4087.95it/s]\u001b[A\n",
      "Generating channels:  35%|██████████████████▊                                  | 24506/69040 [00:05<00:09, 4656.88it/s]\u001b[A\n",
      "Generating channels:  36%|███████████████████▏                                 | 24992/69040 [00:05<00:09, 4705.47it/s]\u001b[A\n",
      "Generating channels:  37%|███████████████████▌                                 | 25472/69040 [00:05<00:10, 4338.46it/s]\u001b[A\n",
      "Generating channels:  38%|███████████████████▉                                 | 25917/69040 [00:05<00:10, 4217.56it/s]\u001b[A\n",
      "Generating channels:  38%|████████████████████▍                                | 26544/69040 [00:06<00:08, 4769.33it/s]\u001b[A\n",
      "Generating channels:  39%|████████████████████▊                                | 27032/69040 [00:06<00:08, 4669.42it/s]\u001b[A\n",
      "Generating channels:  40%|█████████████████████                                | 27507/69040 [00:06<00:09, 4240.87it/s]\u001b[A\n",
      "Generating channels:  40%|█████████████████████▍                               | 27943/69040 [00:06<00:09, 4255.42it/s]\u001b[A\n",
      "Generating channels:  41%|█████████████████████▉                               | 28579/69040 [00:06<00:08, 4825.52it/s]\u001b[A\n",
      "Generating channels:  42%|██████████████████████▎                              | 29073/69040 [00:06<00:08, 4496.91it/s]\u001b[A\n",
      "Generating channels:  43%|██████████████████████▋                              | 29534/69040 [00:06<00:09, 4175.90it/s]\u001b[A\n",
      "Generating channels:  44%|███████████████████████                              | 30115/69040 [00:06<00:08, 4599.36it/s]\u001b[A\n",
      "Generating channels:  44%|███████████████████████▍                             | 30588/69040 [00:06<00:08, 4603.73it/s]\u001b[A\n",
      "Generating channels:  45%|███████████████████████▊                             | 31058/69040 [00:07<00:08, 4266.95it/s]\u001b[A\n",
      "Generating channels:  46%|████████████████████████▏                            | 31495/69040 [00:07<00:09, 4003.92it/s]\u001b[A\n",
      "Generating channels:  46%|████████████████████████▌                            | 32066/69040 [00:07<00:08, 4447.56it/s]\u001b[A\n",
      "Generating channels:  47%|████████████████████████▉                            | 32532/69040 [00:07<00:08, 4499.29it/s]\u001b[A\n",
      "Generating channels:  48%|█████████████████████████▎                           | 32991/69040 [00:07<00:08, 4137.90it/s]\u001b[A\n",
      "Generating channels:  48%|█████████████████████████▋                           | 33416/69040 [00:07<00:09, 3928.06it/s]\u001b[A\n",
      "Generating channels:  49%|██████████████████████████                           | 34010/69040 [00:07<00:07, 4455.69it/s]\u001b[A\n",
      "Generating channels:  50%|██████████████████████████▍                          | 34468/69040 [00:07<00:07, 4398.95it/s]\u001b[A\n",
      "Generating channels:  51%|██████████████████████████▊                          | 34917/69040 [00:08<00:08, 4057.85it/s]\u001b[A\n",
      "Generating channels:  51%|███████████████████████████                          | 35333/69040 [00:08<00:08, 3988.35it/s]\u001b[A\n",
      "Generating channels:  52%|███████████████████████████▌                         | 35907/69040 [00:08<00:07, 4462.81it/s]\u001b[A\n",
      "Generating channels:  53%|███████████████████████████▉                         | 36363/69040 [00:08<00:07, 4409.86it/s]\u001b[A\n",
      "Generating channels:  53%|████████████████████████████▎                        | 36811/69040 [00:08<00:07, 4121.54it/s]\u001b[A\n",
      "Generating channels:  54%|████████████████████████████▌                        | 37231/69040 [00:08<00:07, 4015.07it/s]\u001b[A\n",
      "Generating channels:  55%|█████████████████████████████                        | 37800/69040 [00:08<00:06, 4472.47it/s]\u001b[A\n",
      "Generating channels:  55%|█████████████████████████████▎                       | 38256/69040 [00:08<00:06, 4490.94it/s]\u001b[A\n",
      "Generating channels:  56%|█████████████████████████████▋                       | 38711/69040 [00:08<00:07, 4091.23it/s]\u001b[A\n",
      "Generating channels:  57%|██████████████████████████████                       | 39130/69040 [00:09<00:07, 3952.26it/s]\u001b[A\n",
      "Generating channels:  57%|██████████████████████████████▍                      | 39672/69040 [00:09<00:06, 4343.43it/s]\u001b[A\n",
      "Generating channels:  58%|██████████████████████████████▊                      | 40116/69040 [00:09<00:06, 4309.94it/s]\u001b[A\n",
      "Generating channels:  59%|███████████████████████████████▏                     | 40554/69040 [00:09<00:07, 3945.65it/s]\u001b[A\n",
      "Generating channels:  59%|███████████████████████████████▍                     | 40958/69040 [00:09<00:07, 3749.29it/s]\u001b[A\n",
      "Generating channels:  60%|███████████████████████████████▊                     | 41431/69040 [00:09<00:06, 4003.93it/s]\u001b[A\n",
      "Generating channels:  61%|████████████████████████████████▏                    | 41897/69040 [00:09<00:06, 4184.28it/s]\u001b[A\n",
      "Generating channels:  61%|████████████████████████████████▍                    | 42323/69040 [00:09<00:06, 4107.01it/s]\u001b[A\n",
      "Generating channels:  62%|████████████████████████████████▊                    | 42739/69040 [00:09<00:06, 3917.01it/s]\u001b[A\n",
      "Generating channels:  63%|█████████████████████████████████▏                   | 43169/69040 [00:10<00:06, 4021.41it/s]\u001b[A\n",
      "Generating channels:  63%|█████████████████████████████████▌                   | 43687/69040 [00:10<00:05, 4342.57it/s]\u001b[A\n",
      "Generating channels:  64%|█████████████████████████████████▊                   | 44126/69040 [00:10<00:05, 4258.08it/s]\u001b[A\n",
      "Generating channels:  65%|██████████████████████████████████▏                  | 44556/69040 [00:10<00:06, 3943.85it/s]\u001b[A\n",
      "Generating channels:  65%|██████████████████████████████████▌                  | 44964/69040 [00:10<00:06, 3975.59it/s]\u001b[A\n",
      "Generating channels:  66%|██████████████████████████████████▉                  | 45489/69040 [00:10<00:05, 4327.08it/s]\u001b[A\n",
      "Generating channels:  67%|███████████████████████████████████▎                 | 45928/69040 [00:10<00:05, 4295.43it/s]\u001b[A\n",
      "Generating channels:  67%|███████████████████████████████████▌                 | 46362/69040 [00:10<00:05, 3969.56it/s]\u001b[A\n",
      "Generating channels:  68%|███████████████████████████████████▉                 | 46776/69040 [00:10<00:05, 4011.00it/s]\u001b[A\n",
      "Generating channels:  69%|████████████████████████████████████▎                | 47310/69040 [00:10<00:04, 4378.16it/s]\u001b[A\n",
      "Generating channels:  69%|████████████████████████████████████▋                | 47754/69040 [00:11<00:04, 4315.54it/s]\u001b[A\n",
      "Generating channels:  70%|████████████████████████████████████▉                | 48190/69040 [00:11<00:05, 3995.76it/s]\u001b[A\n",
      "Generating channels:  70%|█████████████████████████████████████▎               | 48597/69040 [00:11<00:05, 3935.02it/s]\u001b[A\n",
      "Generating channels:  71%|█████████████████████████████████████▋               | 49138/69040 [00:11<00:04, 4338.10it/s]\u001b[A\n",
      "Generating channels:  72%|██████████████████████████████████████               | 49579/69040 [00:11<00:04, 4303.44it/s]\u001b[A\n",
      "Generating channels:  72%|██████████████████████████████████████▍              | 50014/69040 [00:11<00:04, 3929.00it/s]\u001b[A\n",
      "Generating channels:  73%|██████████████████████████████████████▋              | 50416/69040 [00:11<00:04, 3779.16it/s]\u001b[A\n",
      "Generating channels:  74%|███████████████████████████████████████              | 50919/69040 [00:11<00:04, 4110.97it/s]\u001b[A\n",
      "Generating channels:  74%|███████████████████████████████████████▍             | 51372/69040 [00:11<00:04, 4221.21it/s]\u001b[A\n",
      "Generating channels:  75%|███████████████████████████████████████▊             | 51801/69040 [00:12<00:04, 4038.98it/s]\u001b[A\n",
      "Generating channels:  76%|████████████████████████████████████████             | 52211/69040 [00:12<00:04, 3892.49it/s]\u001b[A\n"
     ]
    },
    {
     "name": "stderr",
     "output_type": "stream",
     "text": [
      "Generating channels:  76%|████████████████████████████████████████▍            | 52661/69040 [00:12<00:04, 4054.58it/s]\u001b[A\n",
      "Generating channels:  77%|████████████████████████████████████████▊            | 53145/69040 [00:12<00:03, 4270.80it/s]\u001b[A\n",
      "Generating channels:  78%|█████████████████████████████████████████▏           | 53577/69040 [00:12<00:03, 4170.94it/s]\u001b[A\n",
      "Generating channels:  78%|█████████████████████████████████████████▍           | 53998/69040 [00:12<00:03, 3892.86it/s]\u001b[A\n",
      "Generating channels:  79%|█████████████████████████████████████████▊           | 54420/69040 [00:12<00:03, 3978.27it/s]\u001b[A\n",
      "Generating channels:  80%|██████████████████████████████████████████▏          | 54942/69040 [00:12<00:03, 4322.04it/s]\u001b[A\n",
      "Generating channels:  80%|██████████████████████████████████████████▌          | 55380/69040 [00:12<00:03, 4283.18it/s]\u001b[A\n",
      "Generating channels:  81%|██████████████████████████████████████████▊          | 55812/69040 [00:13<00:03, 3962.50it/s]\u001b[A\n",
      "Generating channels:  81%|███████████████████████████████████████████▏         | 56223/69040 [00:13<00:03, 4002.76it/s]\u001b[A\n",
      "Generating channels:  82%|███████████████████████████████████████████▌         | 56744/69040 [00:13<00:02, 4337.11it/s]\u001b[A\n",
      "Generating channels:  83%|███████████████████████████████████████████▉         | 57198/69040 [00:13<00:02, 4388.87it/s]\u001b[A\n",
      "Generating channels:  83%|████████████████████████████████████████████▏        | 57641/69040 [00:13<00:02, 4074.90it/s]\u001b[A\n",
      "Generating channels:  84%|████████████████████████████████████████████▌        | 58056/69040 [00:13<00:02, 4056.41it/s]\u001b[A\n",
      "Generating channels: 100%|█████████████████████████████████████████████████████| 69040/69040 [00:13<00:00, 5030.10it/s]\u001b[A\n"
     ]
    },
    {
     "name": "stdout",
     "output_type": "stream",
     "text": [
      "\n",
      "BS-BS Channels\n"
     ]
    },
    {
     "name": "stderr",
     "output_type": "stream",
     "text": [
      "\n",
      "Reading ray-tracing: 100%|███████████████████████████████████████████████████████████████████████| 1/1 [00:00<?, ?it/s]\u001b[A\n",
      "\n",
      "Generating channels: 100%|██████████████████████████████████████████████████████████████| 1/1 [00:00<00:00, 499.86it/s]\u001b[A\n",
      "100%|████████████████████████████████████████████████████████████████████████████████████| 2/2 [02:46<00:00, 83.22s/it]"
     ]
    },
    {
     "name": "stdout",
     "output_type": "stream",
     "text": [
      "Scenes 5–9 generation time: 82.95s\n"
     ]
    },
    {
     "name": "stderr",
     "output_type": "stream",
     "text": [
      "\n"
     ]
    }
   ],
   "source": [
    "## dataset 구축 (chunked on‑the‑fly generation)\n",
    "import time, gc\n",
    "from tqdm import tqdm\n",
    "\n",
    "# 0~999 씬 인덱스, 한 번에 50개씩 처리\n",
    "scene_indices = np.arange(scene)\n",
    "chunk_size   = 5\n",
    "all_data     = []\n",
    "\n",
    "# 씬 묶음(chunk)마다 generate_data 호출\n",
    "for i in tqdm(range(0, len(scene_indices), chunk_size)):\n",
    "    chunk = scene_indices[i : i+chunk_size].tolist()\n",
    "    parameters['dynamic_scenario_scenes'] = chunk\n",
    "\n",
    "    start = time.time()\n",
    "    data_chunk = DeepMIMOv3.generate_data(parameters)\n",
    "    print(f\"Scenes {chunk[0]}–{chunk[-1]} generation time: {time.time() - start:.2f}s\")\n",
    "\n",
    "    # 바로 all_data에 합치거나, 디스크에 저장해도 OK\n",
    "    all_data.extend(data_chunk)\n",
    "\n",
    "    # 메모리 해제\n",
    "    del data_chunk\n",
    "    gc.collect()\n",
    "\n",
    "# 마지막에 하나의 리스트로 합친 데이터셋\n",
    "dataset = all_data\n"
   ]
  },
  {
   "cell_type": "markdown",
   "id": "5b4e72d4",
   "metadata": {},
   "source": [
    "# 사용자 접근 데이터"
   ]
  },
  {
   "cell_type": "code",
   "execution_count": 8,
   "id": "57828d31",
   "metadata": {},
   "outputs": [
    {
     "name": "stdout",
     "output_type": "stream",
     "text": [
      "dict_keys(['paths', 'LoS', 'location', 'distance', 'pathloss', 'channel'])\n"
     ]
    }
   ],
   "source": [
    "user_data = dataset[0][0]['user']\n",
    "print(user_data.keys())"
   ]
  },
  {
   "cell_type": "markdown",
   "id": "bc5a3b0c",
   "metadata": {},
   "source": [
    "# 사용자 채널 정보 확인"
   ]
  },
  {
   "cell_type": "code",
   "execution_count": 9,
   "id": "23b2884b",
   "metadata": {},
   "outputs": [
    {
     "name": "stdout",
     "output_type": "stream",
     "text": [
      "(69040, 1, 32, 64)\n"
     ]
    }
   ],
   "source": [
    "# subcarries = 나눈 각각의 주파수 채널\n",
    "# Channel = H <- 채널 벡터\n",
    "# 채널 형태\n",
    "# (user, UE antenna, Bs antenna, subcarrier)\n",
    "channel = dataset[0][0]['user']['channel']\n",
    "print(channel.shape)  "
   ]
  },
  {
   "cell_type": "code",
   "execution_count": 10,
   "id": "bf443dc9",
   "metadata": {},
   "outputs": [
    {
     "name": "stdout",
     "output_type": "stream",
     "text": [
      "[[[-4.9276509e-06+6.0179661e-07j -4.7681883e-06+1.3829425e-06j\n",
      "   -4.4857170e-06+2.1285541e-06j ...  4.3711116e-06-2.4074948e-06j\n",
      "    3.9297033e-06-3.0764131e-06j  3.3868639e-06-3.6660977e-06j]\n",
      "  [-4.7825752e-06+1.6998159e-06j -4.4491662e-06+2.4436672e-06j\n",
      "   -4.0009481e-06+3.1246111e-06j ...  3.8229477e-06-3.3767817e-06j\n",
      "    3.2333687e-06-3.9455144e-06j  2.5602983e-06-4.4125736e-06j]\n",
      "  [-4.3861578e-06+2.7614337e-06j -3.8878534e-06+3.4282084e-06j\n",
      "   -3.2891933e-06+4.0066625e-06j ...  3.0543217e-06-4.2173128e-06j\n",
      "    2.3400164e-06-4.6522073e-06j  1.5652473e-06-4.9671735e-06j]\n",
      "  ...\n",
      "  [-5.9705985e-06+1.8381670e-06j -5.5992200e-06+2.7702260e-06j\n",
      "   -5.0834296e-06+3.6307945e-06j ...  4.8462462e-06-3.9304277e-06j\n",
      "    4.1544481e-06-4.6554678e-06j  3.3555179e-06-5.2603964e-06j]\n",
      "  [-5.3850690e-06+3.0986103e-06j -4.8194606e-06+3.9206407e-06j\n",
      "   -4.1295657e-06+4.6415066e-06j ...  3.8328362e-06-4.8787911e-06j\n",
      "    3.0023016e-06-5.4293314e-06j  2.0943648e-06-5.8398036e-06j]\n",
      "  [-4.5357333e-06+4.1878652e-06j -3.8067144e-06+4.8598408e-06j\n",
      "   -2.9795442e-06+5.4064294e-06j ...  2.6393784e-06-5.5698706e-06j\n",
      "    1.7136289e-06-5.9204085e-06j  7.4372792e-07-6.1182200e-06j]]]\n"
     ]
    }
   ],
   "source": [
    "print(dataset[0][0]['user']['channel'][100])"
   ]
  },
  {
   "cell_type": "code",
   "execution_count": 11,
   "id": "1a931204",
   "metadata": {},
   "outputs": [
    {
     "name": "stdout",
     "output_type": "stream",
     "text": [
      "1\n"
     ]
    }
   ],
   "source": [
    "print(len(dataset[0][0]['user']['channel'][100]))"
   ]
  },
  {
   "cell_type": "code",
   "execution_count": 12,
   "id": "ff08a89e",
   "metadata": {},
   "outputs": [
    {
     "name": "stdout",
     "output_type": "stream",
     "text": [
      "[ 1.14151417e-05-4.36109121e-06j  1.13104134e-05-4.99916769e-06j\n",
      "  1.11716581e-05-5.67118514e-06j  1.09873472e-05-6.37486755e-06j\n",
      "  1.07464039e-05-7.10507175e-06j  1.04388646e-05-7.85394786e-06j\n",
      "  1.00564839e-05-8.61123954e-06j  9.59326280e-06-9.36472679e-06j\n",
      "  9.04586159e-06-1.01007672e-05j  8.41387282e-06-1.08049298e-05j\n",
      "  7.69995040e-06-1.14626673e-05j  6.90977913e-06-1.20600052e-05j\n",
      "  6.05189052e-06-1.25842089e-05j  5.13732675e-06-1.30243880e-05j\n",
      "  4.17918318e-06-1.33720132e-05j  3.19203900e-06-1.36213148e-05j\n",
      "  2.19131471e-06-1.37695433e-05j  1.19258925e-06-1.38170753e-05j\n",
      "  2.10908027e-07-1.37673669e-05j -7.39877976e-07-1.36267463e-05j\n",
      " -1.64770893e-06-1.34040656e-05j -2.50281732e-06-1.31102279e-05j\n",
      " -3.29810814e-06-1.27576113e-05j -4.02939668e-06-1.23594264e-05j\n",
      " -4.69549514e-06-1.19290335e-05j -5.29813951e-06-1.14792647e-05j\n",
      " -5.84176632e-06-1.10217779e-05j -6.33314448e-06-1.05664840e-05j\n",
      " -6.78089191e-06-1.01210744e-05j -7.19489299e-06-9.69066787e-06j\n",
      " -7.58565420e-06-9.27761084e-06j -7.96363111e-06-8.88142313e-06j\n",
      " -8.33856484e-06-8.49890512e-06j -8.71885459e-06-8.12439157e-06j\n",
      " -9.11101597e-06-7.75014814e-06j -9.51923721e-06-7.36687571e-06j\n",
      " -9.94506809e-06-6.96431107e-06j -1.03872544e-05-6.53187772e-06j\n",
      " -1.08417298e-05-6.05936111e-06j -1.13017559e-05-5.53756945e-06j\n",
      " -1.17582258e-05-4.95894210e-06j -1.22000811e-05-4.31807575e-06j\n",
      " -1.26148598e-05-3.61214165e-06j -1.29893097e-05-2.84116686e-06j\n",
      " -1.33100630e-05-2.00816589e-06j -1.35643195e-05-1.11911800e-06j\n",
      " -1.37405095e-05-1.82786522e-07j -1.38288988e-05+7.89607157e-07j\n",
      " -1.38221067e-05+1.78484061e-06j -1.37155066e-05+2.78825269e-06j\n",
      " -1.35074870e-05+3.78438449e-06j -1.31995657e-05+4.75766183e-06j\n",
      " -1.27963385e-05+5.69308668e-06j -1.23052841e-05+6.57690180e-06j\n",
      " -1.17364107e-05+7.39718735e-06j -1.11017880e-05+8.14437226e-06j\n",
      " -1.04149713e-05+8.81161304e-06j -9.69035409e-06+9.39504571e-06j\n",
      " -8.94248751e-06+9.89386990e-06j -8.18538956e-06+1.03102893e-05j\n",
      " -7.43190139e-06+1.06492889e-05j -6.69309748e-06+1.09182747e-05j\n",
      " -5.97780945e-06+1.11265890e-05j -5.29226054e-06+1.12849320e-05j]\n"
     ]
    }
   ],
   "source": [
    "print(channel[10000][0][0])"
   ]
  },
  {
   "cell_type": "code",
   "execution_count": 13,
   "id": "f65feb3b",
   "metadata": {},
   "outputs": [
    {
     "name": "stdout",
     "output_type": "stream",
     "text": [
      "[0.+0.j 0.+0.j 0.+0.j 0.+0.j 0.+0.j 0.+0.j 0.+0.j 0.+0.j 0.+0.j 0.+0.j\n",
      " 0.+0.j 0.+0.j 0.+0.j 0.+0.j 0.+0.j 0.+0.j 0.+0.j 0.+0.j 0.+0.j 0.+0.j\n",
      " 0.+0.j 0.+0.j 0.+0.j 0.+0.j 0.+0.j 0.+0.j 0.+0.j 0.+0.j 0.+0.j 0.+0.j\n",
      " 0.+0.j 0.+0.j 0.+0.j 0.+0.j 0.+0.j 0.+0.j 0.+0.j 0.+0.j 0.+0.j 0.+0.j\n",
      " 0.+0.j 0.+0.j 0.+0.j 0.+0.j 0.+0.j 0.+0.j 0.+0.j 0.+0.j 0.+0.j 0.+0.j\n",
      " 0.+0.j 0.+0.j 0.+0.j 0.+0.j 0.+0.j 0.+0.j 0.+0.j 0.+0.j 0.+0.j 0.+0.j\n",
      " 0.+0.j 0.+0.j 0.+0.j 0.+0.j]\n"
     ]
    }
   ],
   "source": [
    "print(channel[1][0][0])"
   ]
  },
  {
   "cell_type": "markdown",
   "id": "2b079846",
   "metadata": {},
   "source": [
    "# 사용자 위치 정보"
   ]
  },
  {
   "cell_type": "code",
   "execution_count": 14,
   "id": "84337e94",
   "metadata": {},
   "outputs": [
    {
     "name": "stdout",
     "output_type": "stream",
     "text": [
      "(69040, 3)\n",
      "[[-91.03330231 -15.57629967   1.        ]\n",
      " [-90.83329773 -15.57629967   1.        ]\n",
      " [-90.63330078 -15.57629967   1.        ]\n",
      " [-90.4332962  -15.57629967   1.        ]]\n"
     ]
    }
   ],
   "source": [
    "location = dataset[0][0]['user']['location']\n",
    "print(location.shape)      # (사용자 수, 3)\n",
    "print(location[0:4])         # 첫 번째 사용자의 (x, y, z)"
   ]
  },
  {
   "cell_type": "markdown",
   "id": "60e9a9b6",
   "metadata": {},
   "source": [
    "# 경로정보"
   ]
  },
  {
   "cell_type": "code",
   "execution_count": 15,
   "id": "79cde8ee",
   "metadata": {},
   "outputs": [
    {
     "name": "stdout",
     "output_type": "stream",
     "text": [
      "69040\n",
      "{'num_paths': 0, 'DoD_phi': [], 'DoD_theta': [], 'DoA_phi': [], 'DoA_theta': [], 'phase': [], 'ToA': [], 'power': [], 'LoS': []}\n"
     ]
    }
   ],
   "source": [
    "paths = dataset[0][0]['user']['paths']\n",
    "#사용자 수\n",
    "print(len(paths))\n",
    "# 첫 번째 사용자 경로 정보\n",
    "print(paths[0])"
   ]
  },
  {
   "cell_type": "markdown",
   "id": "f2242869",
   "metadata": {},
   "source": [
    "# 기지국 정보"
   ]
  },
  {
   "cell_type": "code",
   "execution_count": 16,
   "id": "2900e481",
   "metadata": {},
   "outputs": [
    {
     "name": "stdout",
     "output_type": "stream",
     "text": [
      "dict_keys(['paths', 'LoS', 'location', 'distance', 'pathloss', 'channel'])\n"
     ]
    }
   ],
   "source": [
    "bs_data = dataset[0][0]['basestation']\n",
    "print(bs_data.keys())\n"
   ]
  },
  {
   "cell_type": "markdown",
   "id": "c063ea95",
   "metadata": {},
   "source": [
    "# Scene 및 사용자 수"
   ]
  },
  {
   "cell_type": "code",
   "execution_count": 22,
   "id": "a20df92d",
   "metadata": {},
   "outputs": [
    {
     "name": "stdout",
     "output_type": "stream",
     "text": [
      "Scene 0: 69040 users\n"
     ]
    }
   ],
   "source": [
    "for i, scene in enumerate(dataset[0]):\n",
    "    user_locs = scene['user']['location']\n",
    "    print(f\"Scene {i}: {len(user_locs)} users\")"
   ]
  },
  {
   "cell_type": "markdown",
   "id": "b38f71e1",
   "metadata": {},
   "source": [
    "# 채널 수"
   ]
  },
  {
   "cell_type": "code",
   "execution_count": 23,
   "id": "cbbee52e",
   "metadata": {},
   "outputs": [
    {
     "data": {
      "text/plain": [
       "69040"
      ]
     },
     "execution_count": 23,
     "metadata": {},
     "output_type": "execute_result"
    }
   ],
   "source": [
    "len(dataset[0][0]['user']['channel'])"
   ]
  },
  {
   "cell_type": "code",
   "execution_count": 24,
   "id": "2d474195",
   "metadata": {},
   "outputs": [
    {
     "name": "stdout",
     "output_type": "stream",
     "text": [
      "{'num_paths': 0, 'DoD_phi': [], 'DoD_theta': [], 'DoA_phi': [], 'DoA_theta': [], 'phase': [], 'ToA': [], 'power': [], 'LoS': []}\n"
     ]
    }
   ],
   "source": [
    "print(dataset[0][0]['user']['paths'][0])"
   ]
  },
  {
   "cell_type": "code",
   "execution_count": 25,
   "id": "73df9912",
   "metadata": {},
   "outputs": [
    {
     "name": "stdout",
     "output_type": "stream",
     "text": [
      "(1, 32, 64)\n"
     ]
    }
   ],
   "source": [
    "scene = dataset[0][0] # scene 0\n",
    "ue_idx = 0 # 첫 번째 사용자\n",
    "channel = scene['user']['channel'][ue_idx]\n",
    "print(channel.shape)"
   ]
  },
  {
   "cell_type": "markdown",
   "id": "373ffb59",
   "metadata": {},
   "source": [
    "# channel CIR mat 정보 가져오기"
   ]
  },
  {
   "cell_type": "code",
   "execution_count": 26,
   "id": "ec4461cb",
   "metadata": {},
   "outputs": [
    {
     "name": "stdout",
     "output_type": "stream",
     "text": [
      "dict_keys(['__header__', '__version__', '__globals__', 'CIR_array_full'])\n"
     ]
    }
   ],
   "source": [
    "import scipy.io as sio\n",
    "\n",
    "file_path = r'C:\\Users\\dlghd\\졸업프로젝트\\LWM\\O2_dyn_3p5\\scene_0\\O2_dyn_3p5.1.CIR.mat'\n",
    "mat_data = sio.loadmat(file_path)\n",
    "\n",
    "# 파일 안의 key 확인\n",
    "print(mat_data.keys())\n",
    "\n",
    "\n"
   ]
  },
  {
   "cell_type": "code",
   "execution_count": 27,
   "id": "662cb441",
   "metadata": {},
   "outputs": [
    {
     "name": "stdout",
     "output_type": "stream",
     "text": [
      "b'MATLAB 5.0 MAT-file, Platform: PCWIN64, Created on: Wed Jun 30 11:33:01 2021'\n"
     ]
    }
   ],
   "source": [
    "# 일반적으로 CIR key는 'CIR' 또는 'cir' 같은 이름일 가능성 높음\n",
    "H_cir = mat_data['__header__']  \n",
    "print(H_cir)"
   ]
  },
  {
   "cell_type": "markdown",
   "id": "88f3d7c7",
   "metadata": {},
   "source": [
    "# Time-Prediction 시작\n",
    "## Time Series 형태로 변환\n",
    "### 단일사용자 채널 예측"
   ]
  },
  {
   "cell_type": "code",
   "execution_count": 28,
   "id": "4f36971f",
   "metadata": {},
   "outputs": [
    {
     "name": "stdout",
     "output_type": "stream",
     "text": [
      "0이 존재하는 채널 개수 0\n"
     ]
    }
   ],
   "source": [
    "# print(dataset[0][0]['user']['channel'][150][0][3])\n",
    "\n",
    "count = 0\n",
    "for h in dataset[0][0]['user']['channel'][100][0]:\n",
    "#     h = h.squeeze(0)\n",
    "    h_real = h.real\n",
    "    h_imag = h.imag\n",
    "    if np.sum(np.abs(h_real)) ==0:\n",
    "        count+=1\n",
    "    elif np.sum(np.abs(h_imag)) == 0:\n",
    "        count+=1\n",
    "\n",
    "print(\"0이 존재하는 채널 개수\",count)"
   ]
  },
  {
   "cell_type": "code",
   "execution_count": 29,
   "id": "7575de2b",
   "metadata": {},
   "outputs": [
    {
     "name": "stdout",
     "output_type": "stream",
     "text": [
      "Antenna #3 subcarriers: [-3.7481711e-06+3.7276918e-06j -3.1033380e-06+4.2799297e-06j\n",
      " -2.3783671e-06+4.7218546e-06j -1.5919456e-06+5.0420513e-06j\n",
      " -7.6434952e-07+5.2322434e-06j  8.3081005e-08+5.2875071e-06j\n",
      "  9.2849081e-07+5.2063970e-06j  1.7500737e-06+4.9909859e-06j\n",
      "  2.5266352e-06+4.6468099e-06j  3.2381383e-06+4.1827284e-06j\n",
      "  3.8662224e-06+3.6106942e-06j  4.3946743e-06+2.9454461e-06j\n",
      "  4.8098500e-06+2.2041299e-06j  5.1010238e-06+1.4058554e-06j\n",
      "  5.2606679e-06+5.7120445e-07j  5.2846453e-06-2.7829972e-07j\n",
      "  5.1723187e-06-1.1207479e-06j  4.9265650e-06-1.9344095e-06j\n",
      "  4.5537045e-06-2.6982937e-06j  4.0633354e-06-3.3926899e-06j\n",
      "  3.4680893e-06-3.9996776e-06j  2.7833046e-06-4.5035881e-06j\n",
      "  2.0266314e-06-4.8914089e-06j  1.2175759e-06-5.1531201e-06j\n",
      "  3.7699922e-07-5.2819537e-06j -4.7342218e-07-5.2745672e-06j\n",
      " -1.3117545e-06-5.1311317e-06j -2.1163728e-06-4.8553270e-06j\n",
      " -2.8665186e-06-4.4542485e-06j -3.5428352e-06-3.9382230e-06j\n",
      " -4.1278677e-06-3.3205442e-06j -4.6065129e-06-2.6171292e-06j\n",
      " -4.9664100e-06-1.8461093e-06j -5.1982593e-06-1.0273618e-06j\n",
      " -5.2960613e-06-1.8199796e-07j -5.2572755e-06+6.6818120e-07j\n",
      " -5.0828817e-06+1.5012477e-06j -4.7773592e-06+2.2957113e-06j\n",
      " -4.3485697e-06+3.0310748e-06j -3.8075548e-06+3.6883623e-06j\n",
      " -3.1682537e-06+4.2506094e-06j -2.4471415e-06+4.7032995e-06j\n",
      " -1.6628065e-06+5.0347412e-06j -8.3547025e-07+5.2363685e-06j\n",
      "  1.3533687e-08+5.3029612e-06j  8.6230989e-07+5.2327832e-06j\n",
      "  1.6889655e-06+5.0276249e-06j  2.4721755e-06+4.6927585e-06j\n",
      "  3.1917318e-06+4.2368029e-06j  3.8290659e-06+3.6715010e-06j\n",
      "  4.3677264e-06+3.0114188e-06j  4.7938065e-06+2.2735683e-06j\n",
      "  5.0962994e-06+1.4769696e-06j  5.2673859e-06+6.4216152e-07j\n",
      "  5.3026333e-06-2.0932896e-07j  5.2011137e-06-1.0555416e-06j\n",
      "  4.9654259e-06-1.8746490e-06j  4.6016303e-06-2.6455198e-06j\n",
      "  4.1190920e-06-3.3482638e-06j  3.5302398e-06-3.9647457e-06j\n",
      "  2.8502477e-06-4.4790513e-06j  2.0966418e-06-4.8779011e-06j\n",
      "  1.2888491e-06-5.1509905e-06j  4.4769803e-07-5.2912578e-06j]\n",
      "0+0j인 서브캐리어 개수: 0\n",
      "완전 0+0j 안테나 포트 개수: 0\n",
      "0이 아닌 서브캐리어 개수: 2048\n"
     ]
    }
   ],
   "source": [
    "import numpy as np\n",
    "\n",
    "# 1) (user, ue_port, bs_ant, subc) → (bs_ant, subc) 로 squeeze\n",
    "H = dataset[0][0]['user']['channel'][100, 0]   # shape: (32, 64), complex\n",
    "\n",
    "# 2) BS 안테나 인덱스 3의 서브캐리어 벡터 (64,)\n",
    "print(\"Antenna #3 subcarriers:\", H[3])\n",
    "\n",
    "# 3) 전체 서브캐리어(32×64) 중 값이 정확히 0인 요소 개수\n",
    "zero_elements = np.sum(H == 0)\n",
    "print(\"0+0j인 서브캐리어 개수:\", zero_elements)\n",
    "\n",
    "# 4) 서브캐리어 전부가 0인 안테나 포트(행) 개수\n",
    "zero_ports = np.sum(np.all(H == 0, axis=1))\n",
    "print(\"완전 0+0j 안테나 포트 개수:\", zero_ports)\n",
    "\n",
    "# 5) 만약 “값이 하나도 0이 아닌” 서브캐리어 요소 개수를 보고 싶다면\n",
    "nonzero_elements = np.sum(np.abs(H) > 0)\n",
    "print(\"0이 아닌 서브캐리어 개수:\", nonzero_elements)\n"
   ]
  },
  {
   "cell_type": "code",
   "execution_count": 30,
   "id": "218e061b",
   "metadata": {},
   "outputs": [
    {
     "name": "stdout",
     "output_type": "stream",
     "text": [
      "0.0\n"
     ]
    }
   ],
   "source": [
    "# 결측치 제거 예시 코드\n",
    "import numpy as np\n",
    "print(np.real_if_close(sum(dataset[0][0]['user']['channel'][1][0][0])))\n"
   ]
  },
  {
   "cell_type": "code",
   "execution_count": 31,
   "id": "10886b3c",
   "metadata": {},
   "outputs": [],
   "source": [
    "ex = dataset[0][0]['user']['channel'].squeeze(1)"
   ]
  },
  {
   "cell_type": "code",
   "execution_count": 32,
   "id": "260a7698",
   "metadata": {},
   "outputs": [
    {
     "data": {
      "text/plain": [
       "(69040, 32, 64)"
      ]
     },
     "execution_count": 32,
     "metadata": {},
     "output_type": "execute_result"
    }
   ],
   "source": [
    "ex.shape"
   ]
  },
  {
   "cell_type": "code",
   "execution_count": 33,
   "id": "fe7bf3ba",
   "metadata": {},
   "outputs": [
    {
     "data": {
      "text/plain": [
       "0j"
      ]
     },
     "execution_count": 33,
     "metadata": {},
     "output_type": "execute_result"
    }
   ],
   "source": [
    "ex[10][31][63]"
   ]
  },
  {
   "cell_type": "code",
   "execution_count": 34,
   "id": "29f22fb9",
   "metadata": {},
   "outputs": [
    {
     "name": "stdout",
     "output_type": "stream",
     "text": [
      "[[0.+0.j 0.+0.j 0.+0.j ... 0.+0.j 0.+0.j 0.+0.j]\n",
      " [0.+0.j 0.+0.j 0.+0.j ... 0.+0.j 0.+0.j 0.+0.j]\n",
      " [0.+0.j 0.+0.j 0.+0.j ... 0.+0.j 0.+0.j 0.+0.j]\n",
      " ...\n",
      " [0.+0.j 0.+0.j 0.+0.j ... 0.+0.j 0.+0.j 0.+0.j]\n",
      " [0.+0.j 0.+0.j 0.+0.j ... 0.+0.j 0.+0.j 0.+0.j]\n",
      " [0.+0.j 0.+0.j 0.+0.j ... 0.+0.j 0.+0.j 0.+0.j]]\n"
     ]
    }
   ],
   "source": [
    "ex1 = np.nan_to_num(ex, nan=0.0)\n",
    "print(ex1[0])"
   ]
  },
  {
   "cell_type": "markdown",
   "id": "a20a73af",
   "metadata": {},
   "source": [
    "## 결측치 제거 및 dataload"
   ]
  },
  {
   "cell_type": "code",
   "execution_count": 50,
   "id": "1f97d362",
   "metadata": {},
   "outputs": [],
   "source": [
    "from torch.utils.data import Dataset, DataLoader\n",
    "\n",
    "class ChannelDataset(Dataset):\n",
    "    def __init__(self, dataset):\n",
    "        self.dataset = dataset\n",
    "    \n",
    "    def __len__(self):\n",
    "        return len(self.dataset)\n",
    "    \n",
    "    def __getitem__(self,idx):\n",
    "        scene = self.dataset[idx]\n",
    "        H = scene[0]['user']['channel'].squeeze(1)\n",
    "        \n",
    "        mask_valid_sc = ~np.all(H == 0+0j, axis=(0,1))\n",
    "        \n",
    "        H = H[:,:,mask_valid_sc]\n",
    "        \n",
    "        H_real = H.real\n",
    "        H_imag = H.imag\n",
    "        H_concat  = np.concatenate([H_real, H_imag], 1)\n",
    "        H_sc_first = H_concat.transpose(0,2,1)\n",
    "        \n",
    "        return torch.from_numpy(H_sc_first.astype(np.float32))   \n",
    "            \n",
    "            "
   ]
  },
  {
   "cell_type": "code",
   "execution_count": 51,
   "id": "a4d678fd",
   "metadata": {},
   "outputs": [
    {
     "data": {
      "text/plain": [
       "[{'user': {'paths': array([{'num_paths': 0, 'DoD_phi': [], 'DoD_theta': [], 'DoA_phi': [], 'DoA_theta': [], 'phase': [], 'ToA': [], 'power': [], 'LoS': []},\n",
       "          {'num_paths': 0, 'DoD_phi': [], 'DoD_theta': [], 'DoA_phi': [], 'DoA_theta': [], 'phase': [], 'ToA': [], 'power': [], 'LoS': []},\n",
       "          {'num_paths': 0, 'DoD_phi': [], 'DoD_theta': [], 'DoA_phi': [], 'DoA_theta': [], 'phase': [], 'ToA': [], 'power': [], 'LoS': []},\n",
       "          ...,\n",
       "          {'num_paths': 0, 'DoD_phi': [], 'DoD_theta': [], 'DoA_phi': [], 'DoA_theta': [], 'phase': [], 'ToA': [], 'power': [], 'LoS': []},\n",
       "          {'num_paths': 0, 'DoD_phi': [], 'DoD_theta': [], 'DoA_phi': [], 'DoA_theta': [], 'phase': [], 'ToA': [], 'power': [], 'LoS': []},\n",
       "          {'num_paths': 0, 'DoD_phi': [], 'DoD_theta': [], 'DoA_phi': [], 'DoA_theta': [], 'phase': [], 'ToA': [], 'power': [], 'LoS': []}],\n",
       "         dtype=object),\n",
       "   'LoS': array([-1, -1, -1, ..., -1, -1, -1], dtype=int8),\n",
       "   'location': array([[-91.03330231, -15.57629967,   1.        ],\n",
       "          [-90.83329773, -15.57629967,   1.        ],\n",
       "          [-90.63330078, -15.57629967,   1.        ],\n",
       "          ...,\n",
       "          [222.25999451, -54.89479828,   1.        ],\n",
       "          [222.46000671, -54.89479828,   1.        ],\n",
       "          [222.66000366, -54.89479828,   1.        ]]),\n",
       "   'distance': array([ 97.57769775,  97.38500214,  97.19229889, ..., 228.71699524,\n",
       "          228.90899658, 229.1000061 ]),\n",
       "   'pathloss': array([0., 0., 0., ..., 0., 0., 0.]),\n",
       "   'channel': array([[[[0.+0.j, 0.+0.j, 0.+0.j, ..., 0.+0.j, 0.+0.j, 0.+0.j],\n",
       "            [0.+0.j, 0.+0.j, 0.+0.j, ..., 0.+0.j, 0.+0.j, 0.+0.j],\n",
       "            [0.+0.j, 0.+0.j, 0.+0.j, ..., 0.+0.j, 0.+0.j, 0.+0.j],\n",
       "            ...,\n",
       "            [0.+0.j, 0.+0.j, 0.+0.j, ..., 0.+0.j, 0.+0.j, 0.+0.j],\n",
       "            [0.+0.j, 0.+0.j, 0.+0.j, ..., 0.+0.j, 0.+0.j, 0.+0.j],\n",
       "            [0.+0.j, 0.+0.j, 0.+0.j, ..., 0.+0.j, 0.+0.j, 0.+0.j]]],\n",
       "   \n",
       "   \n",
       "          [[[0.+0.j, 0.+0.j, 0.+0.j, ..., 0.+0.j, 0.+0.j, 0.+0.j],\n",
       "            [0.+0.j, 0.+0.j, 0.+0.j, ..., 0.+0.j, 0.+0.j, 0.+0.j],\n",
       "            [0.+0.j, 0.+0.j, 0.+0.j, ..., 0.+0.j, 0.+0.j, 0.+0.j],\n",
       "            ...,\n",
       "            [0.+0.j, 0.+0.j, 0.+0.j, ..., 0.+0.j, 0.+0.j, 0.+0.j],\n",
       "            [0.+0.j, 0.+0.j, 0.+0.j, ..., 0.+0.j, 0.+0.j, 0.+0.j],\n",
       "            [0.+0.j, 0.+0.j, 0.+0.j, ..., 0.+0.j, 0.+0.j, 0.+0.j]]],\n",
       "   \n",
       "   \n",
       "          [[[0.+0.j, 0.+0.j, 0.+0.j, ..., 0.+0.j, 0.+0.j, 0.+0.j],\n",
       "            [0.+0.j, 0.+0.j, 0.+0.j, ..., 0.+0.j, 0.+0.j, 0.+0.j],\n",
       "            [0.+0.j, 0.+0.j, 0.+0.j, ..., 0.+0.j, 0.+0.j, 0.+0.j],\n",
       "            ...,\n",
       "            [0.+0.j, 0.+0.j, 0.+0.j, ..., 0.+0.j, 0.+0.j, 0.+0.j],\n",
       "            [0.+0.j, 0.+0.j, 0.+0.j, ..., 0.+0.j, 0.+0.j, 0.+0.j],\n",
       "            [0.+0.j, 0.+0.j, 0.+0.j, ..., 0.+0.j, 0.+0.j, 0.+0.j]]],\n",
       "   \n",
       "   \n",
       "          ...,\n",
       "   \n",
       "   \n",
       "          [[[0.+0.j, 0.+0.j, 0.+0.j, ..., 0.+0.j, 0.+0.j, 0.+0.j],\n",
       "            [0.+0.j, 0.+0.j, 0.+0.j, ..., 0.+0.j, 0.+0.j, 0.+0.j],\n",
       "            [0.+0.j, 0.+0.j, 0.+0.j, ..., 0.+0.j, 0.+0.j, 0.+0.j],\n",
       "            ...,\n",
       "            [0.+0.j, 0.+0.j, 0.+0.j, ..., 0.+0.j, 0.+0.j, 0.+0.j],\n",
       "            [0.+0.j, 0.+0.j, 0.+0.j, ..., 0.+0.j, 0.+0.j, 0.+0.j],\n",
       "            [0.+0.j, 0.+0.j, 0.+0.j, ..., 0.+0.j, 0.+0.j, 0.+0.j]]],\n",
       "   \n",
       "   \n",
       "          [[[0.+0.j, 0.+0.j, 0.+0.j, ..., 0.+0.j, 0.+0.j, 0.+0.j],\n",
       "            [0.+0.j, 0.+0.j, 0.+0.j, ..., 0.+0.j, 0.+0.j, 0.+0.j],\n",
       "            [0.+0.j, 0.+0.j, 0.+0.j, ..., 0.+0.j, 0.+0.j, 0.+0.j],\n",
       "            ...,\n",
       "            [0.+0.j, 0.+0.j, 0.+0.j, ..., 0.+0.j, 0.+0.j, 0.+0.j],\n",
       "            [0.+0.j, 0.+0.j, 0.+0.j, ..., 0.+0.j, 0.+0.j, 0.+0.j],\n",
       "            [0.+0.j, 0.+0.j, 0.+0.j, ..., 0.+0.j, 0.+0.j, 0.+0.j]]],\n",
       "   \n",
       "   \n",
       "          [[[0.+0.j, 0.+0.j, 0.+0.j, ..., 0.+0.j, 0.+0.j, 0.+0.j],\n",
       "            [0.+0.j, 0.+0.j, 0.+0.j, ..., 0.+0.j, 0.+0.j, 0.+0.j],\n",
       "            [0.+0.j, 0.+0.j, 0.+0.j, ..., 0.+0.j, 0.+0.j, 0.+0.j],\n",
       "            ...,\n",
       "            [0.+0.j, 0.+0.j, 0.+0.j, ..., 0.+0.j, 0.+0.j, 0.+0.j],\n",
       "            [0.+0.j, 0.+0.j, 0.+0.j, ..., 0.+0.j, 0.+0.j, 0.+0.j],\n",
       "            [0.+0.j, 0.+0.j, 0.+0.j, ..., 0.+0.j, 0.+0.j, 0.+0.j]]]],\n",
       "         dtype=complex64)},\n",
       "  'basestation': {'paths': array([{'num_paths': 2, 'DoD_phi': array([   0.   , -141.952], dtype=float32), 'DoD_theta': array([180.    ,  89.9997], dtype=float32), 'DoA_phi': array([-180.  , -141.95], dtype=float32), 'DoA_theta': array([180.    ,  89.9997], dtype=float32), 'phase': array([  68.6712, -129.443 ], dtype=float32), 'ToA': array([3.83724e-08, 3.63243e-07], dtype=float32), 'LoS': array([0., 0.], dtype=float32), 'power': array([5.4408858e-08, 2.8096997e-10], dtype=float32)}],\n",
       "         dtype=object),\n",
       "   'LoS': [0.0],\n",
       "   'location': array([[ 3., 10.,  6.]]),\n",
       "   'distance': array([0.]),\n",
       "   'pathloss': array([73.25530243]),\n",
       "   'channel': [array([[[ 3.27880882e-06+9.03047146e-06j,\n",
       "              3.38902836e-06+9.05771773e-06j,\n",
       "              3.52600751e-06+9.10214646e-06j, ...,\n",
       "              9.28594190e-06-2.31882918e-06j,\n",
       "              9.26814511e-06-2.39473446e-06j,\n",
       "              9.27899575e-06-2.48241610e-06j],\n",
       "            [-4.22006268e-06-1.01746392e-05j,\n",
       "             -4.55990916e-06-9.96552678e-06j,\n",
       "             -4.86858996e-06-9.72868608e-06j, ...,\n",
       "             -1.07515196e-05+2.53599163e-06j,\n",
       "             -1.06494687e-05+2.93048000e-06j,\n",
       "             -1.05077289e-05+3.31024060e-06j],\n",
       "            [ 3.27882920e-06+9.03045542e-06j,\n",
       "              3.38904486e-06+9.05769790e-06j,\n",
       "              3.52601939e-06+9.10212379e-06j, ...,\n",
       "              9.28593792e-06-2.31885488e-06j,\n",
       "              9.26813589e-06-2.39475878e-06j,\n",
       "              9.27898172e-06-2.48243791e-06j],\n",
       "            ...,\n",
       "            [-4.21982438e-06-1.01748453e-05j,\n",
       "             -4.55972469e-06-9.96578487e-06j,\n",
       "             -4.86846960e-06-9.72898291e-06j, ...,\n",
       "             -1.07515633e-05+2.53568085e-06j,\n",
       "             -1.06495846e-05+2.93018834e-06j,\n",
       "             -1.05079111e-05+3.30998367e-06j],\n",
       "            [ 3.27911451e-06+9.03023098e-06j,\n",
       "              3.38927589e-06+9.05742036e-06j,\n",
       "              3.52618585e-06+9.10180640e-06j, ...,\n",
       "              9.28588238e-06-2.31921470e-06j,\n",
       "              9.26800688e-06-2.39509920e-06j,\n",
       "              9.27878532e-06-2.48274327e-06j],\n",
       "            [-4.21980736e-06-1.01748600e-05j,\n",
       "             -4.55971151e-06-9.96580330e-06j,\n",
       "             -4.86846100e-06-9.72900412e-06j, ...,\n",
       "             -1.07515664e-05+2.53565866e-06j,\n",
       "             -1.06495929e-05+2.93016751e-06j,\n",
       "             -1.05079242e-05+3.30996531e-06j]],\n",
       "    \n",
       "           [[-4.22006268e-06-1.01746392e-05j,\n",
       "             -4.55990916e-06-9.96552678e-06j,\n",
       "             -4.86858996e-06-9.72868608e-06j, ...,\n",
       "             -1.07515196e-05+2.53599163e-06j,\n",
       "             -1.06494687e-05+2.93048000e-06j,\n",
       "             -1.05077289e-05+3.31024060e-06j],\n",
       "            [ 3.27882920e-06+9.03045542e-06j,\n",
       "              3.38904486e-06+9.05769790e-06j,\n",
       "              3.52601939e-06+9.10212379e-06j, ...,\n",
       "              9.28593792e-06-2.31885488e-06j,\n",
       "              9.26813589e-06-2.39475878e-06j,\n",
       "              9.27898172e-06-2.48243791e-06j],\n",
       "            [-4.22004567e-06-1.01746539e-05j,\n",
       "             -4.55989598e-06-9.96554522e-06j,\n",
       "             -4.86858137e-06-9.72870728e-06j, ...,\n",
       "             -1.07515227e-05+2.53596943e-06j,\n",
       "             -1.06494770e-05+2.93045917e-06j,\n",
       "             -1.05077419e-05+3.31022225e-06j],\n",
       "            ...,\n",
       "            [ 3.27911451e-06+9.03023098e-06j,\n",
       "              3.38927589e-06+9.05742036e-06j,\n",
       "              3.52618585e-06+9.10180640e-06j, ...,\n",
       "              9.28588238e-06-2.31921470e-06j,\n",
       "              9.26800688e-06-2.39509920e-06j,\n",
       "              9.27878532e-06-2.48274327e-06j],\n",
       "            [-4.21980736e-06-1.01748600e-05j,\n",
       "             -4.55971151e-06-9.96580330e-06j,\n",
       "             -4.86846100e-06-9.72900412e-06j, ...,\n",
       "             -1.07515664e-05+2.53565866e-06j,\n",
       "             -1.06495929e-05+2.93016751e-06j,\n",
       "             -1.05079242e-05+3.30996531e-06j],\n",
       "            [ 3.27913490e-06+9.03021495e-06j,\n",
       "              3.38929240e-06+9.05740054e-06j,\n",
       "              3.52619775e-06+9.10178373e-06j, ...,\n",
       "              9.28587842e-06-2.31924040e-06j,\n",
       "              9.26799767e-06-2.39512351e-06j,\n",
       "              9.27877129e-06-2.48276509e-06j]],\n",
       "    \n",
       "           [[ 3.27882920e-06+9.03045542e-06j,\n",
       "              3.38904486e-06+9.05769790e-06j,\n",
       "              3.52601939e-06+9.10212379e-06j, ...,\n",
       "              9.28593792e-06-2.31885488e-06j,\n",
       "              9.26813589e-06-2.39475878e-06j,\n",
       "              9.27898172e-06-2.48243791e-06j],\n",
       "            [-4.22004567e-06-1.01746539e-05j,\n",
       "             -4.55989598e-06-9.96554522e-06j,\n",
       "             -4.86858137e-06-9.72870728e-06j, ...,\n",
       "             -1.07515227e-05+2.53596943e-06j,\n",
       "             -1.06494770e-05+2.93045917e-06j,\n",
       "             -1.05077419e-05+3.31022225e-06j],\n",
       "            [ 3.27884957e-06+9.03043939e-06j,\n",
       "              3.38906136e-06+9.05767808e-06j,\n",
       "              3.52603128e-06+9.10210111e-06j, ...,\n",
       "              9.28593395e-06-2.31888058e-06j,\n",
       "              9.26812667e-06-2.39478309e-06j,\n",
       "              9.27896769e-06-2.48245972e-06j],\n",
       "            ...,\n",
       "            [-4.21980736e-06-1.01748600e-05j,\n",
       "             -4.55971151e-06-9.96580330e-06j,\n",
       "             -4.86846100e-06-9.72900412e-06j, ...,\n",
       "             -1.07515664e-05+2.53565866e-06j,\n",
       "             -1.06495929e-05+2.93016751e-06j,\n",
       "             -1.05079242e-05+3.30996531e-06j],\n",
       "            [ 3.27913490e-06+9.03021495e-06j,\n",
       "              3.38929240e-06+9.05740054e-06j,\n",
       "              3.52619775e-06+9.10178373e-06j, ...,\n",
       "              9.28587842e-06-2.31924040e-06j,\n",
       "              9.26799767e-06-2.39512351e-06j,\n",
       "              9.27877129e-06-2.48276509e-06j],\n",
       "            [-4.21979033e-06-1.01748747e-05j,\n",
       "             -4.55969833e-06-9.96582173e-06j,\n",
       "             -4.86845239e-06-9.72902532e-06j, ...,\n",
       "             -1.07515695e-05+2.53563646e-06j,\n",
       "             -1.06496012e-05+2.93014667e-06j,\n",
       "             -1.05079372e-05+3.30994695e-06j]],\n",
       "    \n",
       "           ...,\n",
       "    \n",
       "           [[-4.21982438e-06-1.01748453e-05j,\n",
       "             -4.55972469e-06-9.96578487e-06j,\n",
       "             -4.86846960e-06-9.72898291e-06j, ...,\n",
       "             -1.07515633e-05+2.53568085e-06j,\n",
       "             -1.06495846e-05+2.93018834e-06j,\n",
       "             -1.05079111e-05+3.30998367e-06j],\n",
       "            [ 3.27911451e-06+9.03023098e-06j,\n",
       "              3.38927589e-06+9.05742036e-06j,\n",
       "              3.52618585e-06+9.10180640e-06j, ...,\n",
       "              9.28588238e-06-2.31921470e-06j,\n",
       "              9.26800688e-06-2.39509920e-06j,\n",
       "              9.27878532e-06-2.48274327e-06j],\n",
       "            [-4.21980736e-06-1.01748600e-05j,\n",
       "             -4.55971151e-06-9.96580330e-06j,\n",
       "             -4.86846100e-06-9.72900412e-06j, ...,\n",
       "             -1.07515664e-05+2.53565866e-06j,\n",
       "             -1.06495929e-05+2.93016751e-06j,\n",
       "             -1.05079242e-05+3.30996531e-06j],\n",
       "            ...,\n",
       "            [ 3.27939993e-06+9.03000665e-06j,\n",
       "              3.38950705e-06+9.05714291e-06j,\n",
       "              3.52635246e-06+9.10148908e-06j, ...,\n",
       "              9.28582700e-06-2.31957454e-06j,\n",
       "              9.26787803e-06-2.39543967e-06j,\n",
       "              9.27858904e-06-2.48304873e-06j],\n",
       "            [-4.21956895e-06-1.01750660e-05j,\n",
       "             -4.55952692e-06-9.96606129e-06j,\n",
       "             -4.86834048e-06-9.72930088e-06j, ...,\n",
       "             -1.07516099e-05+2.53534786e-06j,\n",
       "             -1.06497087e-05+2.92987578e-06j,\n",
       "             -1.05081062e-05+3.30970829e-06j],\n",
       "            [ 3.27942032e-06+9.02999063e-06j,\n",
       "              3.38952357e-06+9.05712310e-06j,\n",
       "              3.52636436e-06+9.10146642e-06j, ...,\n",
       "              9.28582305e-06-2.31960025e-06j,\n",
       "              9.26786883e-06-2.39546399e-06j,\n",
       "              9.27857503e-06-2.48307055e-06j]],\n",
       "    \n",
       "           [[ 3.27911451e-06+9.03023098e-06j,\n",
       "              3.38927589e-06+9.05742036e-06j,\n",
       "              3.52618585e-06+9.10180640e-06j, ...,\n",
       "              9.28588238e-06-2.31921470e-06j,\n",
       "              9.26800688e-06-2.39509920e-06j,\n",
       "              9.27878532e-06-2.48274327e-06j],\n",
       "            [-4.21980736e-06-1.01748600e-05j,\n",
       "             -4.55971151e-06-9.96580330e-06j,\n",
       "             -4.86846100e-06-9.72900412e-06j, ...,\n",
       "             -1.07515664e-05+2.53565866e-06j,\n",
       "             -1.06495929e-05+2.93016751e-06j,\n",
       "             -1.05079242e-05+3.30996531e-06j],\n",
       "            [ 3.27913490e-06+9.03021495e-06j,\n",
       "              3.38929240e-06+9.05740054e-06j,\n",
       "              3.52619775e-06+9.10178373e-06j, ...,\n",
       "              9.28587842e-06-2.31924040e-06j,\n",
       "              9.26799767e-06-2.39512351e-06j,\n",
       "              9.27877129e-06-2.48276509e-06j],\n",
       "            ...,\n",
       "            [-4.21956895e-06-1.01750660e-05j,\n",
       "             -4.55952692e-06-9.96606129e-06j,\n",
       "             -4.86834048e-06-9.72930088e-06j, ...,\n",
       "             -1.07516099e-05+2.53534786e-06j,\n",
       "             -1.06497087e-05+2.92987578e-06j,\n",
       "             -1.05081062e-05+3.30970829e-06j],\n",
       "            [ 3.27942032e-06+9.02999063e-06j,\n",
       "              3.38952357e-06+9.05712310e-06j,\n",
       "              3.52636436e-06+9.10146642e-06j, ...,\n",
       "              9.28582305e-06-2.31960025e-06j,\n",
       "              9.26786883e-06-2.39546399e-06j,\n",
       "              9.27857503e-06-2.48307055e-06j],\n",
       "            [-4.21955192e-06-1.01750807e-05j,\n",
       "             -4.55951373e-06-9.96607971e-06j,\n",
       "             -4.86833187e-06-9.72932208e-06j, ...,\n",
       "             -1.07516130e-05+2.53532566e-06j,\n",
       "             -1.06497170e-05+2.92985494e-06j,\n",
       "             -1.05081192e-05+3.30968993e-06j]],\n",
       "    \n",
       "           [[-4.21980736e-06-1.01748600e-05j,\n",
       "             -4.55971151e-06-9.96580330e-06j,\n",
       "             -4.86846100e-06-9.72900412e-06j, ...,\n",
       "             -1.07515664e-05+2.53565866e-06j,\n",
       "             -1.06495929e-05+2.93016751e-06j,\n",
       "             -1.05079242e-05+3.30996531e-06j],\n",
       "            [ 3.27913490e-06+9.03021495e-06j,\n",
       "              3.38929240e-06+9.05740054e-06j,\n",
       "              3.52619775e-06+9.10178373e-06j, ...,\n",
       "              9.28587842e-06-2.31924040e-06j,\n",
       "              9.26799767e-06-2.39512351e-06j,\n",
       "              9.27877129e-06-2.48276509e-06j],\n",
       "            [-4.21979033e-06-1.01748747e-05j,\n",
       "             -4.55969833e-06-9.96582173e-06j,\n",
       "             -4.86845239e-06-9.72902532e-06j, ...,\n",
       "             -1.07515695e-05+2.53563646e-06j,\n",
       "             -1.06496012e-05+2.93014667e-06j,\n",
       "             -1.05079372e-05+3.30994695e-06j],\n",
       "            ...,\n",
       "            [ 3.27942032e-06+9.02999063e-06j,\n",
       "              3.38952357e-06+9.05712310e-06j,\n",
       "              3.52636436e-06+9.10146642e-06j, ...,\n",
       "              9.28582305e-06-2.31960025e-06j,\n",
       "              9.26786883e-06-2.39546399e-06j,\n",
       "              9.27857503e-06-2.48307055e-06j],\n",
       "            [-4.21955192e-06-1.01750807e-05j,\n",
       "             -4.55951373e-06-9.96607971e-06j,\n",
       "             -4.86833187e-06-9.72932208e-06j, ...,\n",
       "             -1.07516130e-05+2.53532566e-06j,\n",
       "             -1.06497170e-05+2.92985494e-06j,\n",
       "             -1.05081192e-05+3.30968993e-06j],\n",
       "            [ 3.27944071e-06+9.02997461e-06j,\n",
       "              3.38954008e-06+9.05710329e-06j,\n",
       "              3.52637627e-06+9.10144375e-06j, ...,\n",
       "              9.28581910e-06-2.31962595e-06j,\n",
       "              9.26785963e-06-2.39548832e-06j,\n",
       "              9.27856101e-06-2.48309237e-06j]]])]},\n",
       "  'location': array([ 3., 10.,  6.])}]"
      ]
     },
     "execution_count": 51,
     "metadata": {},
     "output_type": "execute_result"
    }
   ],
   "source": [
    "dataset[0]"
   ]
  },
  {
   "cell_type": "code",
   "execution_count": 52,
   "id": "63f48bf7",
   "metadata": {},
   "outputs": [
    {
     "name": "stdout",
     "output_type": "stream",
     "text": [
      "[[[[0.+0.j 0.+0.j 0.+0.j ... 0.+0.j 0.+0.j 0.+0.j]\n",
      "   [0.+0.j 0.+0.j 0.+0.j ... 0.+0.j 0.+0.j 0.+0.j]\n",
      "   [0.+0.j 0.+0.j 0.+0.j ... 0.+0.j 0.+0.j 0.+0.j]\n",
      "   ...\n",
      "   [0.+0.j 0.+0.j 0.+0.j ... 0.+0.j 0.+0.j 0.+0.j]\n",
      "   [0.+0.j 0.+0.j 0.+0.j ... 0.+0.j 0.+0.j 0.+0.j]\n",
      "   [0.+0.j 0.+0.j 0.+0.j ... 0.+0.j 0.+0.j 0.+0.j]]]\n",
      "\n",
      "\n",
      " [[[0.+0.j 0.+0.j 0.+0.j ... 0.+0.j 0.+0.j 0.+0.j]\n",
      "   [0.+0.j 0.+0.j 0.+0.j ... 0.+0.j 0.+0.j 0.+0.j]\n",
      "   [0.+0.j 0.+0.j 0.+0.j ... 0.+0.j 0.+0.j 0.+0.j]\n",
      "   ...\n",
      "   [0.+0.j 0.+0.j 0.+0.j ... 0.+0.j 0.+0.j 0.+0.j]\n",
      "   [0.+0.j 0.+0.j 0.+0.j ... 0.+0.j 0.+0.j 0.+0.j]\n",
      "   [0.+0.j 0.+0.j 0.+0.j ... 0.+0.j 0.+0.j 0.+0.j]]]\n",
      "\n",
      "\n",
      " [[[0.+0.j 0.+0.j 0.+0.j ... 0.+0.j 0.+0.j 0.+0.j]\n",
      "   [0.+0.j 0.+0.j 0.+0.j ... 0.+0.j 0.+0.j 0.+0.j]\n",
      "   [0.+0.j 0.+0.j 0.+0.j ... 0.+0.j 0.+0.j 0.+0.j]\n",
      "   ...\n",
      "   [0.+0.j 0.+0.j 0.+0.j ... 0.+0.j 0.+0.j 0.+0.j]\n",
      "   [0.+0.j 0.+0.j 0.+0.j ... 0.+0.j 0.+0.j 0.+0.j]\n",
      "   [0.+0.j 0.+0.j 0.+0.j ... 0.+0.j 0.+0.j 0.+0.j]]]\n",
      "\n",
      "\n",
      " ...\n",
      "\n",
      "\n",
      " [[[0.+0.j 0.+0.j 0.+0.j ... 0.+0.j 0.+0.j 0.+0.j]\n",
      "   [0.+0.j 0.+0.j 0.+0.j ... 0.+0.j 0.+0.j 0.+0.j]\n",
      "   [0.+0.j 0.+0.j 0.+0.j ... 0.+0.j 0.+0.j 0.+0.j]\n",
      "   ...\n",
      "   [0.+0.j 0.+0.j 0.+0.j ... 0.+0.j 0.+0.j 0.+0.j]\n",
      "   [0.+0.j 0.+0.j 0.+0.j ... 0.+0.j 0.+0.j 0.+0.j]\n",
      "   [0.+0.j 0.+0.j 0.+0.j ... 0.+0.j 0.+0.j 0.+0.j]]]\n",
      "\n",
      "\n",
      " [[[0.+0.j 0.+0.j 0.+0.j ... 0.+0.j 0.+0.j 0.+0.j]\n",
      "   [0.+0.j 0.+0.j 0.+0.j ... 0.+0.j 0.+0.j 0.+0.j]\n",
      "   [0.+0.j 0.+0.j 0.+0.j ... 0.+0.j 0.+0.j 0.+0.j]\n",
      "   ...\n",
      "   [0.+0.j 0.+0.j 0.+0.j ... 0.+0.j 0.+0.j 0.+0.j]\n",
      "   [0.+0.j 0.+0.j 0.+0.j ... 0.+0.j 0.+0.j 0.+0.j]\n",
      "   [0.+0.j 0.+0.j 0.+0.j ... 0.+0.j 0.+0.j 0.+0.j]]]\n",
      "\n",
      "\n",
      " [[[0.+0.j 0.+0.j 0.+0.j ... 0.+0.j 0.+0.j 0.+0.j]\n",
      "   [0.+0.j 0.+0.j 0.+0.j ... 0.+0.j 0.+0.j 0.+0.j]\n",
      "   [0.+0.j 0.+0.j 0.+0.j ... 0.+0.j 0.+0.j 0.+0.j]\n",
      "   ...\n",
      "   [0.+0.j 0.+0.j 0.+0.j ... 0.+0.j 0.+0.j 0.+0.j]\n",
      "   [0.+0.j 0.+0.j 0.+0.j ... 0.+0.j 0.+0.j 0.+0.j]\n",
      "   [0.+0.j 0.+0.j 0.+0.j ... 0.+0.j 0.+0.j 0.+0.j]]]]\n"
     ]
    }
   ],
   "source": [
    "print(dataset[0][0]['user']['channel'])"
   ]
  },
  {
   "cell_type": "code",
   "execution_count": 53,
   "id": "94309077",
   "metadata": {},
   "outputs": [],
   "source": [
    "# ─────────────────────────────────────────────\n",
    "# ❶ IterableDataset: 모든 유저·서브캐리어를 스트리밍\n",
    "import torch\n",
    "from torch.utils.data import IterableDataset, DataLoader\n",
    "\n",
    "class ChannelSeqDataset(IterableDataset):\n",
    "    def __init__(self, scenes, seq_len=5):\n",
    "        super().__init__()\n",
    "        self.scenes   = scenes\n",
    "        self.seq_len  = seq_len\n",
    "        ch0           = scenes[0][0]['user']['channel']\n",
    "        self.U        = ch0.shape[0]      # 유저 수\n",
    "        self.A        = ch0.shape[2]      # 안테나 32\n",
    "        self.S        = ch0.shape[3]      # 서브캐리어 64\n",
    "    def _vec(self, scene, u, sc):\n",
    "        h = scene[0]['user']['channel'][u,0,:,sc]\n",
    "        return torch.from_numpy(\n",
    "            np.concatenate([h.real, h.imag]).astype(np.float32)\n",
    "        )                                   # (2*A,)\n",
    "    def __iter__(self):\n",
    "        T = len(self.scenes)\n",
    "        for t in range(self.seq_len, T):\n",
    "            past = self.scenes[t-self.seq_len:t]\n",
    "            tgt  = self.scenes[t]\n",
    "            for u in range(self.U):\n",
    "                for s in range(self.S):\n",
    "                    seq = torch.stack([self._vec(ps,u,s) for ps in past])\n",
    "                    if not torch.any(seq):        # 전부 0 → skip\n",
    "                        continue\n",
    "                    target      = self._vec(tgt,u,s)\n",
    "                    masked_pos  = torch.tensor([self.seq_len-2])\n",
    "                    yield seq, masked_pos, target\n",
    "# ─────────────────────────────────────────────\n",
    "# ❷ 학습·검증 DataLoader\n",
    "seq_len       = 5\n",
    "split_ratio   = 0.8\n",
    "split_idx     = int(len(dataset)*split_ratio)\n",
    "\n",
    "train_ds      = ChannelSeqDataset(dataset[:split_idx], seq_len=seq_len)\n",
    "val_ds        = ChannelSeqDataset(dataset[split_idx:], seq_len=seq_len)\n",
    "\n",
    "batch_size    = 32\n",
    "train_loader  = DataLoader(train_ds, batch_size=batch_size, shuffle=False)\n",
    "val_loader    = DataLoader(val_ds,   batch_size=batch_size, shuffle=False)\n",
    "# ─────────────────────────────────────────────\n"
   ]
  },
  {
   "cell_type": "code",
   "execution_count": 54,
   "id": "6bb54e69",
   "metadata": {
    "scrolled": true
   },
   "outputs": [],
   "source": [
    "# print(X.shape)\n",
    "# print(y.shape)"
   ]
  },
  {
   "cell_type": "code",
   "execution_count": 55,
   "id": "8b04bbe0",
   "metadata": {},
   "outputs": [],
   "source": [
    "# # 데이터 만들기\n",
    "# # seq_len = 시퀀스를 잘라서 사용\n",
    "# # [0,1,2,3,4], [1,2,3,4,5], [2,3,4,5]\n",
    "# seq_len = 5\n",
    "# X = []\n",
    "# y = []\n",
    "\n",
    "# for i in range(len(channel_sequence) - seq_len+1):\n",
    "#     input_seq = channel_sequence[i:i+seq_len-1] # t=0~3\n",
    "#     target = channel_sequence[i+seq_len-1] # t = 4\n",
    "    \n",
    "#     X.append(input_seq)\n",
    "#     y.append(target)\n",
    "\n",
    "# # T = scene case\n",
    "# # samples = T - seq_len + 1\n",
    "# X = np.array(X) # shape: (samples, seq_len-1, 64, 64)\n",
    "# y = np.array(y) # shape: (samples, 64, 64)\n"
   ]
  },
  {
   "cell_type": "code",
   "execution_count": 56,
   "id": "0357b60e",
   "metadata": {},
   "outputs": [],
   "source": [
    "# # Flatten\n",
    "# # 4096 = 64 * 64\n",
    "# X_flat = X.reshape(X.shape[0], X.shape[1], -1) # (320,5,64)\n",
    "# y_flat = y.reshape(y.shape[0],-1) #(\\\n",
    "\n",
    "# # power = np.sum(y_flat**2,axis=1)\n",
    "# # mask = power > 0\n",
    "# # y_flat = y_flat[mask]\n",
    "# # X_flat = X_flat[mask]"
   ]
  },
  {
   "cell_type": "code",
   "execution_count": 57,
   "id": "2ba295df",
   "metadata": {},
   "outputs": [],
   "source": [
    "# print(X_flat.shape)\n",
    "# # print(y_flat.shape)"
   ]
  },
  {
   "cell_type": "code",
   "execution_count": 58,
   "id": "4d2c007c",
   "metadata": {},
   "outputs": [],
   "source": [
    "# import torch\n",
    "# from torch.utils.data import TensorDataset, DataLoader, random_split\n",
    "\n",
    "# device = torch.device(\"cuda\" if torch.cuda.is_available() else \"cpu\")\n",
    "\n",
    "# # 아래 텐서 cpu로\n",
    "# X_t = torch.tensor(X_flat, dtype=torch.float32)        # (N, seq_len, element_length)\n",
    "# y_t = torch.tensor(y_flat, dtype=torch.float32)        # (N,)\n",
    "# masked_pos = torch.full((X_t.shape[0], 1),             # (N, 1)\n",
    "#                         seq_len - 2,\n",
    "#                         dtype=torch.long)\n",
    "\n",
    "# #  Dataset 생성\n",
    "# full_ds = TensorDataset(X_t, masked_pos, y_t)\n",
    "\n",
    "# # train / val 8:2 분할\n",
    "# train_size = int(len(full_ds) * 0.8)\n",
    "# val_size   = len(full_ds) - train_size\n",
    "# train_ds, val_ds = random_split(full_ds, [train_size, val_size])\n",
    "\n",
    "# # DataLoader 정의\n",
    "# batch_size = 32\n",
    "\n",
    "# train_loader = DataLoader(\n",
    "#     train_ds,\n",
    "#     batch_size=batch_size,\n",
    "#     shuffle=True,        # epoch마다 섞기\n",
    "#     drop_last=False\n",
    "# )\n",
    "\n",
    "# val_loader = DataLoader(\n",
    "#     val_ds,\n",
    "#     batch_size=batch_size,\n",
    "#     shuffle=False\n",
    "# )\n"
   ]
  },
  {
   "cell_type": "code",
   "execution_count": 59,
   "id": "0d6f0025",
   "metadata": {},
   "outputs": [],
   "source": [
    "# print(masked_pos.shape)"
   ]
  },
  {
   "cell_type": "code",
   "execution_count": 60,
   "id": "580386d8",
   "metadata": {},
   "outputs": [],
   "source": [
    "# print(X_t)"
   ]
  },
  {
   "cell_type": "code",
   "execution_count": 61,
   "id": "9f988d55",
   "metadata": {},
   "outputs": [],
   "source": [
    "# print(X_t[3][0][1])"
   ]
  },
  {
   "cell_type": "code",
   "execution_count": 62,
   "id": "00c61dec",
   "metadata": {},
   "outputs": [],
   "source": [
    "# print(X_t.shape)\n",
    "# print(y_t.shape)\n",
    "# # mini_batch, sequence_len, H_real+H_imag"
   ]
  },
  {
   "cell_type": "markdown",
   "id": "4cf6bac8",
   "metadata": {},
   "source": [
    "# 아래 코드 구조\n",
    "┌──────────────────────────────────────────────────────────────┐\n",
    "│ input_ids  (B, seq_len, element_length)  ─┐                 │\n",
    "│ masked_pos (B, num_mask)                  ├─>  LWM backbone │\n",
    "│                                           │    (12-층 트랜스포머)  \n",
    "└────────────────────────────────────────────┘         │\n",
    "            logits_lm  (B, num_mask, element_length)  │   enc_output (B, seq_len, d_model)\n",
    "                                                      ▼\n",
    "                        ┌─[풀링]───────────────┐      ←── feat (B, d_model)\n",
    "                        │ 첫 토큰(0번) 선택    │\n",
    "                        │   or 평균/최대 풀링 │\n",
    "                        └──────────────────────┘\n",
    "                                      ▼\n",
    "                       FC 헤드  (d_model → hidden_dim → out_dim)\n",
    "                                      ▼\n",
    "                                out (B, out_dim)\n",
    "\n",
    "# 시각적비유\n",
    "\n",
    "[패치 프로젝터]──▶[Transformer ×12]──▶[LayerNorm]──┐\n",
    "                                                  ├─▶ 64-차 벡터 (CLS 또는 풀링) ─▶ MLP ─▶ out                                                \n",
    "[Positional Embedding]─────────────────────────────┘\n"
   ]
  },
  {
   "cell_type": "code",
   "execution_count": 63,
   "id": "7d882a4d",
   "metadata": {},
   "outputs": [],
   "source": [
    "\"\"\"\n",
    "LWMWithHead: 사전학습된 LWM(Transformer encoder)을 ‘백본(backbone)’으로 사용하고,\n",
    "그 뒤에 새로운 완전연결(FC) 헤드(head)를 붙여 다운스트림 작업(회귀·분류 등)에\n",
    "사용할 수 있도록 만든 래퍼(wrapper) 클래스입니다.\n",
    "\"\"\"\n",
    "\n",
    "import torch\n",
    "import torch.nn as nn\n",
    "from lwm_model import lwm   # 기존 LWM 모델 클래스 (import 경로는 프로젝트 구조에 맞게 조정)\n",
    "\n",
    "class LWMWithHead(nn.Module):\n",
    "    \"\"\"\n",
    "    Args\n",
    "    ----\n",
    "    element_length : int\n",
    "        LWM 입력 패치의 길이. 예) 64*64 = 4096 (H_real + H_imag)\n",
    "    d_model        : int\n",
    "        Transformer 모델 차원(=LWM hidden size).\n",
    "    max_len        : int\n",
    "        포지셔널 임베딩 최대 길이(시퀀스 길이).\n",
    "    n_layers       : int\n",
    "        Transformer 인코더 층 수.\n",
    "    hidden_dim     : int\n",
    "        새 FC 헤드의 중간 차원.\n",
    "    out_dim        : int\n",
    "        최종 출력 차원. 1 → 회귀/이진분류, k → k-클래스 분류.\n",
    "    freeze_backbone: bool\n",
    "        True면 백본을 동결(freeze)하여 헤드만 학습.\n",
    "    ckpt_path      : str | None\n",
    "        사전학습 가중치(.pth) 경로. None이면 랜덤 초기화.\n",
    "    device         : str\n",
    "        'cuda' / 'cpu' 등 모델을 올릴 장치.\n",
    "    \"\"\"\n",
    "\n",
    "    def __init__(\n",
    "        self,\n",
    "        element_length: int,\n",
    "        d_model: int = 64,\n",
    "        max_len: int = 129,\n",
    "        n_layers: int = 12,\n",
    "        hidden_dim: int = 256,\n",
    "        out_dim: int = 64, \n",
    "        freeze_backbone: bool = False,\n",
    "        ckpt_path: str | None = None,\n",
    "        device: str = \"cuda\",\n",
    "    ):\n",
    "        super().__init__()\n",
    "\n",
    "        # ────────────────────────────\n",
    "        # 1) 백본(backbone) 초기화\n",
    "        # ────────────────────────────\n",
    "        if ckpt_path is None:\n",
    "            # 가중치 없이 새로 생성\n",
    "            self.backbone = lwm(\n",
    "                element_length=element_length,\n",
    "                d_model=d_model,\n",
    "                max_len=max_len,\n",
    "                n_layers=n_layers\n",
    "            ).to(device)\n",
    "        else:\n",
    "            # 사전학습 가중치 로드\n",
    "            self.backbone = lwm.from_pretrained(\n",
    "                ckpt_name=ckpt_path,\n",
    "                device=device\n",
    "            )\n",
    "\n",
    "        # 백본 동결(선택)\n",
    "        if freeze_backbone:\n",
    "            for p in self.backbone.parameters():\n",
    "                p.requires_grad = False\n",
    "\n",
    "        # ────────────────────────────\n",
    "        # 2) 헤드(head) 정의\n",
    "        # ────────────────────────────\n",
    "        self.head = nn.Sequential(\n",
    "            nn.Linear(d_model, 64),  # 첫 FC\n",
    "            nn.ReLU(),                       # 활성화\n",
    "            nn.Linear(64, out_dim)   # 최종 FC\n",
    "        )\n",
    "\n",
    "    # ────────────────────────────\n",
    "    # forward\n",
    "    # ────────────────────────────\n",
    "    def forward(self, input_ids, masked_pos):\n",
    "        \"\"\"\n",
    "        Parameters\n",
    "        ----------\n",
    "        input_ids : Tensor  (B, seq_len, element_length)\n",
    "            LWM 입력 시퀀스 (패치/토큰 단위 실수·복소수 채널값 등).\n",
    "        masked_pos : Tensor  (B, num_mask)\n",
    "            LWM의 마스크드 채널 모델링용 인덱스 (백본 규격 유지용).\n",
    "\n",
    "        Returns\n",
    "        -------\n",
    "        out : Tensor  (B, out_dim)\n",
    "            헤드에서 계산된 다운스트림 작업용 로짓/예측값.\n",
    "        \"\"\"\n",
    "\n",
    "        # 기존 LWM forward:\n",
    "        #   logits_lm : (B, num_mask, element_length)  ← 사용 안 함\n",
    "        #   enc_output: (B, seq_len, d_model)\n",
    "        _, enc_output = self.backbone(input_ids, masked_pos)\n",
    "\n",
    "        # 특징 추출(feat)\n",
    "        # ① 첫 토큰 벡터 사용 (CLS 개념) ─────────────\n",
    "        feat = enc_output[:, 0, :]           # (B, d_model)\n",
    "\n",
    "        # ② 평균 풀링 예시 (필요 시 주석 해제) ─────\n",
    "        # feat = enc_output.mean(dim=1)       # (B, d_model)\n",
    "\n",
    "        # ③ Max 풀링 예시 (필요 시 주석 해제) ─────\n",
    "        # feat, _ = enc_output.max(dim=1)     # (B, d_model)\n",
    "\n",
    "        # 헤드 통과 → 최종 출력\n",
    "        out = self.head(feat)                # (B, out_dim)\n",
    "        return out\n"
   ]
  },
  {
   "cell_type": "code",
   "execution_count": 70,
   "id": "2563892b",
   "metadata": {},
   "outputs": [
    {
     "name": "stdout",
     "output_type": "stream",
     "text": [
      "69040\n"
     ]
    }
   ],
   "source": [
    "print(train_ds.U)"
   ]
  },
  {
   "cell_type": "code",
   "execution_count": 65,
   "id": "b37383cc",
   "metadata": {},
   "outputs": [
    {
     "name": "stdout",
     "output_type": "stream",
     "text": [
      "Using device: cuda\n"
     ]
    }
   ],
   "source": [
    "import torch\n",
    "import torch.nn as nn\n",
    "from torch.optim import Adam\n",
    "\n",
    "# 디바이스 설정(GPU/CPU)\n",
    "device = torch.device(\"cuda\" if torch.cuda.is_available() else \"cpu\")\n",
    "print(f\"Using device: {device}\")\n",
    "\n",
    "\n",
    "# 모델 초기화\n",
    "seq_len = 5\n",
    "element_length=train_ds.A*2\n",
    "\n",
    "\n",
    "\n",
    "model = LWMWithHead(\n",
    "    element_length=element_length,  # 예: 64\n",
    "    d_model=64,\n",
    "    max_len=seq_len,                # 예: 5\n",
    "    n_layers=12,\n",
    "    hidden_dim=256,\n",
    "    out_dim=element_length,         # 예: 64\n",
    "    freeze_backbone=False,  \n",
    "    ckpt_path=None,  \n",
    "    device=device\n",
    ").to(device)\n",
    "\n",
    "# 손실함수\n",
    "criterion = nn.MSELoss()\n",
    "\n",
    "# 옵티마이저 설정\n",
    "optimizer = Adam(model.parameters(), lr=1e-4)"
   ]
  },
  {
   "cell_type": "code",
   "execution_count": 71,
   "id": "625b128d",
   "metadata": {
    "scrolled": true
   },
   "outputs": [
    {
     "ename": "KeyboardInterrupt",
     "evalue": "",
     "output_type": "error",
     "traceback": [
      "\u001b[1;31m---------------------------------------------------------------------------\u001b[0m",
      "\u001b[1;31mTypeError\u001b[0m                                 Traceback (most recent call last)",
      "Cell \u001b[1;32mIn[71], line 7\u001b[0m\n\u001b[0;32m      6\u001b[0m \u001b[38;5;28;01mtry\u001b[39;00m:\n\u001b[1;32m----> 7\u001b[0m     n_batches \u001b[38;5;241m=\u001b[39m \u001b[38;5;28mlen\u001b[39m(train_loader)\n\u001b[0;32m      8\u001b[0m \u001b[38;5;28;01mexcept\u001b[39;00m \u001b[38;5;167;01mTypeError\u001b[39;00m:\n\u001b[0;32m      9\u001b[0m     \u001b[38;5;66;03m# IterableDataset → no __len__\u001b[39;00m\n",
      "File \u001b[1;32m~\\anaconda3\\Lib\\site-packages\\torch\\utils\\data\\dataloader.py:474\u001b[0m, in \u001b[0;36mDataLoader.__len__\u001b[1;34m(self)\u001b[0m\n\u001b[0;32m    457\u001b[0m \u001b[38;5;28;01mif\u001b[39;00m \u001b[38;5;28mself\u001b[39m\u001b[38;5;241m.\u001b[39m_dataset_kind \u001b[38;5;241m==\u001b[39m _DatasetKind\u001b[38;5;241m.\u001b[39mIterable:\n\u001b[0;32m    458\u001b[0m     \u001b[38;5;66;03m# NOTE [ IterableDataset and __len__ ]\u001b[39;00m\n\u001b[0;32m    459\u001b[0m     \u001b[38;5;66;03m#\u001b[39;00m\n\u001b[1;32m   (...)\u001b[0m\n\u001b[0;32m    472\u001b[0m \n\u001b[0;32m    473\u001b[0m     \u001b[38;5;66;03m# Cannot statically verify that dataset is Sized\u001b[39;00m\n\u001b[1;32m--> 474\u001b[0m     length \u001b[38;5;241m=\u001b[39m \u001b[38;5;28mself\u001b[39m\u001b[38;5;241m.\u001b[39m_IterableDataset_len_called \u001b[38;5;241m=\u001b[39m \u001b[38;5;28mlen\u001b[39m(\u001b[38;5;28mself\u001b[39m\u001b[38;5;241m.\u001b[39mdataset)  \u001b[38;5;66;03m# type: ignore[assignment, arg-type]\u001b[39;00m\n\u001b[0;32m    475\u001b[0m     \u001b[38;5;28;01mif\u001b[39;00m \u001b[38;5;28mself\u001b[39m\u001b[38;5;241m.\u001b[39mbatch_size \u001b[38;5;129;01mis\u001b[39;00m \u001b[38;5;129;01mnot\u001b[39;00m \u001b[38;5;28;01mNone\u001b[39;00m:  \u001b[38;5;66;03m# IterableDataset doesn't allow custom sampler or batch_sampler\u001b[39;00m\n",
      "\u001b[1;31mTypeError\u001b[0m: object of type 'ChannelSeqDataset' has no len()",
      "\nDuring handling of the above exception, another exception occurred:\n",
      "\u001b[1;31mKeyboardInterrupt\u001b[0m                         Traceback (most recent call last)",
      "Cell \u001b[1;32mIn[71], line 10\u001b[0m\n\u001b[0;32m      7\u001b[0m     n_batches \u001b[38;5;241m=\u001b[39m \u001b[38;5;28mlen\u001b[39m(train_loader)\n\u001b[0;32m      8\u001b[0m \u001b[38;5;28;01mexcept\u001b[39;00m \u001b[38;5;167;01mTypeError\u001b[39;00m:\n\u001b[0;32m      9\u001b[0m     \u001b[38;5;66;03m# IterableDataset → no __len__\u001b[39;00m\n\u001b[1;32m---> 10\u001b[0m     n_batches \u001b[38;5;241m=\u001b[39m \u001b[38;5;28msum\u001b[39m(\u001b[38;5;241m1\u001b[39m \u001b[38;5;28;01mfor\u001b[39;00m _ \u001b[38;5;129;01min\u001b[39;00m train_loader)\n\u001b[0;32m     11\u001b[0m \u001b[38;5;28mprint\u001b[39m(\u001b[38;5;124mf\u001b[39m\u001b[38;5;124m\"\u001b[39m\u001b[38;5;124m→ training batches: \u001b[39m\u001b[38;5;132;01m{\u001b[39;00mn_batches\u001b[38;5;132;01m}\u001b[39;00m\u001b[38;5;124m\"\u001b[39m)\n\u001b[0;32m     13\u001b[0m \u001b[38;5;66;03m# ❷ actual training loop with per-epoch print\u001b[39;00m\n",
      "Cell \u001b[1;32mIn[71], line 10\u001b[0m, in \u001b[0;36m<genexpr>\u001b[1;34m(.0)\u001b[0m\n\u001b[0;32m      7\u001b[0m     n_batches \u001b[38;5;241m=\u001b[39m \u001b[38;5;28mlen\u001b[39m(train_loader)\n\u001b[0;32m      8\u001b[0m \u001b[38;5;28;01mexcept\u001b[39;00m \u001b[38;5;167;01mTypeError\u001b[39;00m:\n\u001b[0;32m      9\u001b[0m     \u001b[38;5;66;03m# IterableDataset → no __len__\u001b[39;00m\n\u001b[1;32m---> 10\u001b[0m     n_batches \u001b[38;5;241m=\u001b[39m \u001b[38;5;28msum\u001b[39m(\u001b[38;5;241m1\u001b[39m \u001b[38;5;28;01mfor\u001b[39;00m _ \u001b[38;5;129;01min\u001b[39;00m train_loader)\n\u001b[0;32m     11\u001b[0m \u001b[38;5;28mprint\u001b[39m(\u001b[38;5;124mf\u001b[39m\u001b[38;5;124m\"\u001b[39m\u001b[38;5;124m→ training batches: \u001b[39m\u001b[38;5;132;01m{\u001b[39;00mn_batches\u001b[38;5;132;01m}\u001b[39;00m\u001b[38;5;124m\"\u001b[39m)\n\u001b[0;32m     13\u001b[0m \u001b[38;5;66;03m# ❷ actual training loop with per-epoch print\u001b[39;00m\n",
      "File \u001b[1;32m~\\anaconda3\\Lib\\site-packages\\torch\\utils\\data\\dataloader.py:630\u001b[0m, in \u001b[0;36m_BaseDataLoaderIter.__next__\u001b[1;34m(self)\u001b[0m\n\u001b[0;32m    627\u001b[0m \u001b[38;5;28;01mif\u001b[39;00m \u001b[38;5;28mself\u001b[39m\u001b[38;5;241m.\u001b[39m_sampler_iter \u001b[38;5;129;01mis\u001b[39;00m \u001b[38;5;28;01mNone\u001b[39;00m:\n\u001b[0;32m    628\u001b[0m     \u001b[38;5;66;03m# TODO(https://github.com/pytorch/pytorch/issues/76750)\u001b[39;00m\n\u001b[0;32m    629\u001b[0m     \u001b[38;5;28mself\u001b[39m\u001b[38;5;241m.\u001b[39m_reset()  \u001b[38;5;66;03m# type: ignore[call-arg]\u001b[39;00m\n\u001b[1;32m--> 630\u001b[0m data \u001b[38;5;241m=\u001b[39m \u001b[38;5;28mself\u001b[39m\u001b[38;5;241m.\u001b[39m_next_data()\n\u001b[0;32m    631\u001b[0m \u001b[38;5;28mself\u001b[39m\u001b[38;5;241m.\u001b[39m_num_yielded \u001b[38;5;241m+\u001b[39m\u001b[38;5;241m=\u001b[39m \u001b[38;5;241m1\u001b[39m\n\u001b[0;32m    632\u001b[0m \u001b[38;5;28;01mif\u001b[39;00m \u001b[38;5;28mself\u001b[39m\u001b[38;5;241m.\u001b[39m_dataset_kind \u001b[38;5;241m==\u001b[39m _DatasetKind\u001b[38;5;241m.\u001b[39mIterable \u001b[38;5;129;01mand\u001b[39;00m \\\n\u001b[0;32m    633\u001b[0m         \u001b[38;5;28mself\u001b[39m\u001b[38;5;241m.\u001b[39m_IterableDataset_len_called \u001b[38;5;129;01mis\u001b[39;00m \u001b[38;5;129;01mnot\u001b[39;00m \u001b[38;5;28;01mNone\u001b[39;00m \u001b[38;5;129;01mand\u001b[39;00m \\\n\u001b[0;32m    634\u001b[0m         \u001b[38;5;28mself\u001b[39m\u001b[38;5;241m.\u001b[39m_num_yielded \u001b[38;5;241m>\u001b[39m \u001b[38;5;28mself\u001b[39m\u001b[38;5;241m.\u001b[39m_IterableDataset_len_called:\n",
      "File \u001b[1;32m~\\anaconda3\\Lib\\site-packages\\torch\\utils\\data\\dataloader.py:674\u001b[0m, in \u001b[0;36m_SingleProcessDataLoaderIter._next_data\u001b[1;34m(self)\u001b[0m\n\u001b[0;32m    672\u001b[0m \u001b[38;5;28;01mdef\u001b[39;00m \u001b[38;5;21m_next_data\u001b[39m(\u001b[38;5;28mself\u001b[39m):\n\u001b[0;32m    673\u001b[0m     index \u001b[38;5;241m=\u001b[39m \u001b[38;5;28mself\u001b[39m\u001b[38;5;241m.\u001b[39m_next_index()  \u001b[38;5;66;03m# may raise StopIteration\u001b[39;00m\n\u001b[1;32m--> 674\u001b[0m     data \u001b[38;5;241m=\u001b[39m \u001b[38;5;28mself\u001b[39m\u001b[38;5;241m.\u001b[39m_dataset_fetcher\u001b[38;5;241m.\u001b[39mfetch(index)  \u001b[38;5;66;03m# may raise StopIteration\u001b[39;00m\n\u001b[0;32m    675\u001b[0m     \u001b[38;5;28;01mif\u001b[39;00m \u001b[38;5;28mself\u001b[39m\u001b[38;5;241m.\u001b[39m_pin_memory:\n\u001b[0;32m    676\u001b[0m         data \u001b[38;5;241m=\u001b[39m _utils\u001b[38;5;241m.\u001b[39mpin_memory\u001b[38;5;241m.\u001b[39mpin_memory(data, \u001b[38;5;28mself\u001b[39m\u001b[38;5;241m.\u001b[39m_pin_memory_device)\n",
      "File \u001b[1;32m~\\anaconda3\\Lib\\site-packages\\torch\\utils\\data\\_utils\\fetch.py:32\u001b[0m, in \u001b[0;36m_IterableDatasetFetcher.fetch\u001b[1;34m(self, possibly_batched_index)\u001b[0m\n\u001b[0;32m     30\u001b[0m \u001b[38;5;28;01mfor\u001b[39;00m _ \u001b[38;5;129;01min\u001b[39;00m possibly_batched_index:\n\u001b[0;32m     31\u001b[0m     \u001b[38;5;28;01mtry\u001b[39;00m:\n\u001b[1;32m---> 32\u001b[0m         data\u001b[38;5;241m.\u001b[39mappend(\u001b[38;5;28mnext\u001b[39m(\u001b[38;5;28mself\u001b[39m\u001b[38;5;241m.\u001b[39mdataset_iter))\n\u001b[0;32m     33\u001b[0m     \u001b[38;5;28;01mexcept\u001b[39;00m \u001b[38;5;167;01mStopIteration\u001b[39;00m:\n\u001b[0;32m     34\u001b[0m         \u001b[38;5;28mself\u001b[39m\u001b[38;5;241m.\u001b[39mended \u001b[38;5;241m=\u001b[39m \u001b[38;5;28;01mTrue\u001b[39;00m\n",
      "Cell \u001b[1;32mIn[53], line 27\u001b[0m, in \u001b[0;36mChannelSeqDataset.__iter__\u001b[1;34m(self)\u001b[0m\n\u001b[0;32m     25\u001b[0m \u001b[38;5;28;01mfor\u001b[39;00m u \u001b[38;5;129;01min\u001b[39;00m \u001b[38;5;28mrange\u001b[39m(\u001b[38;5;28mself\u001b[39m\u001b[38;5;241m.\u001b[39mU):\n\u001b[0;32m     26\u001b[0m     \u001b[38;5;28;01mfor\u001b[39;00m s \u001b[38;5;129;01min\u001b[39;00m \u001b[38;5;28mrange\u001b[39m(\u001b[38;5;28mself\u001b[39m\u001b[38;5;241m.\u001b[39mS):\n\u001b[1;32m---> 27\u001b[0m         seq \u001b[38;5;241m=\u001b[39m torch\u001b[38;5;241m.\u001b[39mstack([\u001b[38;5;28mself\u001b[39m\u001b[38;5;241m.\u001b[39m_vec(ps,u,s) \u001b[38;5;28;01mfor\u001b[39;00m ps \u001b[38;5;129;01min\u001b[39;00m past])\n\u001b[0;32m     28\u001b[0m         \u001b[38;5;28;01mif\u001b[39;00m \u001b[38;5;129;01mnot\u001b[39;00m torch\u001b[38;5;241m.\u001b[39many(seq):        \u001b[38;5;66;03m# 전부 0 → skip\u001b[39;00m\n\u001b[0;32m     29\u001b[0m             \u001b[38;5;28;01mcontinue\u001b[39;00m\n",
      "\u001b[1;31mKeyboardInterrupt\u001b[0m: "
     ]
    }
   ],
   "source": [
    "# import time\n",
    "# import sys\n",
    "\n",
    "# #  ❶ quick sanity checks\n",
    "# #    If train_loader is empty, this will print 0 or raise\n",
    "# try:\n",
    "#     n_batches = len(train_loader)\n",
    "# except TypeError:\n",
    "#     # IterableDataset → no __len__\n",
    "#     n_batches = sum(1 for _ in train_loader)\n",
    "# print(f\"→ training batches: {n_batches}\")\n",
    "\n",
    "# # ❷ actual training loop with per-epoch print\n",
    "# start = time.time()\n",
    "# num_epochs = 10\n",
    "\n",
    "# for epoch in range(num_epochs):\n",
    "#     model.train()\n",
    "#     running_loss = 0.0\n",
    "\n",
    "#     # loop over batches\n",
    "#     for i, (input_ids, masked_pos, target) in enumerate(train_loader, 1):\n",
    "#         input_ids   = input_ids.to(device)\n",
    "#         masked_pos  = masked_pos.to(device)\n",
    "#         target      = target.to(device)\n",
    "\n",
    "#         optimizer.zero_grad()\n",
    "#         pred = model(input_ids, masked_pos).squeeze(-1)\n",
    "#         loss = criterion(pred, target)\n",
    "#         loss.backward()\n",
    "#         optimizer.step()\n",
    "\n",
    "#         running_loss += loss.item()\n",
    "\n",
    "#     # ❸ now we know at least one epoch happened\n",
    "#     avg_loss = running_loss / i if i>0 else float('nan')\n",
    "#     print(f\"Epoch {epoch+1}/{num_epochs},  avg loss: {avg_loss:.6f}\", flush=True)\n",
    "\n",
    "# end = time.time()\n",
    "# print(f\"Total training time: {end - start:.2f}s\")\n"
   ]
  },
  {
   "cell_type": "code",
   "execution_count": null,
   "id": "bc8811a5",
   "metadata": {},
   "outputs": [
    {
     "name": "stderr",
     "output_type": "stream",
     "text": [
      "Epoch 1/10: 102it [00:04, 23.50it/s]"
     ]
    },
    {
     "name": "stdout",
     "output_type": "stream",
     "text": [
      "  [Batch 100]  loss: 0.000001\n"
     ]
    },
    {
     "name": "stderr",
     "output_type": "stream",
     "text": [
      "Epoch 1/10: 204it [00:08, 23.10it/s]"
     ]
    },
    {
     "name": "stdout",
     "output_type": "stream",
     "text": [
      "  [Batch 200]  loss: 0.000001\n"
     ]
    },
    {
     "name": "stderr",
     "output_type": "stream",
     "text": [
      "Epoch 1/10: 303it [00:13, 22.44it/s]"
     ]
    },
    {
     "name": "stdout",
     "output_type": "stream",
     "text": [
      "  [Batch 300]  loss: 0.000001\n"
     ]
    },
    {
     "name": "stderr",
     "output_type": "stream",
     "text": [
      "Epoch 1/10: 402it [00:17, 22.70it/s]"
     ]
    },
    {
     "name": "stdout",
     "output_type": "stream",
     "text": [
      "  [Batch 400]  loss: 0.000001\n"
     ]
    },
    {
     "name": "stderr",
     "output_type": "stream",
     "text": [
      "Epoch 1/10: 504it [00:21, 22.71it/s]"
     ]
    },
    {
     "name": "stdout",
     "output_type": "stream",
     "text": [
      "  [Batch 500]  loss: 0.000001\n"
     ]
    },
    {
     "name": "stderr",
     "output_type": "stream",
     "text": [
      "Epoch 1/10: 601it [00:27, 14.60it/s]"
     ]
    },
    {
     "name": "stdout",
     "output_type": "stream",
     "text": [
      "  [Batch 600]  loss: 0.000001\n"
     ]
    },
    {
     "name": "stderr",
     "output_type": "stream",
     "text": [
      "Epoch 1/10: 703it [00:33, 19.38it/s]"
     ]
    },
    {
     "name": "stdout",
     "output_type": "stream",
     "text": [
      "  [Batch 700]  loss: 0.000001\n"
     ]
    },
    {
     "name": "stderr",
     "output_type": "stream",
     "text": [
      "Epoch 1/10: 803it [00:37, 22.39it/s]"
     ]
    },
    {
     "name": "stdout",
     "output_type": "stream",
     "text": [
      "  [Batch 800]  loss: 0.000001\n"
     ]
    },
    {
     "name": "stderr",
     "output_type": "stream",
     "text": [
      "Epoch 1/10: 902it [00:42, 21.47it/s]"
     ]
    },
    {
     "name": "stdout",
     "output_type": "stream",
     "text": [
      "  [Batch 900]  loss: 0.000001\n"
     ]
    },
    {
     "name": "stderr",
     "output_type": "stream",
     "text": [
      "Epoch 1/10: 1004it [00:46, 21.99it/s]"
     ]
    },
    {
     "name": "stdout",
     "output_type": "stream",
     "text": [
      "  [Batch 1000]  loss: 0.000001\n"
     ]
    },
    {
     "name": "stderr",
     "output_type": "stream",
     "text": [
      "Epoch 1/10: 1103it [00:51, 20.52it/s]"
     ]
    },
    {
     "name": "stdout",
     "output_type": "stream",
     "text": [
      "  [Batch 1100]  loss: 0.000001\n"
     ]
    },
    {
     "name": "stderr",
     "output_type": "stream",
     "text": [
      "Epoch 1/10: 1202it [00:55, 22.06it/s]"
     ]
    },
    {
     "name": "stdout",
     "output_type": "stream",
     "text": [
      "  [Batch 1200]  loss: 0.000001\n"
     ]
    },
    {
     "name": "stderr",
     "output_type": "stream",
     "text": [
      "Epoch 1/10: 1304it [01:00, 21.59it/s]"
     ]
    },
    {
     "name": "stdout",
     "output_type": "stream",
     "text": [
      "  [Batch 1300]  loss: 0.000001\n"
     ]
    },
    {
     "name": "stderr",
     "output_type": "stream",
     "text": [
      "Epoch 1/10: 1402it [01:05, 19.97it/s]"
     ]
    },
    {
     "name": "stdout",
     "output_type": "stream",
     "text": [
      "  [Batch 1400]  loss: 0.000001\n"
     ]
    },
    {
     "name": "stderr",
     "output_type": "stream",
     "text": [
      "Epoch 1/10: 1504it [01:09, 21.84it/s]"
     ]
    },
    {
     "name": "stdout",
     "output_type": "stream",
     "text": [
      "  [Batch 1500]  loss: 0.000001\n"
     ]
    },
    {
     "name": "stderr",
     "output_type": "stream",
     "text": [
      "Epoch 1/10: 1603it [01:14, 23.17it/s]"
     ]
    },
    {
     "name": "stdout",
     "output_type": "stream",
     "text": [
      "  [Batch 1600]  loss: 0.000001\n"
     ]
    },
    {
     "name": "stderr",
     "output_type": "stream",
     "text": [
      "Epoch 1/10: 1702it [01:18, 22.24it/s]"
     ]
    },
    {
     "name": "stdout",
     "output_type": "stream",
     "text": [
      "  [Batch 1700]  loss: 0.000001\n"
     ]
    },
    {
     "name": "stderr",
     "output_type": "stream",
     "text": [
      "Epoch 1/10: 1804it [01:23, 22.85it/s]"
     ]
    },
    {
     "name": "stdout",
     "output_type": "stream",
     "text": [
      "  [Batch 1800]  loss: 0.000001\n"
     ]
    },
    {
     "name": "stderr",
     "output_type": "stream",
     "text": [
      "Epoch 1/10: 1903it [01:27, 23.02it/s]"
     ]
    },
    {
     "name": "stdout",
     "output_type": "stream",
     "text": [
      "  [Batch 1900]  loss: 0.000001\n"
     ]
    },
    {
     "name": "stderr",
     "output_type": "stream",
     "text": [
      "Epoch 1/10: 2002it [01:31, 21.91it/s]"
     ]
    },
    {
     "name": "stdout",
     "output_type": "stream",
     "text": [
      "  [Batch 2000]  loss: 0.000001\n"
     ]
    },
    {
     "name": "stderr",
     "output_type": "stream",
     "text": [
      "Epoch 1/10: 2104it [01:36, 22.27it/s]"
     ]
    },
    {
     "name": "stdout",
     "output_type": "stream",
     "text": [
      "  [Batch 2100]  loss: 0.000001\n"
     ]
    },
    {
     "name": "stderr",
     "output_type": "stream",
     "text": [
      "Epoch 1/10: 2203it [01:40, 22.35it/s]"
     ]
    },
    {
     "name": "stdout",
     "output_type": "stream",
     "text": [
      "  [Batch 2200]  loss: 0.000001\n"
     ]
    },
    {
     "name": "stderr",
     "output_type": "stream",
     "text": [
      "Epoch 1/10: 2302it [01:45, 22.70it/s]"
     ]
    },
    {
     "name": "stdout",
     "output_type": "stream",
     "text": [
      "  [Batch 2300]  loss: 0.000001\n"
     ]
    },
    {
     "name": "stderr",
     "output_type": "stream",
     "text": [
      "Epoch 1/10: 2404it [01:49, 22.96it/s]"
     ]
    },
    {
     "name": "stdout",
     "output_type": "stream",
     "text": [
      "  [Batch 2400]  loss: 0.000001\n"
     ]
    },
    {
     "name": "stderr",
     "output_type": "stream",
     "text": [
      "Epoch 1/10: 2503it [01:54, 23.10it/s]"
     ]
    },
    {
     "name": "stdout",
     "output_type": "stream",
     "text": [
      "  [Batch 2500]  loss: 0.000001\n"
     ]
    },
    {
     "name": "stderr",
     "output_type": "stream",
     "text": [
      "Epoch 1/10: 2602it [01:58, 23.18it/s]"
     ]
    },
    {
     "name": "stdout",
     "output_type": "stream",
     "text": [
      "  [Batch 2600]  loss: 0.000001\n"
     ]
    },
    {
     "name": "stderr",
     "output_type": "stream",
     "text": [
      "Epoch 1/10: 2704it [02:02, 23.09it/s]"
     ]
    },
    {
     "name": "stdout",
     "output_type": "stream",
     "text": [
      "  [Batch 2700]  loss: 0.000001\n"
     ]
    },
    {
     "name": "stderr",
     "output_type": "stream",
     "text": [
      "Epoch 1/10: 2803it [02:07, 22.56it/s]"
     ]
    },
    {
     "name": "stdout",
     "output_type": "stream",
     "text": [
      "  [Batch 2800]  loss: 0.000001\n"
     ]
    },
    {
     "name": "stderr",
     "output_type": "stream",
     "text": [
      "Epoch 1/10: 2902it [02:11, 22.16it/s]"
     ]
    },
    {
     "name": "stdout",
     "output_type": "stream",
     "text": [
      "  [Batch 2900]  loss: 0.000001\n"
     ]
    },
    {
     "name": "stderr",
     "output_type": "stream",
     "text": [
      "Epoch 1/10: 3004it [02:16, 22.95it/s]"
     ]
    },
    {
     "name": "stdout",
     "output_type": "stream",
     "text": [
      "  [Batch 3000]  loss: 0.000001\n"
     ]
    },
    {
     "name": "stderr",
     "output_type": "stream",
     "text": [
      "Epoch 1/10: 3103it [02:20, 20.80it/s]"
     ]
    },
    {
     "name": "stdout",
     "output_type": "stream",
     "text": [
      "  [Batch 3100]  loss: 0.000001\n"
     ]
    },
    {
     "name": "stderr",
     "output_type": "stream",
     "text": [
      "Epoch 1/10: 3204it [02:26, 21.74it/s]"
     ]
    },
    {
     "name": "stdout",
     "output_type": "stream",
     "text": [
      "  [Batch 3200]  loss: 0.000001\n"
     ]
    },
    {
     "name": "stderr",
     "output_type": "stream",
     "text": [
      "Epoch 1/10: 3304it [02:31, 22.26it/s]"
     ]
    },
    {
     "name": "stdout",
     "output_type": "stream",
     "text": [
      "  [Batch 3300]  loss: 0.000001\n"
     ]
    },
    {
     "name": "stderr",
     "output_type": "stream",
     "text": [
      "Epoch 1/10: 3401it [02:35, 21.18it/s]"
     ]
    },
    {
     "name": "stdout",
     "output_type": "stream",
     "text": [
      "  [Batch 3400]  loss: 0.000001\n"
     ]
    },
    {
     "name": "stderr",
     "output_type": "stream",
     "text": [
      "Epoch 1/10: 3504it [02:40, 21.31it/s]"
     ]
    },
    {
     "name": "stdout",
     "output_type": "stream",
     "text": [
      "  [Batch 3500]  loss: 0.000001\n"
     ]
    },
    {
     "name": "stderr",
     "output_type": "stream",
     "text": [
      "Epoch 1/10: 3603it [02:45, 21.93it/s]"
     ]
    },
    {
     "name": "stdout",
     "output_type": "stream",
     "text": [
      "  [Batch 3600]  loss: 0.000001\n"
     ]
    },
    {
     "name": "stderr",
     "output_type": "stream",
     "text": [
      "Epoch 1/10: 3701it [02:50, 19.17it/s]"
     ]
    },
    {
     "name": "stdout",
     "output_type": "stream",
     "text": [
      "  [Batch 3700]  loss: 0.000001\n"
     ]
    },
    {
     "name": "stderr",
     "output_type": "stream",
     "text": [
      "Epoch 1/10: 3803it [02:56, 18.29it/s]"
     ]
    },
    {
     "name": "stdout",
     "output_type": "stream",
     "text": [
      "  [Batch 3800]  loss: 0.000001\n"
     ]
    },
    {
     "name": "stderr",
     "output_type": "stream",
     "text": [
      "Epoch 1/10: 3902it [03:00, 22.77it/s]"
     ]
    },
    {
     "name": "stdout",
     "output_type": "stream",
     "text": [
      "  [Batch 3900]  loss: 0.000001\n"
     ]
    },
    {
     "name": "stderr",
     "output_type": "stream",
     "text": [
      "Epoch 1/10: 4002it [03:05, 16.62it/s]"
     ]
    },
    {
     "name": "stdout",
     "output_type": "stream",
     "text": [
      "  [Batch 4000]  loss: 0.000001\n"
     ]
    },
    {
     "name": "stderr",
     "output_type": "stream",
     "text": [
      "Epoch 1/10: 4102it [03:11, 16.48it/s]"
     ]
    },
    {
     "name": "stdout",
     "output_type": "stream",
     "text": [
      "  [Batch 4100]  loss: 0.000001\n"
     ]
    },
    {
     "name": "stderr",
     "output_type": "stream",
     "text": [
      "Epoch 1/10: 4204it [03:16, 21.22it/s]"
     ]
    },
    {
     "name": "stdout",
     "output_type": "stream",
     "text": [
      "  [Batch 4200]  loss: 0.000001\n"
     ]
    },
    {
     "name": "stderr",
     "output_type": "stream",
     "text": [
      "Epoch 1/10: 4303it [03:21, 20.34it/s]"
     ]
    },
    {
     "name": "stdout",
     "output_type": "stream",
     "text": [
      "  [Batch 4300]  loss: 0.000001\n"
     ]
    },
    {
     "name": "stderr",
     "output_type": "stream",
     "text": [
      "Epoch 1/10: 4403it [03:26, 21.96it/s]"
     ]
    },
    {
     "name": "stdout",
     "output_type": "stream",
     "text": [
      "  [Batch 4400]  loss: 0.000001\n"
     ]
    },
    {
     "name": "stderr",
     "output_type": "stream",
     "text": [
      "Epoch 1/10: 4502it [03:30, 22.56it/s]"
     ]
    },
    {
     "name": "stdout",
     "output_type": "stream",
     "text": [
      "  [Batch 4500]  loss: 0.000001\n"
     ]
    },
    {
     "name": "stderr",
     "output_type": "stream",
     "text": [
      "Epoch 1/10: 4601it [03:35, 20.07it/s]"
     ]
    },
    {
     "name": "stdout",
     "output_type": "stream",
     "text": [
      "  [Batch 4600]  loss: 0.000001\n"
     ]
    },
    {
     "name": "stderr",
     "output_type": "stream",
     "text": [
      "Epoch 1/10: 4702it [03:39, 22.02it/s]"
     ]
    },
    {
     "name": "stdout",
     "output_type": "stream",
     "text": [
      "  [Batch 4700]  loss: 0.000001\n"
     ]
    },
    {
     "name": "stderr",
     "output_type": "stream",
     "text": [
      "Epoch 1/10: 4802it [03:44, 17.93it/s]"
     ]
    },
    {
     "name": "stdout",
     "output_type": "stream",
     "text": [
      "  [Batch 4800]  loss: 0.000001\n"
     ]
    },
    {
     "name": "stderr",
     "output_type": "stream",
     "text": [
      "Epoch 1/10: 4903it [03:49, 16.83it/s]"
     ]
    },
    {
     "name": "stdout",
     "output_type": "stream",
     "text": [
      "  [Batch 4900]  loss: 0.000001\n"
     ]
    },
    {
     "name": "stderr",
     "output_type": "stream",
     "text": [
      "Epoch 1/10: 5004it [03:54, 22.57it/s]"
     ]
    },
    {
     "name": "stdout",
     "output_type": "stream",
     "text": [
      "  [Batch 5000]  loss: 0.000001\n"
     ]
    },
    {
     "name": "stderr",
     "output_type": "stream",
     "text": [
      "Epoch 1/10: 5102it [03:59, 22.04it/s]"
     ]
    },
    {
     "name": "stdout",
     "output_type": "stream",
     "text": [
      "  [Batch 5100]  loss: 0.000001\n"
     ]
    },
    {
     "name": "stderr",
     "output_type": "stream",
     "text": [
      "Epoch 1/10: 5204it [04:04, 22.16it/s]"
     ]
    },
    {
     "name": "stdout",
     "output_type": "stream",
     "text": [
      "  [Batch 5200]  loss: 0.000001\n"
     ]
    },
    {
     "name": "stderr",
     "output_type": "stream",
     "text": [
      "Epoch 1/10: 5291it [04:08, 22.20it/s]"
     ]
    }
   ],
   "source": [
    "from tqdm import tqdm\n",
    "import time\n",
    "\n",
    "num_epochs = 10\n",
    "start = time.time()\n",
    "for epoch in range(1, num_epochs+1):\n",
    "    model.train()\n",
    "    running_loss = 0.0\n",
    "\n",
    "    # tqdm 으로 배치 단위 진행바 감싸기\n",
    "    for batch_idx, (input_ids, masked_pos, target) in enumerate(\n",
    "            tqdm(train_loader, desc=f\"Epoch {epoch}/{num_epochs}\"), 1):\n",
    "\n",
    "        input_ids, masked_pos, target = (\n",
    "            input_ids.to(device),\n",
    "            masked_pos.to(device),\n",
    "            target.to(device),\n",
    "        )\n",
    "        optimizer.zero_grad()\n",
    "        pred = model(input_ids, masked_pos).squeeze(-1)\n",
    "        loss = criterion(pred, target)\n",
    "        loss.backward()\n",
    "        optimizer.step()\n",
    "        running_loss += loss.item()\n",
    "\n",
    "        # (선택) 100 배치마다 로그\n",
    "        if batch_idx % 100 == 0:\n",
    "            tqdm.write(f\"  [Batch {batch_idx}]  loss: {running_loss/batch_idx:.6f}\")\n",
    "\n",
    "    avg_loss = running_loss / batch_idx\n",
    "    print(f\"→ Epoch {epoch}/{num_epochs} done, avg_loss: {avg_loss:.6f}\")\n",
    "\n",
    "print(f\"Total training time: {time.time() - start:.2f}s\")\n"
   ]
  },
  {
   "cell_type": "code",
   "execution_count": 68,
   "id": "e0d51874",
   "metadata": {},
   "outputs": [
    {
     "name": "stdout",
     "output_type": "stream",
     "text": [
      "torch.Size([32, 5, 64])\n",
      "torch.Size([32, 1])\n",
      "torch.Size([32, 64])\n",
      "torch.Size([32, 64])\n"
     ]
    }
   ],
   "source": [
    "print(input_ids.shape)\n",
    "print(masked_pos.shape)\n",
    "print(target.shape)\n",
    "print(pred.shape)"
   ]
  },
  {
   "cell_type": "code",
   "execution_count": null,
   "id": "3598cd58",
   "metadata": {},
   "outputs": [],
   "source": [
    "# 모델 평가 방법\n",
    "import torch.nn.functional as F\n",
    "\n",
    "def rmse(pred: torch.Tensor, target: torch.Tensor) -> torch.Tensor:\n",
    "    \"\"\"\n",
    "    RMSE = Root MSE\n",
    "    RMSE = {1/n*sum((y^-y)**2)}**1/2\n",
    "    \"\"\"\n",
    "    return torch.sqrt(F.mse_loss(pred, target, reduction=\"mean\"))   # √MSE\n",
    "\n",
    "def nmse(pred: torch.Tensor, target: torch.Tensor) -> torch.Tensor:\n",
    "    \"\"\"\n",
    "    Normalized MSE  =  E[‖ŷ − y‖²] / E[‖y‖²]\n",
    "    returns: 스칼라 (배치 평균)\n",
    "    \"\"\"\n",
    "    # (B, …) → (B,)  : 각 샘플별 제곱합\n",
    "    mse_per_sample   = ((pred - target)**2).view(pred.size(0), -1).sum(dim=1)\n",
    "    power_per_sample = (target**2).view(target.size(0), -1).sum(dim=1)\n",
    "    return (mse_per_sample / power_per_sample).mean()\n"
   ]
  },
  {
   "cell_type": "code",
   "execution_count": null,
   "id": "97deedce",
   "metadata": {},
   "outputs": [],
   "source": [
    "# 모델 평가 함수\n",
    "import torch\n",
    "import torch.nn.functional as F\n",
    "\n",
    "# ─────────────────────────────────────────\n",
    "# 1. 배치 단위 RMSE, NMSE 함수\n",
    "# ─────────────────────────────────────────\n",
    "def rmse(pred: torch.Tensor, target: torch.Tensor) -> torch.Tensor:\n",
    "    \"\"\"\n",
    "    Root-Mean-Squared Error\n",
    "    returns: 스칼라 (배치 평균)\n",
    "    \"\"\"\n",
    "    return torch.sqrt(F.mse_loss(pred, target, reduction=\"mean\"))   # √MSE\n",
    "\n",
    "def nmse(pred: torch.Tensor, target: torch.Tensor) -> torch.Tensor:\n",
    "    \"\"\"\n",
    "    Normalized MSE  =  E[‖ŷ − y‖²] / E[‖y‖²]\n",
    "      · 채널 예측 분야에서 흔히 쓰는 지표\n",
    "    returns: 스칼라 (배치 평균)\n",
    "    \"\"\"\n",
    "    # (B, …) → (B,)  : 각 샘플별 제곱합\n",
    "    mse_per_sample   = ((pred - target)**2).view(pred.size(0), -1).sum(dim=1)\n",
    "    power_per_sample = (target**2).view(target.size(0), -1).sum(dim=1)\n",
    "    return (mse_per_sample / power_per_sample).mean()\n",
    "\n",
    "\n",
    "# ─────────────────────────────────────────\n",
    "# 2. 검증 루프 예시\n",
    "# ─────────────────────────────────────────\n",
    "def evaluate(model, loader, device=\"cuda\"):\n",
    "    model.eval()\n",
    "    total_rmse, total_nmse = 0.0, 0.0\n",
    "\n",
    "    with torch.no_grad():\n",
    "        for input_ids, masked_pos, target in loader:\n",
    "            input_ids  = input_ids.to(device)\n",
    "            masked_pos = masked_pos.to(device)\n",
    "            target     = target.to(device)\n",
    "\n",
    "            pred = model(input_ids, masked_pos)\n",
    "\n",
    "            total_rmse += rmse(pred, target).item() * input_ids.size(0)\n",
    "            total_nmse += nmse(pred, target).item() * input_ids.size(0)\n",
    "\n",
    "    N = len(loader.dataset)\n",
    "    return {\n",
    "        \"RMSE\": total_rmse / N,\n",
    "        \"NMSE\": total_nmse / N\n",
    "    }\n"
   ]
  },
  {
   "cell_type": "code",
   "execution_count": null,
   "id": "1670cdec",
   "metadata": {},
   "outputs": [],
   "source": [
    "num_epochs = 30\n",
    "patience_counter = 0\n",
    "\n",
    "for epoch in range(1, num_epochs + 1):\n",
    "    # ──────────── ① 학습 ────────────\n",
    "    model.train()\n",
    "    for input_ids, masked_pos, target in train_loader:\n",
    "        input_ids  = input_ids.to(device)\n",
    "        masked_pos = masked_pos.to(device)\n",
    "        target     = target.to(device)\n",
    "\n",
    "        pred = model(input_ids, masked_pos)\n",
    "        loss = criterion(pred, target)\n",
    "\n",
    "        optimizer.zero_grad()\n",
    "        loss.backward()\n",
    "        optimizer.step()\n",
    "\n",
    "    # ──────────── ② 검증 ────────────\n",
    "    metrics = evaluate(model, val_loader, device)\n",
    "    rmse_val, nmse_val = metrics[\"RMSE\"], metrics[\"NMSE\"]\n",
    "\n",
    "    # ──────────── ③ 로그 출력 ────────────\n",
    "    print(f\"[Epoch {epoch:02d}]  \"\n",
    "          f\"val_RMSE = {rmse_val:.4f}   \"\n",
    "          f\"val_NMSE = {nmse_val:.4e}   \"\n",
    "          f\"val_NMSE(dB) = {10*torch.log10(torch.tensor(nmse_val)):.2f} dB\")\n"
   ]
  },
  {
   "cell_type": "code",
   "execution_count": null,
   "id": "5e7b169d",
   "metadata": {},
   "outputs": [],
   "source": []
  },
  {
   "cell_type": "code",
   "execution_count": null,
   "id": "f6932b03",
   "metadata": {},
   "outputs": [],
   "source": []
  },
  {
   "cell_type": "code",
   "execution_count": null,
   "id": "b5a9fbc8",
   "metadata": {},
   "outputs": [],
   "source": []
  }
 ],
 "metadata": {
  "kernelspec": {
   "display_name": "Python 3 (ipykernel)",
   "language": "python",
   "name": "python3"
  },
  "language_info": {
   "codemirror_mode": {
    "name": "ipython",
    "version": 3
   },
   "file_extension": ".py",
   "mimetype": "text/x-python",
   "name": "python",
   "nbconvert_exporter": "python",
   "pygments_lexer": "ipython3",
   "version": "3.11.3"
  }
 },
 "nbformat": 4,
 "nbformat_minor": 5
}
